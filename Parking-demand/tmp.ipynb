{
 "cells": [
  {
   "cell_type": "code",
   "execution_count": 2,
   "metadata": {},
   "outputs": [
    {
     "data": {
      "text/html": [
       "'C:/Users/alsdu/dacon'"
      ],
      "text/latex": [
       "'C:/Users/alsdu/dacon'"
      ],
      "text/markdown": [
       "'C:/Users/alsdu/dacon'"
      ],
      "text/plain": [
       "[1] \"C:/Users/alsdu/dacon\""
      ]
     },
     "metadata": {},
     "output_type": "display_data"
    }
   ],
   "source": [
    "getwd()"
   ]
  },
  {
   "cell_type": "code",
   "execution_count": 3,
   "metadata": {},
   "outputs": [],
   "source": [
    "setwd(\"C:/dacon/re\")"
   ]
  },
  {
   "cell_type": "code",
   "execution_count": 28,
   "metadata": {},
   "outputs": [],
   "source": [
    "train<-read.table(\"train0730.out-fee.csv\", sep=',', header=T)"
   ]
  },
  {
   "cell_type": "code",
   "execution_count": null,
   "metadata": {},
   "outputs": [],
   "source": [
    "test<-read.table(\"test0730.out-fee.csv\", sep=',', header=T)"
   ]
  },
  {
   "cell_type": "markdown",
   "metadata": {},
   "source": [
    "## 그냥에서 아웃라이어만 처리하기"
   ]
  },
  {
   "cell_type": "markdown",
   "metadata": {},
   "source": [
    "### train"
   ]
  },
  {
   "cell_type": "code",
   "execution_count": 11,
   "metadata": {},
   "outputs": [
    {
     "data": {
      "text/html": [
       "<table>\n",
       "<tbody>\n",
       "\t<tr><td> 7126000</td></tr>\n",
       "\t<tr><td>15491750</td></tr>\n",
       "\t<tr><td>19819000</td></tr>\n",
       "\t<tr><td>27916500</td></tr>\n",
       "\t<tr><td>46550000</td></tr>\n",
       "</tbody>\n",
       "</table>\n"
      ],
      "text/latex": [
       "\\begin{tabular}{l}\n",
       "\t  7126000\\\\\n",
       "\t 15491750\\\\\n",
       "\t 19819000\\\\\n",
       "\t 27916500\\\\\n",
       "\t 46550000\\\\\n",
       "\\end{tabular}\n"
      ],
      "text/markdown": [
       "\n",
       "|  7126000 |\n",
       "| 15491750 |\n",
       "| 19819000 |\n",
       "| 27916500 |\n",
       "| 46550000 |\n",
       "\n"
      ],
      "text/plain": [
       "     [,1]    \n",
       "[1,]  7126000\n",
       "[2,] 15491750\n",
       "[3,] 19819000\n",
       "[4,] 27916500\n",
       "[5,] 46550000"
      ]
     },
     "metadata": {},
     "output_type": "display_data"
    },
    {
     "data": {
      "image/png": "[encoded data removed]",
      "text/plain": [
       "plot without title"
      ]
     },
     "metadata": {},
     "output_type": "display_data"
    }
   ],
   "source": [
    "boxplot(train$Mfee_deposit)$stats"
   ]
  },
  {
   "cell_type": "code",
   "execution_count": 18,
   "metadata": {},
   "outputs": [
    {
     "data": {
      "text/html": [
       "<dl class=dl-horizontal>\n",
       "\t<dt>10%</dt>\n",
       "\t\t<dd>11421000</dd>\n",
       "\t<dt>20%</dt>\n",
       "\t\t<dd>14404000</dd>\n",
       "\t<dt>30%</dt>\n",
       "\t\t<dd>16140000</dd>\n",
       "\t<dt>40%</dt>\n",
       "\t\t<dd>17514500</dd>\n",
       "\t<dt>50%</dt>\n",
       "\t\t<dd>19819000</dd>\n",
       "\t<dt>60%</dt>\n",
       "\t\t<dd>22173000</dd>\n",
       "\t<dt>70%</dt>\n",
       "\t\t<dd>25293000</dd>\n",
       "\t<dt>80%</dt>\n",
       "\t\t<dd>31834000</dd>\n",
       "\t<dt>90%</dt>\n",
       "\t\t<dd>4e+07</dd>\n",
       "\t<dt>95%</dt>\n",
       "\t\t<dd>51309000</dd>\n",
       "\t<dt>96%</dt>\n",
       "\t\t<dd>53847400</dd>\n",
       "\t<dt>97%</dt>\n",
       "\t\t<dd>67159580</dd>\n",
       "\t<dt>98%</dt>\n",
       "\t\t<dd>69480000</dd>\n",
       "\t<dt>98.5%</dt>\n",
       "\t\t<dd>77079425.0000001</dd>\n",
       "\t<dt>99%</dt>\n",
       "\t\t<dd>82907399.9999999</dd>\n",
       "\t<dt>100%</dt>\n",
       "\t\t<dd>134035000</dd>\n",
       "</dl>\n"
      ],
      "text/latex": [
       "\\begin{description*}\n",
       "\\item[10\\textbackslash{}\\%] 11421000\n",
       "\\item[20\\textbackslash{}\\%] 14404000\n",
       "\\item[30\\textbackslash{}\\%] 16140000\n",
       "\\item[40\\textbackslash{}\\%] 17514500\n",
       "\\item[50\\textbackslash{}\\%] 19819000\n",
       "\\item[60\\textbackslash{}\\%] 22173000\n",
       "\\item[70\\textbackslash{}\\%] 25293000\n",
       "\\item[80\\textbackslash{}\\%] 31834000\n",
       "\\item[90\\textbackslash{}\\%] 4e+07\n",
       "\\item[95\\textbackslash{}\\%] 51309000\n",
       "\\item[96\\textbackslash{}\\%] 53847400\n",
       "\\item[97\\textbackslash{}\\%] 67159580\n",
       "\\item[98\\textbackslash{}\\%] 69480000\n",
       "\\item[98.5\\textbackslash{}\\%] 77079425.0000001\n",
       "\\item[99\\textbackslash{}\\%] 82907399.9999999\n",
       "\\item[100\\textbackslash{}\\%] 134035000\n",
       "\\end{description*}\n"
      ],
      "text/markdown": [
       "10%\n",
       ":   1142100020%\n",
       ":   1440400030%\n",
       ":   1614000040%\n",
       ":   1751450050%\n",
       ":   1981900060%\n",
       ":   2217300070%\n",
       ":   2529300080%\n",
       ":   3183400090%\n",
       ":   4e+0795%\n",
       ":   5130900096%\n",
       ":   5384740097%\n",
       ":   6715958098%\n",
       ":   6948000098.5%\n",
       ":   77079425.000000199%\n",
       ":   82907399.9999999100%\n",
       ":   134035000\n",
       "\n"
      ],
      "text/plain": [
       "      10%       20%       30%       40%       50%       60%       70%       80% \n",
       " 11421000  14404000  16140000  17514500  19819000  22173000  25293000  31834000 \n",
       "      90%       95%       96%       97%       98%     98.5%       99%      100% \n",
       " 40000000  51309000  53847400  67159580  69480000  77079425  82907400 134035000 "
      ]
     },
     "metadata": {},
     "output_type": "display_data"
    },
    {
     "data": {
      "text/plain": [
       "\n",
       "  7126000   7172000   7200000   7204000   7527000   7645000   8050000   8377000 \n",
       "        1         1         1         1         1         1         1         1 \n",
       "  8564000   8598000   8762500   8778000     9e+06   9061000   9074000   9154000 \n",
       "        1         1         1         1         1         1         1         1 \n",
       "  9247000   9447000   9450000   9461000   9506000   9611000   9672000   9719000 \n",
       "        1         1         1         1         1         1         1         1 \n",
       "  9755500   9972000   9984000  10215000  10244000  10346000  10450000  10514000 \n",
       "        1         1         1         1         1         1         1         2 \n",
       " 10808500  10923000  11147000  11300000  11321500  11333000  11397000  11421000 \n",
       "        1         1         2         1         1         1         1         1 \n",
       " 11430000  11533000  11879000  12089000  12234000  12254000  12386000  12387000 \n",
       "        1         1         1         1         1         1         1         1 \n",
       " 12392000  12460000  12483000  12558000  12571000  12646000  12666500  12905500 \n",
       "        1         1         1         1         1         1         1         1 \n",
       " 12947000  12972000  12980000  13022000  13101000  13155000  13216000  13221000 \n",
       "        1         1         1         1         1         1         1         1 \n",
       " 13253500  13335000  13592500  13625000  13645000  13655500  13700000  13731000 \n",
       "        1         1         1         1         1         1         1         1 \n",
       " 13759000  13909000  13930000  13979000  14005000  14213000  14215000  14264000 \n",
       "        1         1         1         1         1         1         1         1 \n",
       " 14404000  14418000  14614500  14742000  14830000  14863000  15005000  15026000 \n",
       "        1         3         1         1         1         2         1         1 \n",
       " 15046000  15080000  15198000  15249500  15250000  15360000  15406500  15407000 \n",
       "        1         1         1         1         1         1         1         1 \n",
       " 15472000  15483500  15500000  15580000  15583000  15590000  15591000  15620000 \n",
       "        1         1         1         2         1         1         1         2 \n",
       " 15728500  15729000  15740000  15776000  15791000  15847500  15979000  15992000 \n",
       "        1         2         1         1         1         1         1         1 \n",
       " 16102000  16104000  16129000  16140000  16168000  16213000  16236000  16243000 \n",
       "        1         1         1         1         1         1         1         1 \n",
       " 16263500  16288000  16343000  16348000  16465000  16507000  16515500  16652000 \n",
       "        1         1         1         1         1         1         1         1 \n",
       " 16722000  16737000  16785000  16789000  16811000  16821000  16821500  16851500 \n",
       "        1         1         1         1         1         1         2         1 \n",
       " 16852000  16853500  16954000  17228000  17281000  17302000  17342000  17362000 \n",
       "        1         1         1         1         1         1         4         1 \n",
       " 17362500  17387000  17395000  17414000  17477000  17497500  17514500  17651000 \n",
       "        1         1         1         1         3         1         1         1 \n",
       " 17704000  17851000  17962000  17989000  18075000  18101000  18140000  18173000 \n",
       "        1         1         1         1         1         1         1         1 \n",
       " 18175000  18225000  18301000  18360500  18425000  18433000  18488000  18581000 \n",
       "        1         1         1         1         1         1         1         1 \n",
       " 18707000  18717500  18726000  18771500  18783000  18792000  18865500  18890500 \n",
       "        1         1         3         1         1         1         1         1 \n",
       " 18968000  19026000  19204000  19221000  19225000  19343000  19384500  19451000 \n",
       "        1         1         1         1         1         1         1         1 \n",
       " 19661000  19720000  19787000  19819000  19893000  19897000  19953000  19973000 \n",
       "        1         1         1         3         1         1         2         2 \n",
       " 19975000  20121000  20122000  20173000  20221000  20269000  20345000  20387500 \n",
       "        1         1         1         1         1         1         1         1 \n",
       " 20493000  20523500  20525000  20562500  20645000  20680000  20779500  20802000 \n",
       "        1         1         1         1         1         1         1         2 \n",
       " 20840000  20847500  20870000  20874000  20970000  20971000  21015000  21024000 \n",
       "        1         2         1         1         1         1         1         1 \n",
       " 21158500  21221000  21419500  21420000  21555000  21628000  21657500  22173000 \n",
       "        1         1         1         1         1         1         1         2 \n",
       " 22297000  22419000  22440000  22471000  22581000  22628000  22793000  22832000 \n",
       "        2         1         1         2         1         1         1         1 \n",
       " 22895000  23013500  23139000  23370000  23430500  23473000  23496000  23520000 \n",
       "        1         1         1         1         1         1         1         1 \n",
       " 23687000  23733000  23830000  23844000  23970000  24093000  24147500  24350000 \n",
       "        1         1         1         1         1         2         1         1 \n",
       " 24520000  24639000  24665000  24775000  24814000  25023000  25096000  25200000 \n",
       "        1         1         3         2         1         1         1         1 \n",
       " 25224000  25233000  25293000  25468000  25504000  25592500  25964000   2.6e+07 \n",
       "        1         1         1         1         1         1         1         2 \n",
       " 26005000  26217000  26258000  26642000  26673000  26851000  27043800  27274000 \n",
       "        1         3         1         1         1         1         1         1 \n",
       " 27465500  27637000  27640000  27872000  27961000  27996000   2.8e+07  28214000 \n",
       "        1         1         1         1         1         1         1         1 \n",
       " 28491000  28714000  28856000  29086000  29621000     3e+07  30709000  30928000 \n",
       "        2         1         1         1         1         1         1         1 \n",
       " 30969500  31210000  31242000  31342500  31711000  31834000  31835000  31958000 \n",
       "        1         2         1         1         2         1         1         2 \n",
       " 32114500  32146500  32208000  32287500  32443000  32454000  32500000  32896000 \n",
       "        1         1         1         1         3         1         1         1 \n",
       "  3.3e+07  33400000  33448000  34082000  34400000  34810000  34967000   3.5e+07 \n",
       "        1         1         1         2         1         4         1         1 \n",
       " 35455000  35462000  35700000  36036000  36095000  36113000  36242000  37163000 \n",
       "        1         1         1         1         1         1         1         1 \n",
       " 37419000  37454000  37474000   3.9e+07  39349000  39354500  39668000     4e+07 \n",
       "        1         1         1         1         1         1         1         1 \n",
       " 40572000  40880000  41253000  41377000  41505000  41697000  42680000  42909000 \n",
       "        1         1         1         1         1         1         1         1 \n",
       "  4.3e+07  43990000   4.4e+07  44387000   4.5e+07  45747000  46550000  47288000 \n",
       "        2         1         2         1         1         1         1         1 \n",
       " 48844000  50657000  51961000   5.3e+07  53420500  54132000   5.5e+07   5.7e+07 \n",
       "        1         1         1         2         1         1         1         1 \n",
       " 65856600  67718000   6.9e+07  69600000  71409500  78080000  79500000  83286000 \n",
       "        1         1         3         1         1         1         1         1 \n",
       " 90237000 107156500 123711000 134035000 \n",
       "        1         1         1         1 "
      ]
     },
     "metadata": {},
     "output_type": "display_data"
    }
   ],
   "source": [
    "quantile(train$Mfee_deposit, probs=c(0.1, 0.2, 0.3, 0.4, 0.5, 0.6, 0.7, 0.8, 0.9 , 0.95 , 0.96, 0.97, 0.98, 0.985, 0.99, 1))\n",
    "table(train$Mfee_deposit)"
   ]
  },
  {
   "cell_type": "code",
   "execution_count": 29,
   "metadata": {},
   "outputs": [],
   "source": [
    "train$Mfee_deposit<-ifelse(train$Mfee_deposit>= 77079425.0000001 , 77079425.0000001 , train$Mfee_deposit)\n",
    "\n",
    "#98.5%   98.5%     77079425.0000001 \n"
   ]
  },
  {
   "cell_type": "code",
   "execution_count": 20,
   "metadata": {
    "scrolled": true
   },
   "outputs": [
    {
     "data": {
      "image/png": "[encoded data removed]",
      "text/plain": [
       "plot without title"
      ]
     },
     "metadata": {},
     "output_type": "display_data"
    }
   ],
   "source": [
    "boxplot(train$Mfee_deposit)"
   ]
  },
  {
   "cell_type": "code",
   "execution_count": 16,
   "metadata": {},
   "outputs": [
    {
     "data": {
      "text/html": [
       "<table>\n",
       "<tbody>\n",
       "\t<tr><td> 2711500</td></tr>\n",
       "\t<tr><td>14979500</td></tr>\n",
       "\t<tr><td>19891500</td></tr>\n",
       "\t<tr><td>27465500</td></tr>\n",
       "\t<tr><td>44717000</td></tr>\n",
       "</tbody>\n",
       "</table>\n"
      ],
      "text/latex": [
       "\\begin{tabular}{l}\n",
       "\t  2711500\\\\\n",
       "\t 14979500\\\\\n",
       "\t 19891500\\\\\n",
       "\t 27465500\\\\\n",
       "\t 44717000\\\\\n",
       "\\end{tabular}\n"
      ],
      "text/markdown": [
       "\n",
       "|  2711500 |\n",
       "| 14979500 |\n",
       "| 19891500 |\n",
       "| 27465500 |\n",
       "| 44717000 |\n",
       "\n"
      ],
      "text/plain": [
       "     [,1]    \n",
       "[1,]  2711500\n",
       "[2,] 14979500\n",
       "[3,] 19891500\n",
       "[4,] 27465500\n",
       "[5,] 44717000"
      ]
     },
     "metadata": {},
     "output_type": "display_data"
    },
    {
     "data": {
      "image/png": "[encoded data removed]",
      "text/plain": [
       "plot without title"
      ]
     },
     "metadata": {},
     "output_type": "display_data"
    }
   ],
   "source": [
    "boxplot(test$Mfee_deposit)$stats"
   ]
  },
  {
   "cell_type": "code",
   "execution_count": 23,
   "metadata": {},
   "outputs": [
    {
     "data": {
      "text/html": [
       "<ol class=list-inline>\n",
       "\t<li>21120</li>\n",
       "\t<li>118160</li>\n",
       "\t<li>154350</li>\n",
       "\t<li>216165</li>\n",
       "\t<li>340925</li>\n",
       "</ol>\n"
      ],
      "text/latex": [
       "\\begin{enumerate*}\n",
       "\\item 21120\n",
       "\\item 118160\n",
       "\\item 154350\n",
       "\\item 216165\n",
       "\\item 340925\n",
       "\\end{enumerate*}\n"
      ],
      "text/markdown": [
       "1. 21120\n",
       "2. 118160\n",
       "3. 154350\n",
       "4. 216165\n",
       "5. 340925\n",
       "\n",
       "\n"
      ],
      "text/plain": [
       "       [,1]\n",
       "[1,]  21120\n",
       "[2,] 118160\n",
       "[3,] 154350\n",
       "[4,] 216165\n",
       "[5,] 340925\n",
       "attr(,\"class\")\n",
       "        1 \n",
       "\"integer\" "
      ]
     },
     "metadata": {},
     "output_type": "display_data"
    },
    {
     "data": {
      "image/png": "[encoded data removed]",
      "text/plain": [
       "plot without title"
      ]
     },
     "metadata": {},
     "output_type": "display_data"
    }
   ],
   "source": [
    "boxplot(train$Mfee_rent)$stats"
   ]
  },
  {
   "cell_type": "code",
   "execution_count": 24,
   "metadata": {},
   "outputs": [
    {
     "data": {
      "text/html": [
       "<dl class=dl-horizontal>\n",
       "\t<dt>10%</dt>\n",
       "\t\t<dd>95960</dd>\n",
       "\t<dt>20%</dt>\n",
       "\t\t<dd>110500</dd>\n",
       "\t<dt>30%</dt>\n",
       "\t\t<dd>127060</dd>\n",
       "\t<dt>40%</dt>\n",
       "\t\t<dd>141680</dd>\n",
       "\t<dt>50%</dt>\n",
       "\t\t<dd>154350</dd>\n",
       "\t<dt>60%</dt>\n",
       "\t\t<dd>174930</dd>\n",
       "\t<dt>70%</dt>\n",
       "\t\t<dd>194720</dd>\n",
       "\t<dt>80%</dt>\n",
       "\t\t<dd>232200</dd>\n",
       "\t<dt>90%</dt>\n",
       "\t\t<dd>305370</dd>\n",
       "\t<dt>95%</dt>\n",
       "\t\t<dd>465000</dd>\n",
       "\t<dt>96%</dt>\n",
       "\t\t<dd>493000</dd>\n",
       "\t<dt>97%</dt>\n",
       "\t\t<dd>520350</dd>\n",
       "\t<dt>98%</dt>\n",
       "\t\t<dd>550000</dd>\n",
       "\t<dt>98.5%</dt>\n",
       "\t\t<dd>590000</dd>\n",
       "\t<dt>99%</dt>\n",
       "\t\t<dd>602914</dd>\n",
       "\t<dt>100%</dt>\n",
       "\t\t<dd>1002190</dd>\n",
       "</dl>\n"
      ],
      "text/latex": [
       "\\begin{description*}\n",
       "\\item[10\\textbackslash{}\\%] 95960\n",
       "\\item[20\\textbackslash{}\\%] 110500\n",
       "\\item[30\\textbackslash{}\\%] 127060\n",
       "\\item[40\\textbackslash{}\\%] 141680\n",
       "\\item[50\\textbackslash{}\\%] 154350\n",
       "\\item[60\\textbackslash{}\\%] 174930\n",
       "\\item[70\\textbackslash{}\\%] 194720\n",
       "\\item[80\\textbackslash{}\\%] 232200\n",
       "\\item[90\\textbackslash{}\\%] 305370\n",
       "\\item[95\\textbackslash{}\\%] 465000\n",
       "\\item[96\\textbackslash{}\\%] 493000\n",
       "\\item[97\\textbackslash{}\\%] 520350\n",
       "\\item[98\\textbackslash{}\\%] 550000\n",
       "\\item[98.5\\textbackslash{}\\%] 590000\n",
       "\\item[99\\textbackslash{}\\%] 602914\n",
       "\\item[100\\textbackslash{}\\%] 1002190\n",
       "\\end{description*}\n"
      ],
      "text/markdown": [
       "10%\n",
       ":   9596020%\n",
       ":   11050030%\n",
       ":   12706040%\n",
       ":   14168050%\n",
       ":   15435060%\n",
       ":   17493070%\n",
       ":   19472080%\n",
       ":   23220090%\n",
       ":   30537095%\n",
       ":   46500096%\n",
       ":   49300097%\n",
       ":   52035098%\n",
       ":   55000098.5%\n",
       ":   59000099%\n",
       ":   602914100%\n",
       ":   1002190\n",
       "\n"
      ],
      "text/plain": [
       "    10%     20%     30%     40%     50%     60%     70%     80%     90%     95% \n",
       "  95960  110500  127060  141680  154350  174930  194720  232200  305370  465000 \n",
       "    96%     97%     98%   98.5%     99%    100% \n",
       " 493000  520350  550000  590000  602914 1002190 "
      ]
     },
     "metadata": {},
     "output_type": "display_data"
    },
    {
     "data": {
      "text/plain": [
       "\n",
       "  21120   26380   27060   35270   37360   40670   42300   43380   50400   58460 \n",
       "      1       1       1       1       1       1       1       1       1       1 \n",
       "  65630   72660   73320   74510   75250   75690   76260   77360   78700   78780 \n",
       "      1       1       1       1       1       1       1       1       1       1 \n",
       "  78885   79970   81540   85000   85460   85580   85710   85760   87960   87980 \n",
       "      1       1       1       1       1       1       1       1       1       1 \n",
       "  88350   88400   89520   90410   90460   91730   93255   93530   93710   94375 \n",
       "      1       1       1       1       1       1       1       1       1       1 \n",
       "  94750   95960   98630   98640   99000   99880  100320  100365  100690  100920 \n",
       "      1       1       1       1       1       1       1       1       1       3 \n",
       " 101110  101390  102130  102215  102350  102620  103410  103725  103875  104840 \n",
       "      1       1       2       1       2       1       1       1       1       1 \n",
       " 105280  105605  105705  106000  106090  107060  107100  107200  107530  107855 \n",
       "      1       1       1       1       2       1       1       1       1       1 \n",
       " 108130  108740  109280  109420  109840  110000  110110  110500  110550  110790 \n",
       "      1       1       1       1       1       1       1       1       1       1 \n",
       " 110850  110960  111470  112010  112500  113375  113560  113950  114140  114225 \n",
       "      1       1       1       1       1       1       1       1       1       1 \n",
       " 115180  116000  117145  117270  117330  117960  118000  118320  118820  118980 \n",
       "      1       1       2       1       1       1       1       1       1       1 \n",
       " 119000  120230  120690  121010  121945  122955  123110  123750  123895  124030 \n",
       "      2       1       1       1       1       1       1       1       1       1 \n",
       " 124720  124800  126575  126665  126720  127060  127200  127320  128000  129640 \n",
       "      2       1       1       1       1       1       1       1       1       1 \n",
       " 130055  130060  131290  131770  131980  132170  132320  132430  132770  132910 \n",
       "      1       1       1       1       1       1       1       3       1       1 \n",
       " 133145  133610  133780  134300  135020  135110  135210  135330  135960  136250 \n",
       "      1       1       1       1       1       1       1       1       1       1 \n",
       " 136710  137310  137320  137625  137655  138570  139330  140810  140995  141000 \n",
       "      1       1       1       1       1       1       1       1       1       1 \n",
       " 141080  141325  141510  141630  141680  141720  141770  142310  142450  143375 \n",
       "      1       1       1       1       1       1       3       3       1       1 \n",
       " 144180  144590  144820  144915  145290  145410  145740  147000  147030  147300 \n",
       "      1       1       1       1       1       1       2       1       1       1 \n",
       " 148630  149000  149175  149275  149740  149760  149810  149870  150000  150190 \n",
       "      1       1       1       1       1       1       1       2       2       1 \n",
       " 151110  151535  152280  152995  153020  153765  154270  154350  155340  155455 \n",
       "      2       1       1       1       1       1       1       1       1       1 \n",
       " 155535  157925  160100  160210  160960  161020  161250  161290  162030  162855 \n",
       "      1       1       1       1       1       1       1       1       1       1 \n",
       " 163680  164480  164610  164770  165200  165640  165865  166665  166685  166930 \n",
       "      1       1       1       3       1       1       1       1       1       1 \n",
       " 168520  168575  168640  168810  169420  170720  170940  170980  171500  171570 \n",
       "      2       1       1       1       1       1       1       1       1       1 \n",
       " 172190  172280  174190  174770  174930  175260  175410  175500  175780  175900 \n",
       "      2       1       1       1       1       1       1       1       1       1 \n",
       " 176230  176635  177500  179270  179620  180000  180350  181735  181760  183450 \n",
       "      1       2       1       1       1       1       1       1       1       1 \n",
       " 184250  185040  185810  185990  186010  187150  187260  187660  188260  189130 \n",
       "      1       1       1       1       1       1       3       1       1       1 \n",
       " 191380  192000  192250  193180  193230  193550  193955  194210  194620  194720 \n",
       "      1       1       3       2       1       1       1       1       1       1 \n",
       " 195000  198600  200055  200800  200830  201730  202070  204150  205460  206110 \n",
       "      1       1       1       1       1       1       1       1       1       1 \n",
       " 206410  207140  208110  209910  210900  211320  212840  215050  215550  216780 \n",
       "      1       1       1       1       1       1       1       1       2       1 \n",
       " 216870  217210  217735  218475  220430  220780  221980  222200  222560  222970 \n",
       "      1       2       1       1       1       1       2       1       1       1 \n",
       " 225100  227970  229825  231300  231540  232000  232200  235360  236590  237000 \n",
       "      1       1       1       1       1       1       2       1       1       1 \n",
       " 238380  238740  240930  241560  244050  244420  244670  246675  247590  249130 \n",
       "      1       1       1       1       1       1       1       1       1       1 \n",
       " 256040  257630  257660  259660  262700  263440  264350  266490  269150  270660 \n",
       "      1       1       4       1       1       1       1       1       1       1 \n",
       " 276345  276540  277425  277480  281700  283920  284650  285500  291970  295120 \n",
       "      1       1       1       1       1       1       1       1       1       1 \n",
       " 296720  298900  301540  304540  305370  306450  309750  311110  312060  312610 \n",
       "      1       1       1       1       1       1       1       1       1       1 \n",
       " 326760  332510  340925  365000  366015  368980  375000  380000  390000  393750 \n",
       "      1       1       1       1       1       1       2       1       2       1 \n",
       " 430000  450000  460000  470000  480000  483000  490000  495000  510510  520000 \n",
       "      1       1       1       1       1       1       1       1       1       2 \n",
       " 520500  535000  547410  550000  590000  597820  603480  620000  627080  630000 \n",
       "      1       1       1       2       2       1       1       1       1       1 \n",
       "1002190 \n",
       "      1 "
      ]
     },
     "metadata": {},
     "output_type": "display_data"
    }
   ],
   "source": [
    "quantile(train$Mfee_rent, probs=c(0.1, 0.2, 0.3, 0.4, 0.5, 0.6, 0.7, 0.8, 0.9 , 0.95 , 0.96, 0.97, 0.98, 0.985, 0.99, 1))\n",
    "table(train$Mfee_rent)"
   ]
  },
  {
   "cell_type": "code",
   "execution_count": 30,
   "metadata": {},
   "outputs": [
    {
     "data": {
      "image/png": "[encoded data removed]",
      "text/plain": [
       "plot without title"
      ]
     },
     "metadata": {},
     "output_type": "display_data"
    }
   ],
   "source": [
    "train$Mfee_rent<-ifelse(train$Mfee_rent>= 590000 , 590000 , train$Mfee_rent)\n",
    "\n",
    "\n",
    "##98.5%\n",
    "##590000\n",
    "\n",
    "boxplot(train$Mfee_rent)"
   ]
  },
  {
   "cell_type": "markdown",
   "metadata": {},
   "source": [
    "### test set "
   ]
  },
  {
   "cell_type": "code",
   "execution_count": 31,
   "metadata": {},
   "outputs": [
    {
     "data": {
      "text/html": [
       "<dl class=dl-horizontal>\n",
       "\t<dt>10%</dt>\n",
       "\t\t<dd>11764650</dd>\n",
       "\t<dt>20%</dt>\n",
       "\t\t<dd>14213400</dd>\n",
       "\t<dt>30%</dt>\n",
       "\t\t<dd>16051400</dd>\n",
       "\t<dt>40%</dt>\n",
       "\t\t<dd>18506600</dd>\n",
       "\t<dt>50%</dt>\n",
       "\t\t<dd>19891500</dd>\n",
       "\t<dt>60%</dt>\n",
       "\t\t<dd>22437400</dd>\n",
       "\t<dt>70%</dt>\n",
       "\t\t<dd>25626100</dd>\n",
       "\t<dt>80%</dt>\n",
       "\t\t<dd>31959000</dd>\n",
       "\t<dt>90%</dt>\n",
       "\t\t<dd>39948750</dd>\n",
       "\t<dt>95%</dt>\n",
       "\t\t<dd>51462350</dd>\n",
       "\t<dt>96%</dt>\n",
       "\t\t<dd>55205820</dd>\n",
       "\t<dt>97%</dt>\n",
       "\t\t<dd>56587155</dd>\n",
       "\t<dt>98%</dt>\n",
       "\t\t<dd>58038000</dd>\n",
       "\t<dt>98.5%</dt>\n",
       "\t\t<dd>59453500</dd>\n",
       "\t<dt>99%</dt>\n",
       "\t\t<dd>63010999.9999999</dd>\n",
       "\t<dt>100%</dt>\n",
       "\t\t<dd>97541000</dd>\n",
       "</dl>\n"
      ],
      "text/latex": [
       "\\begin{description*}\n",
       "\\item[10\\textbackslash{}\\%] 11764650\n",
       "\\item[20\\textbackslash{}\\%] 14213400\n",
       "\\item[30\\textbackslash{}\\%] 16051400\n",
       "\\item[40\\textbackslash{}\\%] 18506600\n",
       "\\item[50\\textbackslash{}\\%] 19891500\n",
       "\\item[60\\textbackslash{}\\%] 22437400\n",
       "\\item[70\\textbackslash{}\\%] 25626100\n",
       "\\item[80\\textbackslash{}\\%] 31959000\n",
       "\\item[90\\textbackslash{}\\%] 39948750\n",
       "\\item[95\\textbackslash{}\\%] 51462350\n",
       "\\item[96\\textbackslash{}\\%] 55205820\n",
       "\\item[97\\textbackslash{}\\%] 56587155\n",
       "\\item[98\\textbackslash{}\\%] 58038000\n",
       "\\item[98.5\\textbackslash{}\\%] 59453500\n",
       "\\item[99\\textbackslash{}\\%] 63010999.9999999\n",
       "\\item[100\\textbackslash{}\\%] 97541000\n",
       "\\end{description*}\n"
      ],
      "text/markdown": [
       "10%\n",
       ":   1176465020%\n",
       ":   1421340030%\n",
       ":   1605140040%\n",
       ":   1850660050%\n",
       ":   1989150060%\n",
       ":   2243740070%\n",
       ":   2562610080%\n",
       ":   3195900090%\n",
       ":   3994875095%\n",
       ":   5146235096%\n",
       ":   5520582097%\n",
       ":   5658715598%\n",
       ":   5803800098.5%\n",
       ":   5945350099%\n",
       ":   63010999.9999999100%\n",
       ":   97541000\n",
       "\n"
      ],
      "text/plain": [
       "     10%      20%      30%      40%      50%      60%      70%      80% \n",
       "11764650 14213400 16051400 18506600 19891500 22437400 25626100 31959000 \n",
       "     90%      95%      96%      97%      98%    98.5%      99%     100% \n",
       "39948750 51462350 55205820 56587155 58038000 59453500 63011000 97541000 "
      ]
     },
     "metadata": {},
     "output_type": "display_data"
    },
    {
     "data": {
      "text/plain": [
       "\n",
       " 2711500  7800000  7897500  8680000  9150000  9354000  9884000 10141000 \n",
       "       1        1        1        1        1        1        1        1 \n",
       "10305000 10338500 10876000 11401000 11456500 11609000 11748000 11766500 \n",
       "       1        1        1        1        1        1        1        1 \n",
       "11827000 11992000 12279000 12526000 12732000 12736000 12795500 13041000 \n",
       "       1        1        1        1        1        1        1        1 \n",
       "13522500 13625000 13657000 13731000 13949000 14091000 14244000 14356000 \n",
       "       1        1        1        1        1        1        1        1 \n",
       "14494000 14515000 14857500 14964000 14979500 15330000 15483000 15680000 \n",
       "       2        1        1        1        1        1        1        1 \n",
       "15709000 15762000 15791500 15966000 16088000 16229000 16287500 16613000 \n",
       "       1        1        1        1        1        1        1        1 \n",
       "16665000 16789000 16912000 17061000 17288000 17317000 17341000 17837000 \n",
       "       1        1        1        1        1        1        2        1 \n",
       "18023000 18422000 18563000 18581000 18623000 18646000 18726000 18840000 \n",
       "       1        1        1        2        1        1        2        1 \n",
       "19320500 19346000 19446500 19503500 19572000 19819000 19964000 20022000 \n",
       "       1        1        1        1        1        2        1        1 \n",
       "20200000 20400000 21097000 21221000 21442000 21540000 21555000 21628000 \n",
       "       1        1        1        1        1        1        1        1 \n",
       "21701000 21801000 21985000 22173000 22329000 22600000 22876000 23140000 \n",
       "       1        1        1        1        1        1        1        1 \n",
       "23338500 23394000 23473000 23750000 24402000 24665000 24685500 24840000 \n",
       "       1        1        1        1        1        2        1        1 \n",
       "25293000 25394000 25504000 25911000 25964000 26040000 26217000 26933000 \n",
       "       1        1        1        1        1        1        2        1 \n",
       "27320000 27465500 28400000 28491000 28723000 29896500 30101000 31210000 \n",
       "       1        1        1        1        1        1        1        1 \n",
       "31834000 32459000 32478000 32704000 32823000 33400000 34082000 35600000 \n",
       "       1        1        1        1        1        1        1        1 \n",
       "36048000 36658000 37008000 37454000 39772500 41535000 42776000 43014500 \n",
       "       2        1        2        2        1        1        1        1 \n",
       "44098000 44717000    5e+07 50463000 52280000 55185000 55705500 57369000 \n",
       "       1        1        1        1        1        1        1        1 \n",
       " 5.8e+07 59900000  6.6e+07 97541000 \n",
       "       1        1        1        1 "
      ]
     },
     "metadata": {},
     "output_type": "display_data"
    }
   ],
   "source": [
    "quantile(test$Mfee_deposit, probs=c(0.1, 0.2, 0.3, 0.4, 0.5, 0.6, 0.7, 0.8, 0.9 , 0.95 , 0.96, 0.97, 0.98, 0.985, 0.99, 1))\n",
    "table(test$Mfee_deposit)"
   ]
  },
  {
   "cell_type": "code",
   "execution_count": 32,
   "metadata": {},
   "outputs": [],
   "source": [
    "test$Mfee_deposit<-ifelse(test$Mfee_deposit>= 59453500 , 59453500 , test$Mfee_deposit)\n",
    "\n",
    "\n",
    "#98.5%\n",
    "#59453500"
   ]
  },
  {
   "cell_type": "code",
   "execution_count": 33,
   "metadata": {},
   "outputs": [
    {
     "data": {
      "image/png": "[encoded data removed]",
      "text/plain": [
       "plot without title"
      ]
     },
     "metadata": {},
     "output_type": "display_data"
    }
   ],
   "source": [
    "boxplot(test$    Mfee_deposit )"
   ]
  },
  {
   "cell_type": "code",
   "execution_count": 34,
   "metadata": {},
   "outputs": [
    {
     "data": {
      "text/html": [
       "<ol class=list-inline>\n",
       "\t<li>28740</li>\n",
       "\t<li>121380</li>\n",
       "\t<li>143312.5</li>\n",
       "\t<li>219390</li>\n",
       "\t<li>339210</li>\n",
       "</ol>\n"
      ],
      "text/latex": [
       "\\begin{enumerate*}\n",
       "\\item 28740\n",
       "\\item 121380\n",
       "\\item 143312.5\n",
       "\\item 219390\n",
       "\\item 339210\n",
       "\\end{enumerate*}\n"
      ],
      "text/markdown": [
       "1. 28740\n",
       "2. 121380\n",
       "3. 143312.5\n",
       "4. 219390\n",
       "5. 339210\n",
       "\n",
       "\n"
      ],
      "text/plain": [
       "         [,1]\n",
       "[1,]  28740.0\n",
       "[2,] 121380.0\n",
       "[3,] 143312.5\n",
       "[4,] 219390.0\n",
       "[5,] 339210.0\n",
       "attr(,\"class\")\n",
       "        1 \n",
       "\"integer\" "
      ]
     },
     "metadata": {},
     "output_type": "display_data"
    },
    {
     "data": {
      "image/png": "[encoded data removed]",
      "text/plain": [
       "plot without title"
      ]
     },
     "metadata": {},
     "output_type": "display_data"
    }
   ],
   "source": [
    "boxplot(test$Mfee_rent)$stats"
   ]
  },
  {
   "cell_type": "code",
   "execution_count": 35,
   "metadata": {
    "scrolled": true
   },
   "outputs": [
    {
     "data": {
      "text/html": [
       "<dl class=dl-horizontal>\n",
       "\t<dt>10%</dt>\n",
       "\t\t<dd>100403</dd>\n",
       "\t<dt>20%</dt>\n",
       "\t\t<dd>117612</dd>\n",
       "\t<dt>30%</dt>\n",
       "\t\t<dd>124532</dd>\n",
       "\t<dt>40%</dt>\n",
       "\t\t<dd>130070</dd>\n",
       "\t<dt>50%</dt>\n",
       "\t\t<dd>143312.5</dd>\n",
       "\t<dt>60%</dt>\n",
       "\t\t<dd>169415</dd>\n",
       "\t<dt>70%</dt>\n",
       "\t\t<dd>209155</dd>\n",
       "\t<dt>80%</dt>\n",
       "\t\t<dd>232274</dd>\n",
       "\t<dt>90%</dt>\n",
       "\t\t<dd>272702.5</dd>\n",
       "\t<dt>95%</dt>\n",
       "\t\t<dd>332916.75</dd>\n",
       "\t<dt>96%</dt>\n",
       "\t\t<dd>451200</dd>\n",
       "\t<dt>97%</dt>\n",
       "\t\t<dd>481590</dd>\n",
       "\t<dt>98%</dt>\n",
       "\t\t<dd>520311.8</dd>\n",
       "\t<dt>98.5%</dt>\n",
       "\t\t<dd>531926.35</dd>\n",
       "\t<dt>99%</dt>\n",
       "\t\t<dd>539879.1</dd>\n",
       "\t<dt>100%</dt>\n",
       "\t\t<dd>550000</dd>\n",
       "</dl>\n"
      ],
      "text/latex": [
       "\\begin{description*}\n",
       "\\item[10\\textbackslash{}\\%] 100403\n",
       "\\item[20\\textbackslash{}\\%] 117612\n",
       "\\item[30\\textbackslash{}\\%] 124532\n",
       "\\item[40\\textbackslash{}\\%] 130070\n",
       "\\item[50\\textbackslash{}\\%] 143312.5\n",
       "\\item[60\\textbackslash{}\\%] 169415\n",
       "\\item[70\\textbackslash{}\\%] 209155\n",
       "\\item[80\\textbackslash{}\\%] 232274\n",
       "\\item[90\\textbackslash{}\\%] 272702.5\n",
       "\\item[95\\textbackslash{}\\%] 332916.75\n",
       "\\item[96\\textbackslash{}\\%] 451200\n",
       "\\item[97\\textbackslash{}\\%] 481590\n",
       "\\item[98\\textbackslash{}\\%] 520311.8\n",
       "\\item[98.5\\textbackslash{}\\%] 531926.35\n",
       "\\item[99\\textbackslash{}\\%] 539879.1\n",
       "\\item[100\\textbackslash{}\\%] 550000\n",
       "\\end{description*}\n"
      ],
      "text/markdown": [
       "10%\n",
       ":   10040320%\n",
       ":   11761230%\n",
       ":   12453240%\n",
       ":   13007050%\n",
       ":   143312.560%\n",
       ":   16941570%\n",
       ":   20915580%\n",
       ":   23227490%\n",
       ":   272702.595%\n",
       ":   332916.7596%\n",
       ":   45120097%\n",
       ":   48159098%\n",
       ":   520311.898.5%\n",
       ":   531926.3599%\n",
       ":   539879.1100%\n",
       ":   550000\n",
       "\n"
      ],
      "text/plain": [
       "     10%      20%      30%      40%      50%      60%      70%      80% \n",
       "100403.0 117612.0 124532.0 130070.0 143312.5 169415.0 209155.0 232274.0 \n",
       "     90%      95%      96%      97%      98%    98.5%      99%     100% \n",
       "272702.5 332916.7 451200.0 481590.0 520311.8 531926.3 539879.1 550000.0 "
      ]
     },
     "metadata": {},
     "output_type": "display_data"
    },
    {
     "data": {
      "text/plain": [
       "\n",
       " 28740  29875  50800  60345  69315  71950  77945  84350  86695  93110  95050 \n",
       "     1      1      1      1      1      1      1      1      2      1      1 \n",
       " 97350  97420  97550 100720 100920 101150 104160 107760 108915 109230 110005 \n",
       "     1      1      1      1      1      1      1      1      1      1      1 \n",
       "110010 111470 114830 115000 115335 115500 117060 117750 119000 119960 120145 \n",
       "     1      1      1      1      1      1      1      1      1      1      1 \n",
       "120400 121070 121380 121650 122000 122630 122670 123160 123440 125000 125500 \n",
       "     2      1      1      1      1      2      1      1      1      1      1 \n",
       "125735 126160 126430 127000 127080 127200 128100 128350 129030 129190 129430 \n",
       "     1      1      1      2      1      1      1      1      1      1      1 \n",
       "130070 131000 131070 131770 132015 132160 132520 134190 136250 138505 142000 \n",
       "     2      1      1      1      1      1      1      1      2      1      1 \n",
       "142310 142445 143115 143510 145120 146780 149810 151110 151370 152000 153790 \n",
       "     1      1      1      1      1      1      2      1      1      1      1 \n",
       "155400 160740 165790 167230 169105 169880 169885 172590 174190 178800 179620 \n",
       "     1      1      1      2      1      1      1      1      1      1      1 \n",
       "181400 181710 182930 187260 188935 189270 208680 208840 209890 212500 213760 \n",
       "     1      1      1      2      1      1      1      1      1      1      1 \n",
       "214710 217830 217960 218475 219390 221775 221980 222355 222970 228365 232200 \n",
       "     1      1      1      1      1      1      2      1      1      1      1 \n",
       "232570 234300 234350 238740 240930 249375 249930 253520 253935 255690 259660 \n",
       "     1      1      1      1      1      1      1      2      1      1      2 \n",
       "265725 272630 273355 298900 300400 302800 309050 309580 325225 339210 450000 \n",
       "     1      1      1      1      1      1      1      1      1      1      1 \n",
       "480000 483000 520000 535590 544000 550000 \n",
       "     1      1      1      1      1      1 "
      ]
     },
     "metadata": {},
     "output_type": "display_data"
    }
   ],
   "source": [
    "quantile(test$Mfee_rent, probs=c(0.1, 0.2, 0.3, 0.4, 0.5, 0.6, 0.7, 0.8, 0.9 , 0.95 , 0.96, 0.97, 0.98, 0.985, 0.99, 1))\n",
    "table(test$Mfee_rent)"
   ]
  },
  {
   "cell_type": "code",
   "execution_count": 36,
   "metadata": {},
   "outputs": [],
   "source": [
    "test$Mfee_rent<-ifelse(test$Mfee_rent>= 531926.35, 531926.35,test$Mfee_rent)\n",
    "\n",
    "## 0.985 531926.35"
   ]
  },
  {
   "cell_type": "code",
   "execution_count": 38,
   "metadata": {},
   "outputs": [
    {
     "data": {
      "image/png": "[encoded data removed]",
      "text/plain": [
       "plot without title"
      ]
     },
     "metadata": {},
     "output_type": "display_data"
    }
   ],
   "source": [
    "boxplot(test$Mfee_rent)"
   ]
  },
  {
   "cell_type": "markdown",
   "metadata": {},
   "source": [
    "### 저장"
   ]
  },
  {
   "cell_type": "code",
   "execution_count": 39,
   "metadata": {},
   "outputs": [],
   "source": [
    "write.csv(train,\"train0730.fi1.csv\", row.names=F)\n",
    "write.csv(test,\"test0730.fi1.csv\", row.names=F)"
   ]
  },
  {
   "cell_type": "markdown",
   "metadata": {},
   "source": [
    "## 로그트랜스->아웃라이어"
   ]
  },
  {
   "cell_type": "code",
   "execution_count": 44,
   "metadata": {},
   "outputs": [],
   "source": [
    "train<-read.table(\"train0730.out-fee.csv\", sep=',', header=T)\n",
    "test<-read.table(\"test0730.out-fee.csv\", sep=',', header=T)"
   ]
  },
  {
   "cell_type": "code",
   "execution_count": 45,
   "metadata": {},
   "outputs": [],
   "source": [
    "train$log_Mfee_deposit<-log(train$Mfee_deposit)\n",
    "train$log_Mfee_rent<-log(train$Mfee_rent)\n",
    "test$log_Mfee_deposit<-log(test$Mfee_deposit)\n",
    "test$log_Mfee_rent<-log(test$Mfee_rent)"
   ]
  },
  {
   "cell_type": "code",
   "execution_count": 46,
   "metadata": {
    "scrolled": true
   },
   "outputs": [
    {
     "data": {
      "text/html": [
       "<table>\n",
       "<tbody>\n",
       "\t<tr><td>15.77926</td></tr>\n",
       "\t<tr><td>16.55582</td></tr>\n",
       "\t<tr><td>16.80215</td></tr>\n",
       "\t<tr><td>17.14473</td></tr>\n",
       "\t<tr><td>18.00299</td></tr>\n",
       "</tbody>\n",
       "</table>\n"
      ],
      "text/latex": [
       "\\begin{tabular}{l}\n",
       "\t 15.77926\\\\\n",
       "\t 16.55582\\\\\n",
       "\t 16.80215\\\\\n",
       "\t 17.14473\\\\\n",
       "\t 18.00299\\\\\n",
       "\\end{tabular}\n"
      ],
      "text/markdown": [
       "\n",
       "| 15.77926 |\n",
       "| 16.55582 |\n",
       "| 16.80215 |\n",
       "| 17.14473 |\n",
       "| 18.00299 |\n",
       "\n"
      ],
      "text/plain": [
       "     [,1]    \n",
       "[1,] 15.77926\n",
       "[2,] 16.55582\n",
       "[3,] 16.80215\n",
       "[4,] 17.14473\n",
       "[5,] 18.00299"
      ]
     },
     "metadata": {},
     "output_type": "display_data"
    },
    {
     "data": {
      "text/html": [
       "<table>\n",
       "<tbody>\n",
       "\t<tr><td>10.82775</td></tr>\n",
       "\t<tr><td>11.67979</td></tr>\n",
       "\t<tr><td>11.94698</td></tr>\n",
       "\t<tr><td>12.28379</td></tr>\n",
       "\t<tr><td>13.16255</td></tr>\n",
       "</tbody>\n",
       "</table>\n"
      ],
      "text/latex": [
       "\\begin{tabular}{l}\n",
       "\t 10.82775\\\\\n",
       "\t 11.67979\\\\\n",
       "\t 11.94698\\\\\n",
       "\t 12.28379\\\\\n",
       "\t 13.16255\\\\\n",
       "\\end{tabular}\n"
      ],
      "text/markdown": [
       "\n",
       "| 10.82775 |\n",
       "| 11.67979 |\n",
       "| 11.94698 |\n",
       "| 12.28379 |\n",
       "| 13.16255 |\n",
       "\n"
      ],
      "text/plain": [
       "     [,1]    \n",
       "[1,] 10.82775\n",
       "[2,] 11.67979\n",
       "[3,] 11.94698\n",
       "[4,] 12.28379\n",
       "[5,] 13.16255"
      ]
     },
     "metadata": {},
     "output_type": "display_data"
    },
    {
     "data": {
      "text/html": [
       "<table>\n",
       "<tbody>\n",
       "\t<tr><td>15.86963</td></tr>\n",
       "\t<tr><td>16.52219</td></tr>\n",
       "\t<tr><td>16.80580</td></tr>\n",
       "\t<tr><td>17.12844</td></tr>\n",
       "\t<tr><td>18.00517</td></tr>\n",
       "</tbody>\n",
       "</table>\n"
      ],
      "text/latex": [
       "\\begin{tabular}{l}\n",
       "\t 15.86963\\\\\n",
       "\t 16.52219\\\\\n",
       "\t 16.80580\\\\\n",
       "\t 17.12844\\\\\n",
       "\t 18.00517\\\\\n",
       "\\end{tabular}\n"
      ],
      "text/markdown": [
       "\n",
       "| 15.86963 |\n",
       "| 16.52219 |\n",
       "| 16.80580 |\n",
       "| 17.12844 |\n",
       "| 18.00517 |\n",
       "\n"
      ],
      "text/plain": [
       "     [,1]    \n",
       "[1,] 15.86963\n",
       "[2,] 16.52219\n",
       "[3,] 16.80580\n",
       "[4,] 17.12844\n",
       "[5,] 18.00517"
      ]
     },
     "metadata": {},
     "output_type": "display_data"
    },
    {
     "data": {
      "text/html": [
       "<table>\n",
       "<tbody>\n",
       "\t<tr><td>10.83565</td></tr>\n",
       "\t<tr><td>11.70668</td></tr>\n",
       "\t<tr><td>11.87278</td></tr>\n",
       "\t<tr><td>12.29861</td></tr>\n",
       "\t<tr><td>13.16158</td></tr>\n",
       "</tbody>\n",
       "</table>\n"
      ],
      "text/latex": [
       "\\begin{tabular}{l}\n",
       "\t 10.83565\\\\\n",
       "\t 11.70668\\\\\n",
       "\t 11.87278\\\\\n",
       "\t 12.29861\\\\\n",
       "\t 13.16158\\\\\n",
       "\\end{tabular}\n"
      ],
      "text/markdown": [
       "\n",
       "| 10.83565 |\n",
       "| 11.70668 |\n",
       "| 11.87278 |\n",
       "| 12.29861 |\n",
       "| 13.16158 |\n",
       "\n"
      ],
      "text/plain": [
       "     [,1]    \n",
       "[1,] 10.83565\n",
       "[2,] 11.70668\n",
       "[3,] 11.87278\n",
       "[4,] 12.29861\n",
       "[5,] 13.16158"
      ]
     },
     "metadata": {},
     "output_type": "display_data"
    },
    {
     "data": {
      "image/png": "[encoded data removed]",
      "text/plain": [
       "plot without title"
      ]
     },
     "metadata": {},
     "output_type": "display_data"
    }
   ],
   "source": [
    "par(mfrow=c(2,2))\n",
    "boxplot(train$log_Mfee_deposit)$stats   \n",
    "boxplot(train$log_Mfee_rent)$stats\n",
    "boxplot(test$log_Mfee_deposit)$stats\n",
    "boxplot(test$log_Mfee_rent)$stats\n"
   ]
  },
  {
   "cell_type": "code",
   "execution_count": 52,
   "metadata": {},
   "outputs": [
    {
     "data": {
      "text/html": [
       "<dl class=dl-horizontal>\n",
       "\t<dt>0%</dt>\n",
       "\t\t<dd>15.7792606251479</dd>\n",
       "\t<dt>99%</dt>\n",
       "\t\t<dd>18.2331386811692</dd>\n",
       "\t<dt>100%</dt>\n",
       "\t\t<dd>18.7136115178398</dd>\n",
       "</dl>\n"
      ],
      "text/latex": [
       "\\begin{description*}\n",
       "\\item[0\\textbackslash{}\\%] 15.7792606251479\n",
       "\\item[99\\textbackslash{}\\%] 18.2331386811692\n",
       "\\item[100\\textbackslash{}\\%] 18.7136115178398\n",
       "\\end{description*}\n"
      ],
      "text/markdown": [
       "0%\n",
       ":   15.779260625147999%\n",
       ":   18.2331386811692100%\n",
       ":   18.7136115178398\n",
       "\n"
      ],
      "text/plain": [
       "      0%      99%     100% \n",
       "15.77926 18.23314 18.71361 "
      ]
     },
     "metadata": {},
     "output_type": "display_data"
    },
    {
     "data": {
      "text/html": [
       "<dl class=dl-horizontal>\n",
       "\t<dt>0%</dt>\n",
       "\t\t<dd>9.9579757378202</dd>\n",
       "\t<dt>1%</dt>\n",
       "\t\t<dd>10.5368449029986</dd>\n",
       "\t<dt>99%</dt>\n",
       "\t\t<dd>13.3095258594864</dd>\n",
       "\t<dt>100%</dt>\n",
       "\t\t<dd>13.8176981634097</dd>\n",
       "</dl>\n"
      ],
      "text/latex": [
       "\\begin{description*}\n",
       "\\item[0\\textbackslash{}\\%] 9.9579757378202\n",
       "\\item[1\\textbackslash{}\\%] 10.5368449029986\n",
       "\\item[99\\textbackslash{}\\%] 13.3095258594864\n",
       "\\item[100\\textbackslash{}\\%] 13.8176981634097\n",
       "\\end{description*}\n"
      ],
      "text/markdown": [
       "0%\n",
       ":   9.95797573782021%\n",
       ":   10.536844902998699%\n",
       ":   13.3095258594864100%\n",
       ":   13.8176981634097\n",
       "\n"
      ],
      "text/plain": [
       "       0%        1%       99%      100% \n",
       " 9.957976 10.536845 13.309526 13.817698 "
      ]
     },
     "metadata": {},
     "output_type": "display_data"
    }
   ],
   "source": [
    "# train$log_Mfee_deposit , log_Mfee_rent , log_Mfee_deposit, log_Mfee_rent\n",
    "quantile(train$log_Mfee_deposit, probs=c(0, 0.99, 1))\n",
    "quantile(train$log_Mfee_rent, probs=c(0, 0.01, 0.99, 1))"
   ]
  },
  {
   "cell_type": "code",
   "execution_count": 54,
   "metadata": {},
   "outputs": [],
   "source": [
    "train$log_Mfee_deposit<- ifelse(train$log_Mfee_deposit>=18.2331386811692, 18.2331386811692,train$log_Mfee_deposit  )\n",
    "train$log_Mfee_rent<-ifelse(train$log_Mfee_rent>=13.3095258594864,13.3095258594864, train$log_Mfee_rent)\n",
    "train$log_Mfee_rent<-ifelse(train$log_Mfee_rent<=10.5368449029986,10.5368449029986, train$log_Mfee_rent)"
   ]
  },
  {
   "cell_type": "code",
   "execution_count": 55,
   "metadata": {
    "scrolled": true
   },
   "outputs": [
    {
     "data": {
      "text/html": [
       "<table>\n",
       "<tbody>\n",
       "\t<tr><td>15.77926</td></tr>\n",
       "\t<tr><td>16.55582</td></tr>\n",
       "\t<tr><td>16.80215</td></tr>\n",
       "\t<tr><td>17.14473</td></tr>\n",
       "\t<tr><td>18.00299</td></tr>\n",
       "</tbody>\n",
       "</table>\n"
      ],
      "text/latex": [
       "\\begin{tabular}{l}\n",
       "\t 15.77926\\\\\n",
       "\t 16.55582\\\\\n",
       "\t 16.80215\\\\\n",
       "\t 17.14473\\\\\n",
       "\t 18.00299\\\\\n",
       "\\end{tabular}\n"
      ],
      "text/markdown": [
       "\n",
       "| 15.77926 |\n",
       "| 16.55582 |\n",
       "| 16.80215 |\n",
       "| 17.14473 |\n",
       "| 18.00299 |\n",
       "\n"
      ],
      "text/plain": [
       "     [,1]    \n",
       "[1,] 15.77926\n",
       "[2,] 16.55582\n",
       "[3,] 16.80215\n",
       "[4,] 17.14473\n",
       "[5,] 18.00299"
      ]
     },
     "metadata": {},
     "output_type": "display_data"
    },
    {
     "data": {
      "text/html": [
       "<table>\n",
       "<tbody>\n",
       "\t<tr><td>10.82775</td></tr>\n",
       "\t<tr><td>11.67979</td></tr>\n",
       "\t<tr><td>11.94698</td></tr>\n",
       "\t<tr><td>12.28379</td></tr>\n",
       "\t<tr><td>13.16255</td></tr>\n",
       "</tbody>\n",
       "</table>\n"
      ],
      "text/latex": [
       "\\begin{tabular}{l}\n",
       "\t 10.82775\\\\\n",
       "\t 11.67979\\\\\n",
       "\t 11.94698\\\\\n",
       "\t 12.28379\\\\\n",
       "\t 13.16255\\\\\n",
       "\\end{tabular}\n"
      ],
      "text/markdown": [
       "\n",
       "| 10.82775 |\n",
       "| 11.67979 |\n",
       "| 11.94698 |\n",
       "| 12.28379 |\n",
       "| 13.16255 |\n",
       "\n"
      ],
      "text/plain": [
       "     [,1]    \n",
       "[1,] 10.82775\n",
       "[2,] 11.67979\n",
       "[3,] 11.94698\n",
       "[4,] 12.28379\n",
       "[5,] 13.16255"
      ]
     },
     "metadata": {},
     "output_type": "display_data"
    },
    {
     "data": {
      "image/png": "[encoded data removed]",
      "text/plain": [
       "plot without title"
      ]
     },
     "metadata": {},
     "output_type": "display_data"
    }
   ],
   "source": [
    "par(mfrow=c(1,2))\n",
    "boxplot(train$log_Mfee_deposit)$stats   \n",
    "boxplot(train$log_Mfee_rent)$stats"
   ]
  },
  {
   "cell_type": "code",
   "execution_count": 57,
   "metadata": {},
   "outputs": [
    {
     "data": {
      "text/html": [
       "<dl class=dl-horizontal>\n",
       "\t<dt>0%</dt>\n",
       "\t\t<dd>14.8130125452633</dd>\n",
       "\t<dt>1%</dt>\n",
       "\t\t<dd>15.8757213264591</dd>\n",
       "\t<dt>99%</dt>\n",
       "\t\t<dd>17.9576459639072</dd>\n",
       "\t<dt>100%</dt>\n",
       "\t\t<dd>18.3957833603979</dd>\n",
       "</dl>\n"
      ],
      "text/latex": [
       "\\begin{description*}\n",
       "\\item[0\\textbackslash{}\\%] 14.8130125452633\n",
       "\\item[1\\textbackslash{}\\%] 15.8757213264591\n",
       "\\item[99\\textbackslash{}\\%] 17.9576459639072\n",
       "\\item[100\\textbackslash{}\\%] 18.3957833603979\n",
       "\\end{description*}\n"
      ],
      "text/markdown": [
       "0%\n",
       ":   14.81301254526331%\n",
       ":   15.875721326459199%\n",
       ":   17.9576459639072100%\n",
       ":   18.3957833603979\n",
       "\n"
      ],
      "text/plain": [
       "      0%       1%      99%     100% \n",
       "14.81301 15.87572 17.95765 18.39578 "
      ]
     },
     "metadata": {},
     "output_type": "display_data"
    },
    {
     "data": {
      "text/html": [
       "<dl class=dl-horizontal>\n",
       "\t<dt>0%</dt>\n",
       "\t\t<dd>10.266045159633</dd>\n",
       "\t<dt>1%</dt>\n",
       "\t\t<dd>10.5649057179569</dd>\n",
       "\t<dt>99%</dt>\n",
       "\t\t<dd>13.1990701769452</dd>\n",
       "\t<dt>100%</dt>\n",
       "\t\t<dd>13.2176735572087</dd>\n",
       "</dl>\n"
      ],
      "text/latex": [
       "\\begin{description*}\n",
       "\\item[0\\textbackslash{}\\%] 10.266045159633\n",
       "\\item[1\\textbackslash{}\\%] 10.5649057179569\n",
       "\\item[99\\textbackslash{}\\%] 13.1990701769452\n",
       "\\item[100\\textbackslash{}\\%] 13.2176735572087\n",
       "\\end{description*}\n"
      ],
      "text/markdown": [
       "0%\n",
       ":   10.2660451596331%\n",
       ":   10.564905717956999%\n",
       ":   13.1990701769452100%\n",
       ":   13.2176735572087\n",
       "\n"
      ],
      "text/plain": [
       "      0%       1%      99%     100% \n",
       "10.26605 10.56491 13.19907 13.21767 "
      ]
     },
     "metadata": {},
     "output_type": "display_data"
    }
   ],
   "source": [
    "quantile(test$log_Mfee_deposit, probs=c(0, 0.01, 0.99, 1))\n",
    "quantile(test$log_Mfee_rent, probs=c(0, 0.01, 0.99, 1))"
   ]
  },
  {
   "cell_type": "code",
   "execution_count": 58,
   "metadata": {},
   "outputs": [],
   "source": [
    "test$log_Mfee_deposit<- ifelse(test$log_Mfee_deposit>=17.9576459639072, 17.9576459639072,test$log_Mfee_deposit  )\n",
    "test$log_Mfee_deposit<- ifelse(test$log_Mfee_deposit<=15.8757213264591, 15.8757213264591,test$log_Mfee_deposit  )\n",
    "\n",
    "\n",
    "test$log_Mfee_rent<-ifelse(test$log_Mfee_rent>=13.3095258594864,13.3095258594864, test$log_Mfee_rent)\n",
    "test$log_Mfee_rent<- ifelse(test$log_Mfee_rent<=10.5649057179569, 10.5649057179569,test$log_Mfee_deposit  )"
   ]
  },
  {
   "cell_type": "code",
   "execution_count": 59,
   "metadata": {},
   "outputs": [],
   "source": [
    "write.csv(train,\"train0730.fi2.csv\", row.names=F)\n",
    "write.csv(test,\"test0730.fi2.csv\", row.names=F)"
   ]
  },
  {
   "cell_type": "markdown",
   "metadata": {},
   "source": [
    "## 아웃라이어하고 민맥스하기 "
   ]
  },
  {
   "cell_type": "code",
   "execution_count": 40,
   "metadata": {},
   "outputs": [],
   "source": [
    "train<-read.table(\"train0730.fi1.csv\", sep=',', header=T)\n",
    "test<-read.table(\"test0730.fi1.csv\", sep=',', header=T)"
   ]
  },
  {
   "cell_type": "code",
   "execution_count": 41,
   "metadata": {},
   "outputs": [],
   "source": [
    "normalize <- function(x) {\n",
    "  return((x-min(x))/(max(x)-min(x)))\n",
    "}"
   ]
  },
  {
   "cell_type": "code",
   "execution_count": 42,
   "metadata": {},
   "outputs": [],
   "source": [
    "train$Mfee_deposit<-normalize(train$Mfee_deposit)\n",
    "train$Mfee_rent<-normalize(train$Mfee_rent)\n",
    "test$Mfee_deposit<-normalize(test$Mfee_deposit)\n",
    "test$Mfee_rent<-normalize(test$Mfee_rent)"
   ]
  },
  {
   "cell_type": "code",
   "execution_count": 43,
   "metadata": {},
   "outputs": [],
   "source": [
    "write.csv(train,\"train0730.fi3.csv\", row.names=F)\n",
    "write.csv(test,\"test0730.fi3.csv\", row.names=F)"
   ]
  },
  {
   "cell_type": "markdown",
   "metadata": {},
   "source": [
    "## 아웃라이어하고 로그트랜스"
   ]
  },
  {
   "cell_type": "code",
   "execution_count": 60,
   "metadata": {},
   "outputs": [],
   "source": [
    "train<-read.table(\"train0730.fi1.csv\", sep=',', header=T)\n",
    "test<-read.table(\"test0730.fi1.csv\", sep=',', header=T)"
   ]
  },
  {
   "cell_type": "code",
   "execution_count": 61,
   "metadata": {},
   "outputs": [],
   "source": [
    "train$log_Mfee_deposit<-log(train$Mfee_deposit)\n",
    "train$log_Mfee_rent<-log(train$Mfee_rent)\n",
    "test$log_Mfee_deposit<-log(test$Mfee_deposit)\n",
    "test$log_Mfee_rent<-log(test$Mfee_rent)"
   ]
  },
  {
   "cell_type": "code",
   "execution_count": 62,
   "metadata": {},
   "outputs": [],
   "source": [
    "write.csv(train,\"train0730.fi4.csv\", row.names=F)\n",
    "write.csv(test,\"test0730.fi4.csv\", row.names=F)"
   ]
  }
 ],
 "metadata": {
  "kernelspec": {
   "display_name": "R",
   "language": "R",
   "name": "ir"
  },
  "language_info": {
   "codemirror_mode": "r",
   "file_extension": ".r",
   "mimetype": "text/x-r-source",
   "name": "R",
   "pygments_lexer": "r",
   "version": "3.6.1"
  },
  "toc": {
   "base_numbering": 1,
   "nav_menu": {},
   "number_sections": true,
   "sideBar": true,
   "skip_h1_title": false,
   "title_cell": "Table of Contents",
   "title_sidebar": "Contents",
   "toc_cell": false,
   "toc_position": {},
   "toc_section_display": true,
   "toc_window_display": false
  }
 },
 "nbformat": 4,
 "nbformat_minor": 4
}
