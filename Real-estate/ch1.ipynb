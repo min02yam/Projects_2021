{
 "cells": [
  {
   "cell_type": "markdown",
   "metadata": {},
   "source": [
    "# 주택건설 준공실적 분석"
   ]
  },
  {
   "cell_type": "markdown",
   "metadata": {},
   "source": [
    "- ref1. https://docs.python.org/ko/3/library/warnings.html\n",
    "- ref2 https://matplotlib.org/3.1.1/gallery/color/colormap_reference.html"
   ]
  },
  {
   "cell_type": "markdown",
   "metadata": {},
   "source": [
    "### 데이터\n",
    "  - 정의 : ‘부동산 통계 선진화 방안’의 일환으로 주택 준공통계를 생산.공표키로 의결<br>‘10.6 국가통계위원회 지자체 및 LH 준공실적을 집계하여 주체별.유형별.지역별로 세분화된 통계 생산 \n",
    "  - 소스 : 국토교통 통계누리 > 주택 > 승인통계 > 주택건설실적통계(준공) > 주택사용검사실적_월계\n",
    "  - URL\n",
    "  http://stat.molit.go.kr/portal/cate/statView.do?hRsId=468&hFormId=5372&hDivEng=&month_yn=\n",
    "  - 기간 : 2010년 7월 ~ 2021년 6월\n",
    "  - 필터 : 행(row) : 월(Month) / 열(Column) : 시도별"
   ]
  },
  {
   "cell_type": "markdown",
   "metadata": {},
   "source": [
    "### * 추가 데이터\n",
    "  [주택건설실적통계(인허가)](http://stat.molit.go.kr/portal/cate/statView.do?hRsId=31&hFormId=626&hDivEng=&month_yn=)\n",
    "  [필터적용](http://stat.molit.go.kr/portal/cate/statView.do?hRsId=31&hFormId=1946&hSelectId=1946&hPoint=00&hAppr=1&hDivEng=&oFileName=&rFileName=&midpath=&month_yn=N&sFormId=1946&sStart=200701&sEnd=202106&sStyleNum=1&EXPORT=)<br>\n",
    "  [주택건설실적통계(착공)](http://stat.molit.go.kr/portal/cate/statView.do?hRsId=471&hFormId=5388&hDivEng=&month_yn=)<br>\n",
    "  [미분양주택현황보고(공사완료후 미분양 현황)](http://stat.molit.go.kr/portal/cate/statView.do?hRsId=32&hFormId=5328&hDivEng=&month_yn=)\n",
    "  "
   ]
  },
  {
   "cell_type": "markdown",
   "metadata": {
    "ExecuteTime": {
     "end_time": "2021-07-15T06:16:12.516939Z",
     "start_time": "2021-07-15T06:16:12.502253Z"
    }
   },
   "source": [
    "## 주택 사용검사 실적(준공) 데이터 분석"
   ]
  },
  {
   "cell_type": "code",
   "execution_count": 56,
   "metadata": {
    "ExecuteTime": {
     "end_time": "2021-10-26T04:51:38.718744Z",
     "start_time": "2021-10-26T04:51:38.711621Z"
    }
   },
   "outputs": [],
   "source": [
    "# %pwd"
   ]
  },
  {
   "cell_type": "code",
   "execution_count": 2,
   "metadata": {
    "ExecuteTime": {
     "end_time": "2021-10-26T04:31:13.969649Z",
     "start_time": "2021-10-26T04:31:13.956650Z"
    }
   },
   "outputs": [],
   "source": [
    "# !pip install openpyxl"
   ]
  },
  {
   "cell_type": "code",
   "execution_count": 3,
   "metadata": {
    "ExecuteTime": {
     "end_time": "2021-10-26T04:31:16.635319Z",
     "start_time": "2021-10-26T04:31:13.973650Z"
    }
   },
   "outputs": [
    {
     "data": {
      "text/html": [
       "<div>\n",
       "<style scoped>\n",
       "    .dataframe tbody tr th:only-of-type {\n",
       "        vertical-align: middle;\n",
       "    }\n",
       "\n",
       "    .dataframe tbody tr th {\n",
       "        vertical-align: top;\n",
       "    }\n",
       "\n",
       "    .dataframe thead th {\n",
       "        text-align: right;\n",
       "    }\n",
       "</style>\n",
       "<table border=\"1\" class=\"dataframe\">\n",
       "  <thead>\n",
       "    <tr style=\"text-align: right;\">\n",
       "      <th></th>\n",
       "      <th>월(Monthly)</th>\n",
       "      <th>총계</th>\n",
       "      <th>수도권소계</th>\n",
       "      <th>서울</th>\n",
       "      <th>인천</th>\n",
       "      <th>경기</th>\n",
       "      <th>지방소계</th>\n",
       "      <th>기타광역시</th>\n",
       "      <th>부산</th>\n",
       "      <th>대구</th>\n",
       "      <th>...</th>\n",
       "      <th>기타지방</th>\n",
       "      <th>강원</th>\n",
       "      <th>충북</th>\n",
       "      <th>충남</th>\n",
       "      <th>전북</th>\n",
       "      <th>전남</th>\n",
       "      <th>경북</th>\n",
       "      <th>경남</th>\n",
       "      <th>제주</th>\n",
       "      <th>세종</th>\n",
       "    </tr>\n",
       "  </thead>\n",
       "  <tbody>\n",
       "    <tr>\n",
       "      <th>0</th>\n",
       "      <td>2010-07</td>\n",
       "      <td>48122.0</td>\n",
       "      <td>21838.0</td>\n",
       "      <td>7026.0</td>\n",
       "      <td>1936.0</td>\n",
       "      <td>12876.0</td>\n",
       "      <td>26284.0</td>\n",
       "      <td>9208.0</td>\n",
       "      <td>3806.0</td>\n",
       "      <td>1700.0</td>\n",
       "      <td>...</td>\n",
       "      <td>17076.0</td>\n",
       "      <td>1858.0</td>\n",
       "      <td>678.0</td>\n",
       "      <td>1828.0</td>\n",
       "      <td>844.0</td>\n",
       "      <td>954.0</td>\n",
       "      <td>5312.0</td>\n",
       "      <td>5456.0</td>\n",
       "      <td>146.0</td>\n",
       "      <td>NaN</td>\n",
       "    </tr>\n",
       "    <tr>\n",
       "      <th>1</th>\n",
       "      <td>2010-08</td>\n",
       "      <td>66856.0</td>\n",
       "      <td>37216.0</td>\n",
       "      <td>8508.0</td>\n",
       "      <td>1916.0</td>\n",
       "      <td>26792.0</td>\n",
       "      <td>29640.0</td>\n",
       "      <td>12792.0</td>\n",
       "      <td>756.0</td>\n",
       "      <td>4992.0</td>\n",
       "      <td>...</td>\n",
       "      <td>16848.0</td>\n",
       "      <td>1318.0</td>\n",
       "      <td>3716.0</td>\n",
       "      <td>2350.0</td>\n",
       "      <td>2086.0</td>\n",
       "      <td>1770.0</td>\n",
       "      <td>4146.0</td>\n",
       "      <td>1252.0</td>\n",
       "      <td>210.0</td>\n",
       "      <td>NaN</td>\n",
       "    </tr>\n",
       "    <tr>\n",
       "      <th>2</th>\n",
       "      <td>2010-09</td>\n",
       "      <td>37936.0</td>\n",
       "      <td>17856.0</td>\n",
       "      <td>2916.0</td>\n",
       "      <td>1526.0</td>\n",
       "      <td>13414.0</td>\n",
       "      <td>20080.0</td>\n",
       "      <td>5624.0</td>\n",
       "      <td>672.0</td>\n",
       "      <td>2392.0</td>\n",
       "      <td>...</td>\n",
       "      <td>14456.0</td>\n",
       "      <td>1550.0</td>\n",
       "      <td>1824.0</td>\n",
       "      <td>3414.0</td>\n",
       "      <td>748.0</td>\n",
       "      <td>1966.0</td>\n",
       "      <td>1018.0</td>\n",
       "      <td>3674.0</td>\n",
       "      <td>262.0</td>\n",
       "      <td>NaN</td>\n",
       "    </tr>\n",
       "    <tr>\n",
       "      <th>3</th>\n",
       "      <td>2010-10</td>\n",
       "      <td>65352.0</td>\n",
       "      <td>36866.0</td>\n",
       "      <td>3926.0</td>\n",
       "      <td>8840.0</td>\n",
       "      <td>24100.0</td>\n",
       "      <td>28486.0</td>\n",
       "      <td>10636.0</td>\n",
       "      <td>910.0</td>\n",
       "      <td>192.0</td>\n",
       "      <td>...</td>\n",
       "      <td>17850.0</td>\n",
       "      <td>2474.0</td>\n",
       "      <td>4284.0</td>\n",
       "      <td>1948.0</td>\n",
       "      <td>666.0</td>\n",
       "      <td>720.0</td>\n",
       "      <td>4614.0</td>\n",
       "      <td>2072.0</td>\n",
       "      <td>1072.0</td>\n",
       "      <td>NaN</td>\n",
       "    </tr>\n",
       "    <tr>\n",
       "      <th>4</th>\n",
       "      <td>2010-11</td>\n",
       "      <td>48260.0</td>\n",
       "      <td>23102.0</td>\n",
       "      <td>3894.0</td>\n",
       "      <td>7174.0</td>\n",
       "      <td>12034.0</td>\n",
       "      <td>25158.0</td>\n",
       "      <td>9734.0</td>\n",
       "      <td>1842.0</td>\n",
       "      <td>1234.0</td>\n",
       "      <td>...</td>\n",
       "      <td>15424.0</td>\n",
       "      <td>766.0</td>\n",
       "      <td>3120.0</td>\n",
       "      <td>2066.0</td>\n",
       "      <td>2024.0</td>\n",
       "      <td>2540.0</td>\n",
       "      <td>3302.0</td>\n",
       "      <td>1284.0</td>\n",
       "      <td>322.0</td>\n",
       "      <td>NaN</td>\n",
       "    </tr>\n",
       "    <tr>\n",
       "      <th>...</th>\n",
       "      <td>...</td>\n",
       "      <td>...</td>\n",
       "      <td>...</td>\n",
       "      <td>...</td>\n",
       "      <td>...</td>\n",
       "      <td>...</td>\n",
       "      <td>...</td>\n",
       "      <td>...</td>\n",
       "      <td>...</td>\n",
       "      <td>...</td>\n",
       "      <td>...</td>\n",
       "      <td>...</td>\n",
       "      <td>...</td>\n",
       "      <td>...</td>\n",
       "      <td>...</td>\n",
       "      <td>...</td>\n",
       "      <td>...</td>\n",
       "      <td>...</td>\n",
       "      <td>...</td>\n",
       "      <td>...</td>\n",
       "      <td>...</td>\n",
       "    </tr>\n",
       "    <tr>\n",
       "      <th>127</th>\n",
       "      <td>2021-02</td>\n",
       "      <td>65810.0</td>\n",
       "      <td>41132.0</td>\n",
       "      <td>21312.0</td>\n",
       "      <td>776.0</td>\n",
       "      <td>19044.0</td>\n",
       "      <td>24678.0</td>\n",
       "      <td>4160.0</td>\n",
       "      <td>1884.0</td>\n",
       "      <td>680.0</td>\n",
       "      <td>...</td>\n",
       "      <td>20518.0</td>\n",
       "      <td>6070.0</td>\n",
       "      <td>454.0</td>\n",
       "      <td>1020.0</td>\n",
       "      <td>1018.0</td>\n",
       "      <td>3068.0</td>\n",
       "      <td>5004.0</td>\n",
       "      <td>2166.0</td>\n",
       "      <td>592.0</td>\n",
       "      <td>1126.0</td>\n",
       "    </tr>\n",
       "    <tr>\n",
       "      <th>128</th>\n",
       "      <td>2021-03</td>\n",
       "      <td>55984.0</td>\n",
       "      <td>27534.0</td>\n",
       "      <td>11448.0</td>\n",
       "      <td>2236.0</td>\n",
       "      <td>13850.0</td>\n",
       "      <td>28450.0</td>\n",
       "      <td>8986.0</td>\n",
       "      <td>4480.0</td>\n",
       "      <td>4092.0</td>\n",
       "      <td>...</td>\n",
       "      <td>19464.0</td>\n",
       "      <td>2218.0</td>\n",
       "      <td>3224.0</td>\n",
       "      <td>552.0</td>\n",
       "      <td>2386.0</td>\n",
       "      <td>1498.0</td>\n",
       "      <td>4310.0</td>\n",
       "      <td>4638.0</td>\n",
       "      <td>586.0</td>\n",
       "      <td>52.0</td>\n",
       "    </tr>\n",
       "    <tr>\n",
       "      <th>129</th>\n",
       "      <td>2021-04</td>\n",
       "      <td>49166.0</td>\n",
       "      <td>28586.0</td>\n",
       "      <td>6846.0</td>\n",
       "      <td>2712.0</td>\n",
       "      <td>19028.0</td>\n",
       "      <td>20580.0</td>\n",
       "      <td>9006.0</td>\n",
       "      <td>6998.0</td>\n",
       "      <td>236.0</td>\n",
       "      <td>...</td>\n",
       "      <td>11574.0</td>\n",
       "      <td>2496.0</td>\n",
       "      <td>552.0</td>\n",
       "      <td>3496.0</td>\n",
       "      <td>596.0</td>\n",
       "      <td>996.0</td>\n",
       "      <td>1976.0</td>\n",
       "      <td>766.0</td>\n",
       "      <td>632.0</td>\n",
       "      <td>64.0</td>\n",
       "    </tr>\n",
       "    <tr>\n",
       "      <th>130</th>\n",
       "      <td>2021-05</td>\n",
       "      <td>50190.0</td>\n",
       "      <td>28178.0</td>\n",
       "      <td>8792.0</td>\n",
       "      <td>2440.0</td>\n",
       "      <td>16946.0</td>\n",
       "      <td>22012.0</td>\n",
       "      <td>4982.0</td>\n",
       "      <td>1782.0</td>\n",
       "      <td>110.0</td>\n",
       "      <td>...</td>\n",
       "      <td>17030.0</td>\n",
       "      <td>482.0</td>\n",
       "      <td>2730.0</td>\n",
       "      <td>4724.0</td>\n",
       "      <td>2492.0</td>\n",
       "      <td>2566.0</td>\n",
       "      <td>654.0</td>\n",
       "      <td>2840.0</td>\n",
       "      <td>490.0</td>\n",
       "      <td>52.0</td>\n",
       "    </tr>\n",
       "    <tr>\n",
       "      <th>131</th>\n",
       "      <td>2021-06</td>\n",
       "      <td>67638.0</td>\n",
       "      <td>37774.0</td>\n",
       "      <td>10224.0</td>\n",
       "      <td>6968.0</td>\n",
       "      <td>20582.0</td>\n",
       "      <td>29864.0</td>\n",
       "      <td>8694.0</td>\n",
       "      <td>3950.0</td>\n",
       "      <td>1816.0</td>\n",
       "      <td>...</td>\n",
       "      <td>21170.0</td>\n",
       "      <td>2494.0</td>\n",
       "      <td>3038.0</td>\n",
       "      <td>2138.0</td>\n",
       "      <td>1660.0</td>\n",
       "      <td>3484.0</td>\n",
       "      <td>3676.0</td>\n",
       "      <td>1616.0</td>\n",
       "      <td>1330.0</td>\n",
       "      <td>1734.0</td>\n",
       "    </tr>\n",
       "  </tbody>\n",
       "</table>\n",
       "<p>132 rows × 23 columns</p>\n",
       "</div>"
      ],
      "text/plain": [
       "    월(Monthly)       총계    수도권소계       서울      인천       경기     지방소계    기타광역시  \\\n",
       "0      2010-07  48122.0  21838.0   7026.0  1936.0  12876.0  26284.0   9208.0   \n",
       "1      2010-08  66856.0  37216.0   8508.0  1916.0  26792.0  29640.0  12792.0   \n",
       "2      2010-09  37936.0  17856.0   2916.0  1526.0  13414.0  20080.0   5624.0   \n",
       "3      2010-10  65352.0  36866.0   3926.0  8840.0  24100.0  28486.0  10636.0   \n",
       "4      2010-11  48260.0  23102.0   3894.0  7174.0  12034.0  25158.0   9734.0   \n",
       "..         ...      ...      ...      ...     ...      ...      ...      ...   \n",
       "127    2021-02  65810.0  41132.0  21312.0   776.0  19044.0  24678.0   4160.0   \n",
       "128    2021-03  55984.0  27534.0  11448.0  2236.0  13850.0  28450.0   8986.0   \n",
       "129    2021-04  49166.0  28586.0   6846.0  2712.0  19028.0  20580.0   9006.0   \n",
       "130    2021-05  50190.0  28178.0   8792.0  2440.0  16946.0  22012.0   4982.0   \n",
       "131    2021-06  67638.0  37774.0  10224.0  6968.0  20582.0  29864.0   8694.0   \n",
       "\n",
       "         부산      대구  ...     기타지방      강원      충북      충남      전북      전남  \\\n",
       "0    3806.0  1700.0  ...  17076.0  1858.0   678.0  1828.0   844.0   954.0   \n",
       "1     756.0  4992.0  ...  16848.0  1318.0  3716.0  2350.0  2086.0  1770.0   \n",
       "2     672.0  2392.0  ...  14456.0  1550.0  1824.0  3414.0   748.0  1966.0   \n",
       "3     910.0   192.0  ...  17850.0  2474.0  4284.0  1948.0   666.0   720.0   \n",
       "4    1842.0  1234.0  ...  15424.0   766.0  3120.0  2066.0  2024.0  2540.0   \n",
       "..      ...     ...  ...      ...     ...     ...     ...     ...     ...   \n",
       "127  1884.0   680.0  ...  20518.0  6070.0   454.0  1020.0  1018.0  3068.0   \n",
       "128  4480.0  4092.0  ...  19464.0  2218.0  3224.0   552.0  2386.0  1498.0   \n",
       "129  6998.0   236.0  ...  11574.0  2496.0   552.0  3496.0   596.0   996.0   \n",
       "130  1782.0   110.0  ...  17030.0   482.0  2730.0  4724.0  2492.0  2566.0   \n",
       "131  3950.0  1816.0  ...  21170.0  2494.0  3038.0  2138.0  1660.0  3484.0   \n",
       "\n",
       "         경북      경남      제주      세종  \n",
       "0    5312.0  5456.0   146.0     NaN  \n",
       "1    4146.0  1252.0   210.0     NaN  \n",
       "2    1018.0  3674.0   262.0     NaN  \n",
       "3    4614.0  2072.0  1072.0     NaN  \n",
       "4    3302.0  1284.0   322.0     NaN  \n",
       "..      ...     ...     ...     ...  \n",
       "127  5004.0  2166.0   592.0  1126.0  \n",
       "128  4310.0  4638.0   586.0    52.0  \n",
       "129  1976.0   766.0   632.0    64.0  \n",
       "130   654.0  2840.0   490.0    52.0  \n",
       "131  3676.0  1616.0  1330.0  1734.0  \n",
       "\n",
       "[132 rows x 23 columns]"
      ]
     },
     "execution_count": 3,
     "metadata": {},
     "output_type": "execute_result"
    }
   ],
   "source": [
    "import pandas as pd\n",
    "path = r'./data/전용면적별사용검사실적_월계_5374_1_20210819092201.xlsx'\n",
    "\n",
    "\n",
    "import warnings\n",
    "with warnings.catch_warnings(record=True):\n",
    "    warnings.simplefilter(\"always\")\n",
    "    \n",
    "    df = pd.read_excel(path, engine=\"openpyxl\")\n",
    "df\n",
    "# pd.read_excel(path)"
   ]
  },
  {
   "cell_type": "code",
   "execution_count": 5,
   "metadata": {
    "ExecuteTime": {
     "end_time": "2021-10-26T04:31:16.697319Z",
     "start_time": "2021-10-26T04:31:16.654318Z"
    }
   },
   "outputs": [
    {
     "name": "stdout",
     "output_type": "stream",
     "text": [
      "<class 'pandas.core.frame.DataFrame'>\n",
      "RangeIndex: 132 entries, 0 to 131\n",
      "Data columns (total 23 columns):\n",
      " #   Column      Non-Null Count  Dtype  \n",
      "---  ------      --------------  -----  \n",
      " 0   월(Monthly)  132 non-null    object \n",
      " 1   총계          132 non-null    float64\n",
      " 2   수도권소계       132 non-null    float64\n",
      " 3   서울          132 non-null    float64\n",
      " 4   인천          132 non-null    float64\n",
      " 5   경기          132 non-null    float64\n",
      " 6   지방소계        132 non-null    float64\n",
      " 7   기타광역시       132 non-null    float64\n",
      " 8   부산          132 non-null    float64\n",
      " 9   대구          132 non-null    float64\n",
      " 10  광주          132 non-null    float64\n",
      " 11  대전          132 non-null    float64\n",
      " 12  울산          132 non-null    float64\n",
      " 13  기타지방        132 non-null    float64\n",
      " 14  강원          132 non-null    float64\n",
      " 15  충북          132 non-null    float64\n",
      " 16  충남          132 non-null    float64\n",
      " 17  전북          132 non-null    float64\n",
      " 18  전남          132 non-null    float64\n",
      " 19  경북          132 non-null    float64\n",
      " 20  경남          132 non-null    float64\n",
      " 21  제주          132 non-null    float64\n",
      " 22  세종          108 non-null    float64\n",
      "dtypes: float64(22), object(1)\n",
      "memory usage: 23.8+ KB\n"
     ]
    }
   ],
   "source": [
    "df.info()"
   ]
  },
  {
   "cell_type": "code",
   "execution_count": 7,
   "metadata": {
    "ExecuteTime": {
     "end_time": "2021-10-26T04:31:16.729319Z",
     "start_time": "2021-10-26T04:31:16.717319Z"
    }
   },
   "outputs": [],
   "source": [
    "from datetime import datetime, timedelta\n",
    "df['월(Monthly)']= pd.to_datetime(df['월(Monthly)'])"
   ]
  },
  {
   "cell_type": "markdown",
   "metadata": {},
   "source": [
    "## 필요한 열 추출"
   ]
  },
  {
   "cell_type": "code",
   "execution_count": 8,
   "metadata": {
    "ExecuteTime": {
     "end_time": "2021-10-26T04:31:16.775321Z",
     "start_time": "2021-10-26T04:31:16.738319Z"
    }
   },
   "outputs": [
    {
     "data": {
      "text/html": [
       "<div>\n",
       "<style scoped>\n",
       "    .dataframe tbody tr th:only-of-type {\n",
       "        vertical-align: middle;\n",
       "    }\n",
       "\n",
       "    .dataframe tbody tr th {\n",
       "        vertical-align: top;\n",
       "    }\n",
       "\n",
       "    .dataframe thead th {\n",
       "        text-align: right;\n",
       "    }\n",
       "</style>\n",
       "<table border=\"1\" class=\"dataframe\">\n",
       "  <thead>\n",
       "    <tr style=\"text-align: right;\">\n",
       "      <th></th>\n",
       "      <th>월(Monthly)</th>\n",
       "      <th>총계</th>\n",
       "    </tr>\n",
       "  </thead>\n",
       "  <tbody>\n",
       "    <tr>\n",
       "      <th>0</th>\n",
       "      <td>2010-07-01</td>\n",
       "      <td>48122.0</td>\n",
       "    </tr>\n",
       "    <tr>\n",
       "      <th>1</th>\n",
       "      <td>2010-08-01</td>\n",
       "      <td>66856.0</td>\n",
       "    </tr>\n",
       "    <tr>\n",
       "      <th>2</th>\n",
       "      <td>2010-09-01</td>\n",
       "      <td>37936.0</td>\n",
       "    </tr>\n",
       "    <tr>\n",
       "      <th>3</th>\n",
       "      <td>2010-10-01</td>\n",
       "      <td>65352.0</td>\n",
       "    </tr>\n",
       "    <tr>\n",
       "      <th>4</th>\n",
       "      <td>2010-11-01</td>\n",
       "      <td>48260.0</td>\n",
       "    </tr>\n",
       "    <tr>\n",
       "      <th>...</th>\n",
       "      <td>...</td>\n",
       "      <td>...</td>\n",
       "    </tr>\n",
       "    <tr>\n",
       "      <th>127</th>\n",
       "      <td>2021-02-01</td>\n",
       "      <td>65810.0</td>\n",
       "    </tr>\n",
       "    <tr>\n",
       "      <th>128</th>\n",
       "      <td>2021-03-01</td>\n",
       "      <td>55984.0</td>\n",
       "    </tr>\n",
       "    <tr>\n",
       "      <th>129</th>\n",
       "      <td>2021-04-01</td>\n",
       "      <td>49166.0</td>\n",
       "    </tr>\n",
       "    <tr>\n",
       "      <th>130</th>\n",
       "      <td>2021-05-01</td>\n",
       "      <td>50190.0</td>\n",
       "    </tr>\n",
       "    <tr>\n",
       "      <th>131</th>\n",
       "      <td>2021-06-01</td>\n",
       "      <td>67638.0</td>\n",
       "    </tr>\n",
       "  </tbody>\n",
       "</table>\n",
       "<p>132 rows × 2 columns</p>\n",
       "</div>"
      ],
      "text/plain": [
       "    월(Monthly)       총계\n",
       "0   2010-07-01  48122.0\n",
       "1   2010-08-01  66856.0\n",
       "2   2010-09-01  37936.0\n",
       "3   2010-10-01  65352.0\n",
       "4   2010-11-01  48260.0\n",
       "..         ...      ...\n",
       "127 2021-02-01  65810.0\n",
       "128 2021-03-01  55984.0\n",
       "129 2021-04-01  49166.0\n",
       "130 2021-05-01  50190.0\n",
       "131 2021-06-01  67638.0\n",
       "\n",
       "[132 rows x 2 columns]"
      ]
     },
     "execution_count": 8,
     "metadata": {},
     "output_type": "execute_result"
    }
   ],
   "source": [
    "df1 = df[['월(Monthly)','총계']]\n",
    "df1"
   ]
  },
  {
   "cell_type": "code",
   "execution_count": 9,
   "metadata": {
    "ExecuteTime": {
     "end_time": "2021-10-26T04:31:16.790678Z",
     "start_time": "2021-10-26T04:31:16.779318Z"
    }
   },
   "outputs": [
    {
     "data": {
      "text/plain": [
       "0     2010-07-01\n",
       "1     2010-08-01\n",
       "2     2010-09-01\n",
       "3     2010-10-01\n",
       "4     2010-11-01\n",
       "         ...    \n",
       "127   2021-02-01\n",
       "128   2021-03-01\n",
       "129   2021-04-01\n",
       "130   2021-05-01\n",
       "131   2021-06-01\n",
       "Name: 월(Monthly), Length: 132, dtype: datetime64[ns]"
      ]
     },
     "execution_count": 9,
     "metadata": {},
     "output_type": "execute_result"
    }
   ],
   "source": [
    "df1['월(Monthly)']"
   ]
  },
  {
   "cell_type": "code",
   "execution_count": 10,
   "metadata": {
    "ExecuteTime": {
     "end_time": "2021-10-26T04:31:16.821326Z",
     "start_time": "2021-10-26T04:31:16.793319Z"
    }
   },
   "outputs": [
    {
     "data": {
      "text/plain": [
       "0      2010\n",
       "1      2010\n",
       "2      2010\n",
       "3      2010\n",
       "4      2010\n",
       "       ... \n",
       "127    2021\n",
       "128    2021\n",
       "129    2021\n",
       "130    2021\n",
       "131    2021\n",
       "Name: 월(Monthly), Length: 132, dtype: int64"
      ]
     },
     "execution_count": 10,
     "metadata": {},
     "output_type": "execute_result"
    }
   ],
   "source": [
    "df1['월(Monthly)'].dt.year"
   ]
  },
  {
   "cell_type": "code",
   "execution_count": 11,
   "metadata": {
    "ExecuteTime": {
     "end_time": "2021-10-26T04:31:16.837319Z",
     "start_time": "2021-10-26T04:31:16.825318Z"
    }
   },
   "outputs": [],
   "source": [
    "# datetime.strptime(df1['월(Monthly)'], '%y')"
   ]
  },
  {
   "cell_type": "code",
   "execution_count": 12,
   "metadata": {
    "ExecuteTime": {
     "end_time": "2021-10-26T04:31:16.852319Z",
     "start_time": "2021-10-26T04:31:16.841319Z"
    }
   },
   "outputs": [],
   "source": [
    "import warnings\n",
    "warnings.filterwarnings(action='ignore')"
   ]
  },
  {
   "cell_type": "code",
   "execution_count": 14,
   "metadata": {
    "ExecuteTime": {
     "end_time": "2021-10-26T04:31:16.882320Z",
     "start_time": "2021-10-26T04:31:16.870318Z"
    }
   },
   "outputs": [],
   "source": [
    "## 연도를 끝 두자리 파싱\n",
    "df1['연도']= pd.to_datetime(df1['월(Monthly)'], format='%y')"
   ]
  },
  {
   "cell_type": "code",
   "execution_count": 15,
   "metadata": {
    "ExecuteTime": {
     "end_time": "2021-10-26T04:31:16.898328Z",
     "start_time": "2021-10-26T04:31:16.886318Z"
    }
   },
   "outputs": [],
   "source": [
    "df1['연도']= df1['월(Monthly)'].dt.strftime('%y')"
   ]
  },
  {
   "cell_type": "code",
   "execution_count": 16,
   "metadata": {
    "ExecuteTime": {
     "end_time": "2021-10-26T04:31:16.930320Z",
     "start_time": "2021-10-26T04:31:16.900319Z"
    }
   },
   "outputs": [
    {
     "data": {
      "text/plain": [
       "0      10\n",
       "1      10\n",
       "2      10\n",
       "3      10\n",
       "4      10\n",
       "       ..\n",
       "127    21\n",
       "128    21\n",
       "129    21\n",
       "130    21\n",
       "131    21\n",
       "Name: 연도, Length: 132, dtype: object"
      ]
     },
     "execution_count": 16,
     "metadata": {},
     "output_type": "execute_result"
    }
   ],
   "source": [
    "df1['연도']"
   ]
  },
  {
   "cell_type": "code",
   "execution_count": 17,
   "metadata": {
    "ExecuteTime": {
     "end_time": "2021-10-26T04:31:26.509990Z",
     "start_time": "2021-10-26T04:31:16.934319Z"
    }
   },
   "outputs": [
    {
     "data": {
      "image/png": "[encoded data removed]",
      "text/plain": [
       "<Figure size 1440x720 with 1 Axes>"
      ]
     },
     "metadata": {
      "needs_background": "light"
     },
     "output_type": "display_data"
    }
   ],
   "source": [
    "import matplotlib.pyplot as plt\n",
    "import seaborn as sns\n",
    "\n",
    "plt.rc('font', family='NanumGothic')\n",
    "# plt.rc('figure', figsize=(20, 5))\n",
    "\n",
    "# plt.style.use('default')\n",
    "# plt.rcParams['figure.figsize'] = (20, 10)\n",
    "# plt.rcParams['font.size'] = 10\n",
    "\n",
    "## 데이터\n",
    "x = df1['월(Monthly)'].dt.strftime('%y-%m')\n",
    "y = df1['총계']\n",
    "\n",
    "## 폰트\n",
    "tick_size = 6  \n",
    "axis_label_size = 15 \n",
    "\n",
    "\n",
    "fig = plt.figure(figsize=(20, 10))  \n",
    "ax = fig.add_subplot() \n",
    "plt.xlim(left=min(x), right=max(x))\n",
    "colors = sns.color_palette('hls', len(x))  \n",
    "\n",
    "xtick_label_position = list(range(len(x)))  \n",
    "plt.xticks(xtick_label_position, x, fontsize=tick_size)\n",
    "# plt.xticks(x, fontsize=tick_size)\n",
    "plt.yticks(fontsize=tick_size)\n",
    "\n",
    "## 바 차트 \n",
    "bars = plt.bar(xtick_label_position, y, color=colors,\n",
    "               width=0.5)  #, alpha=0.7, linewidth=10)\n",
    "\n",
    "## y라벨값 \n",
    "for i, b in enumerate(bars):\n",
    "    ax.text(b.get_x()+b.get_width()*(1/2),b.get_height()+20, \\\n",
    "            y[i],ha='center',fontsize=10)\n",
    "\n",
    "plt.title('주택 건설실적 통계(준공)', fontsize=20)  \n",
    "\n",
    "\n",
    "plt.xlabel('년월') \n",
    "plt.ylabel('준공물량(세대)')  \n",
    "\n",
    "for label in ax.xaxis.get_ticklabels():\n",
    "    label.set_rotation(45)\n",
    "\n",
    "plt.show()"
   ]
  },
  {
   "cell_type": "code",
   "execution_count": 18,
   "metadata": {
    "ExecuteTime": {
     "end_time": "2021-10-26T04:31:26.540988Z",
     "start_time": "2021-10-26T04:31:26.513986Z"
    }
   },
   "outputs": [
    {
     "name": "stdout",
     "output_type": "stream",
     "text": [
      "<class 'pandas.core.frame.DataFrame'>\n",
      "RangeIndex: 132 entries, 0 to 131\n",
      "Data columns (total 3 columns):\n",
      " #   Column      Non-Null Count  Dtype         \n",
      "---  ------      --------------  -----         \n",
      " 0   월(Monthly)  132 non-null    datetime64[ns]\n",
      " 1   총계          132 non-null    float64       \n",
      " 2   연도          132 non-null    object        \n",
      "dtypes: datetime64[ns](1), float64(1), object(1)\n",
      "memory usage: 3.2+ KB\n"
     ]
    }
   ],
   "source": [
    "df1.info()"
   ]
  },
  {
   "cell_type": "code",
   "execution_count": 19,
   "metadata": {
    "ExecuteTime": {
     "end_time": "2021-10-26T04:31:26.587986Z",
     "start_time": "2021-10-26T04:31:26.543987Z"
    }
   },
   "outputs": [
    {
     "data": {
      "text/html": [
       "<div>\n",
       "<style scoped>\n",
       "    .dataframe tbody tr th:only-of-type {\n",
       "        vertical-align: middle;\n",
       "    }\n",
       "\n",
       "    .dataframe tbody tr th {\n",
       "        vertical-align: top;\n",
       "    }\n",
       "\n",
       "    .dataframe thead th {\n",
       "        text-align: right;\n",
       "    }\n",
       "</style>\n",
       "<table border=\"1\" class=\"dataframe\">\n",
       "  <thead>\n",
       "    <tr style=\"text-align: right;\">\n",
       "      <th></th>\n",
       "      <th>월(Monthly)</th>\n",
       "      <th>서울</th>\n",
       "      <th>인천</th>\n",
       "    </tr>\n",
       "  </thead>\n",
       "  <tbody>\n",
       "    <tr>\n",
       "      <th>0</th>\n",
       "      <td>2010-07-01</td>\n",
       "      <td>7026.0</td>\n",
       "      <td>1936.0</td>\n",
       "    </tr>\n",
       "    <tr>\n",
       "      <th>1</th>\n",
       "      <td>2010-08-01</td>\n",
       "      <td>8508.0</td>\n",
       "      <td>1916.0</td>\n",
       "    </tr>\n",
       "    <tr>\n",
       "      <th>2</th>\n",
       "      <td>2010-09-01</td>\n",
       "      <td>2916.0</td>\n",
       "      <td>1526.0</td>\n",
       "    </tr>\n",
       "    <tr>\n",
       "      <th>3</th>\n",
       "      <td>2010-10-01</td>\n",
       "      <td>3926.0</td>\n",
       "      <td>8840.0</td>\n",
       "    </tr>\n",
       "    <tr>\n",
       "      <th>4</th>\n",
       "      <td>2010-11-01</td>\n",
       "      <td>3894.0</td>\n",
       "      <td>7174.0</td>\n",
       "    </tr>\n",
       "    <tr>\n",
       "      <th>...</th>\n",
       "      <td>...</td>\n",
       "      <td>...</td>\n",
       "      <td>...</td>\n",
       "    </tr>\n",
       "    <tr>\n",
       "      <th>127</th>\n",
       "      <td>2021-02-01</td>\n",
       "      <td>21312.0</td>\n",
       "      <td>776.0</td>\n",
       "    </tr>\n",
       "    <tr>\n",
       "      <th>128</th>\n",
       "      <td>2021-03-01</td>\n",
       "      <td>11448.0</td>\n",
       "      <td>2236.0</td>\n",
       "    </tr>\n",
       "    <tr>\n",
       "      <th>129</th>\n",
       "      <td>2021-04-01</td>\n",
       "      <td>6846.0</td>\n",
       "      <td>2712.0</td>\n",
       "    </tr>\n",
       "    <tr>\n",
       "      <th>130</th>\n",
       "      <td>2021-05-01</td>\n",
       "      <td>8792.0</td>\n",
       "      <td>2440.0</td>\n",
       "    </tr>\n",
       "    <tr>\n",
       "      <th>131</th>\n",
       "      <td>2021-06-01</td>\n",
       "      <td>10224.0</td>\n",
       "      <td>6968.0</td>\n",
       "    </tr>\n",
       "  </tbody>\n",
       "</table>\n",
       "<p>132 rows × 3 columns</p>\n",
       "</div>"
      ],
      "text/plain": [
       "    월(Monthly)       서울      인천\n",
       "0   2010-07-01   7026.0  1936.0\n",
       "1   2010-08-01   8508.0  1916.0\n",
       "2   2010-09-01   2916.0  1526.0\n",
       "3   2010-10-01   3926.0  8840.0\n",
       "4   2010-11-01   3894.0  7174.0\n",
       "..         ...      ...     ...\n",
       "127 2021-02-01  21312.0   776.0\n",
       "128 2021-03-01  11448.0  2236.0\n",
       "129 2021-04-01   6846.0  2712.0\n",
       "130 2021-05-01   8792.0  2440.0\n",
       "131 2021-06-01  10224.0  6968.0\n",
       "\n",
       "[132 rows x 3 columns]"
      ]
     },
     "execution_count": 19,
     "metadata": {},
     "output_type": "execute_result"
    }
   ],
   "source": [
    "df_인천 = df[['월(Monthly)','서울', '인천']]\n",
    "df_인천"
   ]
  },
  {
   "cell_type": "markdown",
   "metadata": {},
   "source": [
    "## 2021 주택건설 준공물량(서울, 인천)\n",
    "꺾은선 그래프"
   ]
  },
  {
   "cell_type": "code",
   "execution_count": 20,
   "metadata": {
    "ExecuteTime": {
     "end_time": "2021-10-26T04:31:27.135728Z",
     "start_time": "2021-10-26T04:31:26.589986Z"
    }
   },
   "outputs": [
    {
     "data": {
      "image/png": "[encoded data removed]",
      "text/plain": [
       "<Figure size 1152x432 with 1 Axes>"
      ]
     },
     "metadata": {
      "needs_background": "light"
     },
     "output_type": "display_data"
    }
   ],
   "source": [
    "# 1. 기본 스타일 설정\n",
    "plt.rcParams['figure.figsize'] = (16, 6)\n",
    "plt.rcParams['font.size'] = 12\n",
    "\n",
    "# 2. 데이터\n",
    "# x = df_merged['Time']\n",
    "x = df['월(Monthly)']\n",
    "y1 = df['서울']\n",
    "y2 = df['인천']\n",
    "\n",
    "# 3. 그래프\n",
    "fig, ax1 = plt.subplots()\n",
    "\n",
    "# y1 : 서울 준공물량\n",
    "ax1.plot(x, y1, '-s', color='skyblue', markersize=3, linewidth=3, alpha=0.7, label='서울')\n",
    "# ax1.set_ylim(0, 18)\n",
    "ax1.set_xlabel('연도')\n",
    "ax1.set_ylabel('준공물량')\n",
    "ax1.tick_params(axis='both', direction='in')\n",
    "\n",
    "\n",
    "# y2 : 인천 준공물량\n",
    "ax2 = ax1\n",
    "ax2.plot(x, y2, '-s', color='navy', markersize=3, linewidth=3, alpha=0.7, label='인천')\n",
    "\n",
    "\n",
    "ax1.set_zorder(ax2.get_zorder() + 10)\n",
    "ax1.patch.set_visible(False)\n",
    "\n",
    "ax1.legend(loc='upper left')\n",
    "ax2.legend(loc='upper right')\n",
    "\n",
    "plt.title('2021 주택건설 준공물량(서울, 인천)')\n",
    "plt.show()"
   ]
  },
  {
   "cell_type": "code",
   "execution_count": 21,
   "metadata": {
    "ExecuteTime": {
     "end_time": "2021-10-26T04:31:27.151755Z",
     "start_time": "2021-10-26T04:31:27.137726Z"
    }
   },
   "outputs": [],
   "source": [
    "# 이상치 제거\n",
    "df = df[df['인천']>0]"
   ]
  },
  {
   "cell_type": "markdown",
   "metadata": {},
   "source": [
    "## 2021 주택건설 준공물량(서울, 인천)\n",
    "막대그래프"
   ]
  },
  {
   "cell_type": "code",
   "execution_count": 22,
   "metadata": {
    "ExecuteTime": {
     "end_time": "2021-10-26T04:31:27.182764Z",
     "start_time": "2021-10-26T04:31:27.154760Z"
    }
   },
   "outputs": [
    {
     "data": {
      "text/plain": [
       "0     2010-07-01\n",
       "1     2010-08-01\n",
       "2     2010-09-01\n",
       "3     2010-10-01\n",
       "4     2010-11-01\n",
       "         ...    \n",
       "127   2021-02-01\n",
       "128   2021-03-01\n",
       "129   2021-04-01\n",
       "130   2021-05-01\n",
       "131   2021-06-01\n",
       "Name: 월(Monthly), Length: 132, dtype: datetime64[ns]"
      ]
     },
     "execution_count": 22,
     "metadata": {},
     "output_type": "execute_result"
    }
   ],
   "source": [
    "x"
   ]
  },
  {
   "cell_type": "code",
   "execution_count": 23,
   "metadata": {
    "ExecuteTime": {
     "end_time": "2021-10-26T04:31:27.213140Z",
     "start_time": "2021-10-26T04:31:27.193764Z"
    }
   },
   "outputs": [
    {
     "data": {
      "text/plain": [
       "(132,)"
      ]
     },
     "execution_count": 23,
     "metadata": {},
     "output_type": "execute_result"
    }
   ],
   "source": [
    "y1.shape"
   ]
  },
  {
   "cell_type": "code",
   "execution_count": 24,
   "metadata": {
    "ExecuteTime": {
     "end_time": "2021-10-26T04:31:28.092142Z",
     "start_time": "2021-10-26T04:31:27.218140Z"
    }
   },
   "outputs": [
    {
     "data": {
      "image/png": "[encoded data removed]",
      "text/plain": [
       "<Figure size 1152x432 with 1 Axes>"
      ]
     },
     "metadata": {
      "needs_background": "light"
     },
     "output_type": "display_data"
    }
   ],
   "source": [
    "# 1. 기본 설정\n",
    "# plt.style.use('default')\n",
    "plt.rcParams['figure.figsize'] = (16, 6)\n",
    "plt.rcParams['font.size'] = 12\n",
    "\n",
    "# 2. 데이터\n",
    "# x = df_merged['Time']\n",
    "x = df['월(Monthly)']\n",
    "y1 = df['서울']\n",
    "y2 = df['인천']\n",
    "\n",
    "# 3. 그래프\n",
    "fig, ax1 = plt.subplots()\n",
    "\n",
    "# y1 : 서울 준공물량\n",
    "ax1.bar(x, y1, color='skyblue', width=10, alpha=0.7, label='서울')\n",
    "# ax1.set_ylim(0, 18)\n",
    "ax1.set_xlabel('연월')\n",
    "ax1.set_ylabel('준공물량')\n",
    "ax1.tick_params(axis='both', direction='in')\n",
    "\n",
    "\n",
    "# y2 : 인천 준공물량\n",
    "ax2 = ax1\n",
    "ax2.bar(x, y2, color='navy', width=10, alpha=0.7, label='인천')\n",
    "\n",
    "ax1.set_zorder(ax2.get_zorder() + 10)\n",
    "ax1.patch.set_visible(False)\n",
    "\n",
    "ax1.legend(loc='upper left')\n",
    "ax2.legend(loc='upper right')\n",
    "\n",
    "plt.title('2021 주택건설 준공물량(서울, 인천)')\n",
    "plt.show()"
   ]
  },
  {
   "cell_type": "markdown",
   "metadata": {},
   "source": [
    "# 매매가, 전세가, 인허가, 미분양 한번에 시각화"
   ]
  },
  {
   "cell_type": "markdown",
   "metadata": {},
   "source": [
    "## xlwings 패키지"
   ]
  },
  {
   "cell_type": "code",
   "execution_count": 25,
   "metadata": {
    "ExecuteTime": {
     "end_time": "2021-10-26T04:31:28.108143Z",
     "start_time": "2021-10-26T04:31:28.096141Z"
    },
    "scrolled": true
   },
   "outputs": [],
   "source": [
    "# !pip install xlwings"
   ]
  },
  {
   "cell_type": "code",
   "execution_count": 26,
   "metadata": {
    "ExecuteTime": {
     "end_time": "2021-10-26T04:31:28.581140Z",
     "start_time": "2021-10-26T04:31:28.112141Z"
    }
   },
   "outputs": [],
   "source": [
    "import xlwings as xw"
   ]
  },
  {
   "cell_type": "markdown",
   "metadata": {},
   "source": [
    "## 인허가 엑셀 데이터"
   ]
  },
  {
   "cell_type": "code",
   "execution_count": 27,
   "metadata": {
    "ExecuteTime": {
     "end_time": "2021-10-26T04:31:28.708141Z",
     "start_time": "2021-10-26T04:31:28.583142Z"
    }
   },
   "outputs": [],
   "source": [
    "path = r'./data/부문별+주택건설+인허가실적(월별_누계)_1946_1_20210831095911.xlsx'\n",
    "per_raw = pd.read_excel(path, index_col=0)"
   ]
  },
  {
   "cell_type": "code",
   "execution_count": 28,
   "metadata": {
    "ExecuteTime": {
     "end_time": "2021-10-26T04:31:28.724141Z",
     "start_time": "2021-10-26T04:31:28.710141Z"
    }
   },
   "outputs": [],
   "source": [
    "tr_per = per_raw.T"
   ]
  },
  {
   "cell_type": "code",
   "execution_count": 29,
   "metadata": {
    "ExecuteTime": {
     "end_time": "2021-10-26T04:31:28.771149Z",
     "start_time": "2021-10-26T04:31:28.727141Z"
    }
   },
   "outputs": [
    {
     "data": {
      "text/html": [
       "<div>\n",
       "<style scoped>\n",
       "    .dataframe tbody tr th:only-of-type {\n",
       "        vertical-align: middle;\n",
       "    }\n",
       "\n",
       "    .dataframe tbody tr th {\n",
       "        vertical-align: top;\n",
       "    }\n",
       "\n",
       "    .dataframe thead th {\n",
       "        text-align: right;\n",
       "    }\n",
       "</style>\n",
       "<table border=\"1\" class=\"dataframe\">\n",
       "  <thead>\n",
       "    <tr style=\"text-align: right;\">\n",
       "      <th>시도별</th>\n",
       "      <th>전국</th>\n",
       "      <th>서울</th>\n",
       "      <th>인천</th>\n",
       "      <th>경기</th>\n",
       "      <th>부산</th>\n",
       "      <th>대구</th>\n",
       "      <th>광주</th>\n",
       "      <th>대전</th>\n",
       "      <th>울산</th>\n",
       "      <th>세종</th>\n",
       "      <th>강원</th>\n",
       "      <th>충북</th>\n",
       "      <th>충남</th>\n",
       "      <th>전북</th>\n",
       "      <th>전남</th>\n",
       "      <th>경북</th>\n",
       "      <th>경남</th>\n",
       "      <th>제주</th>\n",
       "    </tr>\n",
       "  </thead>\n",
       "  <tbody>\n",
       "    <tr>\n",
       "      <th>2007-01</th>\n",
       "      <td>36754.0</td>\n",
       "      <td>4590.0</td>\n",
       "      <td>207.0</td>\n",
       "      <td>8579.0</td>\n",
       "      <td>1365.0</td>\n",
       "      <td>2454.0</td>\n",
       "      <td>3066.0</td>\n",
       "      <td>165.0</td>\n",
       "      <td>549.0</td>\n",
       "      <td>NaN</td>\n",
       "      <td>1356.0</td>\n",
       "      <td>564.0</td>\n",
       "      <td>3012.0</td>\n",
       "      <td>2664.0</td>\n",
       "      <td>620.0</td>\n",
       "      <td>2094.0</td>\n",
       "      <td>5073.0</td>\n",
       "      <td>396.0</td>\n",
       "    </tr>\n",
       "    <tr>\n",
       "      <th>2007-02</th>\n",
       "      <td>92323.0</td>\n",
       "      <td>6972.0</td>\n",
       "      <td>555.0</td>\n",
       "      <td>18207.0</td>\n",
       "      <td>4662.0</td>\n",
       "      <td>10647.0</td>\n",
       "      <td>6600.0</td>\n",
       "      <td>267.0</td>\n",
       "      <td>4068.0</td>\n",
       "      <td>NaN</td>\n",
       "      <td>1928.0</td>\n",
       "      <td>1479.0</td>\n",
       "      <td>6930.0</td>\n",
       "      <td>4470.0</td>\n",
       "      <td>2102.0</td>\n",
       "      <td>10122.0</td>\n",
       "      <td>12618.0</td>\n",
       "      <td>696.0</td>\n",
       "    </tr>\n",
       "    <tr>\n",
       "      <th>2007-03</th>\n",
       "      <td>152565.0</td>\n",
       "      <td>12636.0</td>\n",
       "      <td>3345.0</td>\n",
       "      <td>27899.0</td>\n",
       "      <td>11025.0</td>\n",
       "      <td>13788.0</td>\n",
       "      <td>10641.0</td>\n",
       "      <td>462.0</td>\n",
       "      <td>6123.0</td>\n",
       "      <td>NaN</td>\n",
       "      <td>3095.0</td>\n",
       "      <td>3561.0</td>\n",
       "      <td>12600.0</td>\n",
       "      <td>6459.0</td>\n",
       "      <td>3275.0</td>\n",
       "      <td>17064.0</td>\n",
       "      <td>19581.0</td>\n",
       "      <td>1011.0</td>\n",
       "    </tr>\n",
       "    <tr>\n",
       "      <th>2007-04</th>\n",
       "      <td>210187.0</td>\n",
       "      <td>18525.0</td>\n",
       "      <td>13356.0</td>\n",
       "      <td>39860.0</td>\n",
       "      <td>12117.0</td>\n",
       "      <td>15330.0</td>\n",
       "      <td>11319.0</td>\n",
       "      <td>705.0</td>\n",
       "      <td>12966.0</td>\n",
       "      <td>NaN</td>\n",
       "      <td>6621.0</td>\n",
       "      <td>4953.0</td>\n",
       "      <td>14703.0</td>\n",
       "      <td>7881.0</td>\n",
       "      <td>6932.0</td>\n",
       "      <td>20736.0</td>\n",
       "      <td>22728.0</td>\n",
       "      <td>1455.0</td>\n",
       "    </tr>\n",
       "    <tr>\n",
       "      <th>2007-05</th>\n",
       "      <td>308706.0</td>\n",
       "      <td>24123.0</td>\n",
       "      <td>13989.0</td>\n",
       "      <td>79364.0</td>\n",
       "      <td>14808.0</td>\n",
       "      <td>17055.0</td>\n",
       "      <td>18396.0</td>\n",
       "      <td>2238.0</td>\n",
       "      <td>13698.0</td>\n",
       "      <td>NaN</td>\n",
       "      <td>8160.0</td>\n",
       "      <td>6993.0</td>\n",
       "      <td>23964.0</td>\n",
       "      <td>11834.0</td>\n",
       "      <td>7991.0</td>\n",
       "      <td>23286.0</td>\n",
       "      <td>41118.0</td>\n",
       "      <td>1689.0</td>\n",
       "    </tr>\n",
       "  </tbody>\n",
       "</table>\n",
       "</div>"
      ],
      "text/plain": [
       "시도별            전국       서울       인천       경기       부산       대구       광주  \\\n",
       "2007-01   36754.0   4590.0    207.0   8579.0   1365.0   2454.0   3066.0   \n",
       "2007-02   92323.0   6972.0    555.0  18207.0   4662.0  10647.0   6600.0   \n",
       "2007-03  152565.0  12636.0   3345.0  27899.0  11025.0  13788.0  10641.0   \n",
       "2007-04  210187.0  18525.0  13356.0  39860.0  12117.0  15330.0  11319.0   \n",
       "2007-05  308706.0  24123.0  13989.0  79364.0  14808.0  17055.0  18396.0   \n",
       "\n",
       "시도별          대전       울산  세종      강원      충북       충남       전북      전남  \\\n",
       "2007-01   165.0    549.0 NaN  1356.0   564.0   3012.0   2664.0   620.0   \n",
       "2007-02   267.0   4068.0 NaN  1928.0  1479.0   6930.0   4470.0  2102.0   \n",
       "2007-03   462.0   6123.0 NaN  3095.0  3561.0  12600.0   6459.0  3275.0   \n",
       "2007-04   705.0  12966.0 NaN  6621.0  4953.0  14703.0   7881.0  6932.0   \n",
       "2007-05  2238.0  13698.0 NaN  8160.0  6993.0  23964.0  11834.0  7991.0   \n",
       "\n",
       "시도별           경북       경남      제주  \n",
       "2007-01   2094.0   5073.0   396.0  \n",
       "2007-02  10122.0  12618.0   696.0  \n",
       "2007-03  17064.0  19581.0  1011.0  \n",
       "2007-04  20736.0  22728.0  1455.0  \n",
       "2007-05  23286.0  41118.0  1689.0  "
      ]
     },
     "execution_count": 29,
     "metadata": {},
     "output_type": "execute_result"
    }
   ],
   "source": [
    "tr_per.head()"
   ]
  },
  {
   "cell_type": "code",
   "execution_count": 30,
   "metadata": {
    "ExecuteTime": {
     "end_time": "2021-10-26T04:31:28.787142Z",
     "start_time": "2021-10-26T04:31:28.775143Z"
    }
   },
   "outputs": [
    {
     "data": {
      "text/plain": [
       "Index(['2007-01', '2007-02', '2007-03', '2007-04', '2007-05', '2007-06',\n",
       "       '2007-07', '2007-08', '2007-09', '2007-10',\n",
       "       ...\n",
       "       '2020-09', '2020-10', '2020-11', '2020-12', '2021-01', '2021-02',\n",
       "       '2021-03', '2021-04', '2021-05', '2021-06'],\n",
       "      dtype='object', length=174)"
      ]
     },
     "execution_count": 30,
     "metadata": {},
     "output_type": "execute_result"
    }
   ],
   "source": [
    "tr_per.index"
   ]
  },
  {
   "cell_type": "code",
   "execution_count": 31,
   "metadata": {
    "ExecuteTime": {
     "end_time": "2021-10-26T04:31:28.820141Z",
     "start_time": "2021-10-26T04:31:28.789141Z"
    }
   },
   "outputs": [
    {
     "name": "stdout",
     "output_type": "stream",
     "text": [
      "['2007', '01']\n",
      "['2007', '02']\n",
      "['2007', '03']\n",
      "['2007', '04']\n",
      "['2007', '05']\n",
      "['2007', '06']\n",
      "['2007', '07']\n",
      "['2007', '08']\n",
      "['2007', '09']\n",
      "['2007', '10']\n",
      "['2007', '11']\n",
      "['2007', '12']\n",
      "['2008', '01']\n",
      "['2008', '02']\n",
      "['2008', '03']\n",
      "['2008', '04']\n",
      "['2008', '05']\n",
      "['2008', '06']\n",
      "['2008', '07']\n",
      "['2008', '08']\n",
      "['2008', '09']\n",
      "['2008', '10']\n",
      "['2008', '11']\n",
      "['2008', '12']\n",
      "['2009', '01']\n",
      "['2009', '02']\n",
      "['2009', '03']\n",
      "['2009', '04']\n",
      "['2009', '05']\n",
      "['2009', '06']\n",
      "['2009', '07']\n",
      "['2009', '08']\n",
      "['2009', '09']\n",
      "['2009', '10']\n",
      "['2009', '11']\n",
      "['2009', '12']\n",
      "['2010', '01']\n",
      "['2010', '02']\n",
      "['2010', '03']\n",
      "['2010', '04']\n",
      "['2010', '05']\n",
      "['2010', '06']\n",
      "['2010', '07']\n",
      "['2010', '08']\n",
      "['2010', '09']\n",
      "['2010', '10']\n",
      "['2010', '11']\n",
      "['2010', '12']\n",
      "['2011', '01']\n",
      "['2011', '02']\n",
      "['2011', '03']\n",
      "['2011', '04']\n",
      "['2011', '05']\n",
      "['2011', '06']\n",
      "['2011', '07']\n",
      "['2011', '08']\n",
      "['2011', '09']\n",
      "['2011', '10']\n",
      "['2011', '11']\n",
      "['2011', '12']\n",
      "['2012', '01']\n",
      "['2012', '02']\n",
      "['2012', '03']\n",
      "['2012', '04']\n",
      "['2012', '05']\n",
      "['2012', '06']\n",
      "['2012', '07']\n",
      "['2012', '08']\n",
      "['2012', '09']\n",
      "['2012', '10']\n",
      "['2012', '11']\n",
      "['2012', '12']\n",
      "['2013', '01']\n",
      "['2013', '02']\n",
      "['2013', '03']\n",
      "['2013', '04']\n",
      "['2013', '05']\n",
      "['2013', '06']\n",
      "['2013', '07']\n",
      "['2013', '08']\n",
      "['2013', '09']\n",
      "['2013', '10']\n",
      "['2013', '11']\n",
      "['2013', '12']\n",
      "['2014', '01']\n",
      "['2014', '02']\n",
      "['2014', '03']\n",
      "['2014', '04']\n",
      "['2014', '05']\n",
      "['2014', '06']\n",
      "['2014', '07']\n",
      "['2014', '08']\n",
      "['2014', '09']\n",
      "['2014', '10']\n",
      "['2014', '11']\n",
      "['2014', '12']\n",
      "['2015', '01']\n",
      "['2015', '02']\n",
      "['2015', '03']\n",
      "['2015', '04']\n",
      "['2015', '05']\n",
      "['2015', '06']\n",
      "['2015', '07']\n",
      "['2015', '08']\n",
      "['2015', '09']\n",
      "['2015', '10']\n",
      "['2015', '11']\n",
      "['2015', '12']\n",
      "['2016', '01']\n",
      "['2016', '02']\n",
      "['2016', '03']\n",
      "['2016', '04']\n",
      "['2016', '05']\n",
      "['2016', '06']\n",
      "['2016', '07']\n",
      "['2016', '08']\n",
      "['2016', '09']\n",
      "['2016', '10']\n",
      "['2016', '11']\n",
      "['2016', '12']\n",
      "['2017', '01']\n",
      "['2017', '02']\n",
      "['2017', '03']\n",
      "['2017', '04']\n",
      "['2017', '05']\n",
      "['2017', '06']\n",
      "['2017', '07']\n",
      "['2017', '08']\n",
      "['2017', '09']\n",
      "['2017', '10']\n",
      "['2017', '11']\n",
      "['2017', '12']\n",
      "['2018', '01']\n",
      "['2018', '02']\n",
      "['2018', '03']\n",
      "['2018', '04']\n",
      "['2018', '05']\n",
      "['2018', '06']\n",
      "['2018', '07']\n",
      "['2018', '08']\n",
      "['2018', '09']\n",
      "['2018', '10']\n",
      "['2018', '11']\n",
      "['2018', '12']\n",
      "['2019', '01']\n",
      "['2019', '02']\n",
      "['2019', '03']\n",
      "['2019', '04']\n",
      "['2019', '05']\n",
      "['2019', '06']\n",
      "['2019', '07']\n",
      "['2019', '08']\n",
      "['2019', '09']\n",
      "['2019', '10']\n",
      "['2019', '11']\n",
      "['2019', '12']\n",
      "['2020', '01']\n",
      "['2020', '02']\n",
      "['2020', '03']\n",
      "['2020', '04']\n",
      "['2020', '05']\n",
      "['2020', '06']\n",
      "['2020', '07']\n",
      "['2020', '08']\n",
      "['2020', '09']\n",
      "['2020', '10']\n",
      "['2020', '11']\n",
      "['2020', '12']\n",
      "['2021', '01']\n",
      "['2021', '02']\n",
      "['2021', '03']\n",
      "['2021', '04']\n",
      "['2021', '05']\n",
      "['2021', '06']\n"
     ]
    }
   ],
   "source": [
    "for old_date in tr_per.index:\n",
    "    temp_list = old_date.split('-')\n",
    "    print(temp_list)"
   ]
  },
  {
   "cell_type": "code",
   "execution_count": 32,
   "metadata": {
    "ExecuteTime": {
     "end_time": "2021-10-26T04:31:28.835140Z",
     "start_time": "2021-10-26T04:31:28.823141Z"
    }
   },
   "outputs": [
    {
     "name": "stdout",
     "output_type": "stream",
     "text": [
      "['2007.01', '2007.02', '2007.03', '2007.04', '2007.05', '2007.06', '2007.07', '2007.08', '2007.09', '2007.10', '2007.11', '2007.12', '2008.01', '2008.02', '2008.03', '2008.04', '2008.05', '2008.06', '2008.07', '2008.08', '2008.09', '2008.10', '2008.11', '2008.12', '2009.01', '2009.02', '2009.03', '2009.04', '2009.05', '2009.06', '2009.07', '2009.08', '2009.09', '2009.10', '2009.11', '2009.12', '2010.01', '2010.02', '2010.03', '2010.04', '2010.05', '2010.06', '2010.07', '2010.08', '2010.09', '2010.10', '2010.11', '2010.12', '2011.01', '2011.02', '2011.03', '2011.04', '2011.05', '2011.06', '2011.07', '2011.08', '2011.09', '2011.10', '2011.11', '2011.12', '2012.01', '2012.02', '2012.03', '2012.04', '2012.05', '2012.06', '2012.07', '2012.08', '2012.09', '2012.10', '2012.11', '2012.12', '2013.01', '2013.02', '2013.03', '2013.04', '2013.05', '2013.06', '2013.07', '2013.08', '2013.09', '2013.10', '2013.11', '2013.12', '2014.01', '2014.02', '2014.03', '2014.04', '2014.05', '2014.06', '2014.07', '2014.08', '2014.09', '2014.10', '2014.11', '2014.12', '2015.01', '2015.02', '2015.03', '2015.04', '2015.05', '2015.06', '2015.07', '2015.08', '2015.09', '2015.10', '2015.11', '2015.12', '2016.01', '2016.02', '2016.03', '2016.04', '2016.05', '2016.06', '2016.07', '2016.08', '2016.09', '2016.10', '2016.11', '2016.12', '2017.01', '2017.02', '2017.03', '2017.04', '2017.05', '2017.06', '2017.07', '2017.08', '2017.09', '2017.10', '2017.11', '2017.12', '2018.01', '2018.02', '2018.03', '2018.04', '2018.05', '2018.06', '2018.07', '2018.08', '2018.09', '2018.10', '2018.11', '2018.12', '2019.01', '2019.02', '2019.03', '2019.04', '2019.05', '2019.06', '2019.07', '2019.08', '2019.09', '2019.10', '2019.11', '2019.12', '2020.01', '2020.02', '2020.03', '2020.04', '2020.05', '2020.06', '2020.07', '2020.08', '2020.09', '2020.10', '2020.11', '2020.12', '2021.01', '2021.02', '2021.03', '2021.04', '2021.05', '2021.06']\n"
     ]
    }
   ],
   "source": [
    "# 인덱스를 '연도.날짜' 형식으로\n",
    "\n",
    "new_index = []\n",
    "\n",
    "for old_date in tr_per.index:\n",
    "    temp_list = old_date.split('-')\n",
    "    new_index.append(temp_list[0][:4] + '.' + temp_list[1][:2])\n",
    "\n",
    "print(new_index)"
   ]
  },
  {
   "cell_type": "code",
   "execution_count": 33,
   "metadata": {
    "ExecuteTime": {
     "end_time": "2021-10-26T04:31:28.851141Z",
     "start_time": "2021-10-26T04:31:28.838141Z"
    }
   },
   "outputs": [],
   "source": [
    "# 인덱스를 새로 설정하고 데이터프레임 완성하기 \n",
    "\n",
    "tr_per.index = pd.to_datetime(new_index)\n",
    "tr_per.columns.name = None"
   ]
  },
  {
   "cell_type": "code",
   "execution_count": 34,
   "metadata": {
    "ExecuteTime": {
     "end_time": "2021-10-26T04:31:28.868143Z",
     "start_time": "2021-10-26T04:31:28.854141Z"
    }
   },
   "outputs": [
    {
     "data": {
      "text/plain": [
       "DatetimeIndex(['2007-01-01', '2007-02-01', '2007-03-01', '2007-04-01',\n",
       "               '2007-05-01', '2007-06-01', '2007-07-01', '2007-08-01',\n",
       "               '2007-09-01', '2007-10-01',\n",
       "               ...\n",
       "               '2020-09-01', '2020-10-01', '2020-11-01', '2020-12-01',\n",
       "               '2021-01-01', '2021-02-01', '2021-03-01', '2021-04-01',\n",
       "               '2021-05-01', '2021-06-01'],\n",
       "              dtype='datetime64[ns]', length=174, freq=None)"
      ]
     },
     "execution_count": 34,
     "metadata": {},
     "output_type": "execute_result"
    }
   ],
   "source": [
    "tr_per.index"
   ]
  },
  {
   "cell_type": "markdown",
   "metadata": {},
   "source": [
    "## 인허가 데이터 가져오는 함수\n",
    "@pablo"
   ]
  },
  {
   "cell_type": "code",
   "execution_count": 35,
   "metadata": {
    "ExecuteTime": {
     "end_time": "2021-10-26T04:31:28.883141Z",
     "start_time": "2021-10-26T04:31:28.871141Z"
    }
   },
   "outputs": [],
   "source": [
    "# 인허가 데이터를 데이터프레임으로 변환하는 함수 정의 \n",
    "\n",
    "def per_preprocessing(path):\n",
    "    per_raw = pd.read_excel(path, index_col=0)\n",
    "    tr_per = per_raw.T\n",
    "    new_index = []\n",
    "\n",
    "\n",
    "    for old_date in tr_per.index:\n",
    "        temp_list = old_date.split('-')\n",
    "        new_index.append(temp_list[0][:4] + '.' + temp_list[1][:2])\n",
    "              \n",
    "    tr_per.index = pd.to_datetime(new_index)\n",
    "    tr_per.columns.name = None\n",
    "    \n",
    "    return tr_per"
   ]
  },
  {
   "cell_type": "markdown",
   "metadata": {},
   "source": [
    "## 미분양 데이터 가져오는 함수"
   ]
  },
  {
   "cell_type": "code",
   "execution_count": 36,
   "metadata": {
    "ExecuteTime": {
     "end_time": "2021-10-26T04:31:29.038141Z",
     "start_time": "2021-10-26T04:31:28.886144Z"
    }
   },
   "outputs": [],
   "source": [
    "unsold_path = r'./data/공사완료후+미분양현황_5328_1_20210831092027.xlsx'\n",
    "unsold_raw = pd.read_excel(unsold_path, index_col=0)"
   ]
  },
  {
   "cell_type": "code",
   "execution_count": 37,
   "metadata": {
    "ExecuteTime": {
     "end_time": "2021-10-26T04:31:29.054143Z",
     "start_time": "2021-10-26T04:31:29.041141Z"
    }
   },
   "outputs": [],
   "source": [
    "tr_unsold = unsold_raw.T  # 행렬전환\n",
    "\n",
    "# 행정구역명을 데이터 프레임으로\n",
    "tr_unsold.index = pd.to_datetime(tr_unsold.index)\n",
    "tr_unsold.columns.name = None"
   ]
  },
  {
   "cell_type": "code",
   "execution_count": 38,
   "metadata": {
    "ExecuteTime": {
     "end_time": "2021-10-26T04:31:29.070151Z",
     "start_time": "2021-10-26T04:31:29.057142Z"
    }
   },
   "outputs": [],
   "source": [
    "# 함수 정의\n",
    "\n",
    "def unsold_preprocessing(path):\n",
    "    unsold_raw = pd.read_excel(path, index_col=0)\n",
    "    \n",
    "#     del unsold_raw['시군구']\n",
    "    tr_unsold = unsold_raw.T\n",
    "    tr_unsold.index = pd.to_datetime(tr_unsold.index)\n",
    "    tr_unsold.columns.name = None\n",
    "    \n",
    "    return tr_unsold"
   ]
  },
  {
   "cell_type": "markdown",
   "metadata": {},
   "source": [
    "## KB 부동산 데이터 가져오는 함수"
   ]
  },
  {
   "cell_type": "code",
   "execution_count": 39,
   "metadata": {
    "ExecuteTime": {
     "end_time": "2021-10-26T04:31:29.103144Z",
     "start_time": "2021-10-26T04:31:29.074142Z"
    }
   },
   "outputs": [],
   "source": [
    "def KB_preprocessing(path, sheet_name):\n",
    "    # path : KB 데이터 엑셀 파일의 저장경로\n",
    "    # sheet_name : ‘매매종합’, ‘매매APT’, ‘매매연립’, ‘매매단독’, ‘전세종합’, ‘전세APT’, ‘전세연립’, ‘전세단독’ 중 하나\n",
    "    \n",
    "    app = xw.App(visible=False) # 1. App\n",
    "    wb = app.books.open(path)    # 2. book\n",
    "    sheet = wb.sheets[sheet_name] # 3. Sheet  \n",
    "    \n",
    "    row_num = sheet.range(1,1).end('down').end('down').end('down').row  # 4. Range\n",
    "    data_range = 'A2:GE' + str(row_num)\n",
    "    \n",
    "    df = sheet[data_range].options(pd.DataFrame, index=False, header=True).value \n",
    "    \n",
    "    statesnames = '서울 대구 부산 대전 광주 인천 울산 세종 경기 강원 충북 충남 전북 전남 경북 경남 제주도 6개광역시 5개광역시 수도권 기타지방 구분 전국'\n",
    "    statesname_list = statesnames.split(' ')\n",
    "    \n",
    "    states_col = list(df.columns)\n",
    "    small_col = list(df.iloc[0])\n",
    "\n",
    "    for num, district_data in enumerate(small_col):\n",
    "        if district_data == None:\n",
    "            small_col[num] = states_col[num]\n",
    "\n",
    "        check = num\n",
    "        while True:\n",
    "            if states_col[check] in statesname_list:\n",
    "                states_col[num] = states_col[check]\n",
    "                break\n",
    "            else:\n",
    "                check = check - 1\n",
    "                \n",
    "    states_col[129] = '경기' \n",
    "    states_col[130] = '경기'\n",
    "    small_col[185] = '서귀포'\n",
    "    \n",
    "    df.columns = [states_col, small_col]\n",
    "    new_col_data = df.drop([0,1])\n",
    "    \n",
    "    index_list = list(new_col_data['구분']['구분'])\n",
    "\n",
    "    new_index = []\n",
    "\n",
    "    for num, raw_index in enumerate(index_list):\n",
    "        temp = str(raw_index).split('.')\n",
    "        if int(temp[0]) > 12 :\n",
    "            if len(temp[0]) == 2:\n",
    "                new_index.append('19' + temp[0] + '.' + temp[1])\n",
    "            else:\n",
    "                new_index.append(temp[0] + '.' + temp[1])\n",
    "        else:\n",
    "            new_index.append(new_index[num-1].split('.')[0] + '.' + temp[0])\n",
    "\n",
    "    new_col_data.set_index(pd.to_datetime(new_index), inplace=True)\n",
    "    cleaned_data  = new_col_data.drop(('구분', '구분'), axis=1)\n",
    "    return cleaned_data"
   ]
  },
  {
   "cell_type": "markdown",
   "metadata": {
    "ExecuteTime": {
     "end_time": "2021-09-01T05:03:17.108654Z",
     "start_time": "2021-09-01T05:02:44.572006Z"
    }
   },
   "source": [
    "# Data Pre-processing\n",
    "앞서 정의한 함수이용"
   ]
  },
  {
   "cell_type": "code",
   "execution_count": 40,
   "metadata": {
    "ExecuteTime": {
     "end_time": "2021-10-26T04:32:00.263683Z",
     "start_time": "2021-10-26T04:31:29.108141Z"
    }
   },
   "outputs": [],
   "source": [
    "# 인허가 물량\n",
    "path = r'./data/부문별+주택건설+인허가실적(월별_누계)_1946_1_20210831095911.xlsx'\n",
    "per = per_preprocessing(path)\n",
    "\n",
    "# 미분양 물량\n",
    "unsold_path = r'./data/공사완료후+미분양현황_5328_1_20210831092027.xlsx'\n",
    "unsold = unsold_preprocessing(unsold_path)\n",
    "\n",
    "# 매매가와 전세가\n",
    "kb_path = r'./data/★(월간)KB주택가격동향_시계열(2021.06)_A지수통계.xlsx'\n",
    "price_index = KB_preprocessing(kb_path, '매매APT')\n",
    "jun_index   = KB_preprocessing(kb_path, '전세APT')"
   ]
  },
  {
   "cell_type": "code",
   "execution_count": 41,
   "metadata": {
    "ExecuteTime": {
     "end_time": "2021-10-26T04:32:00.294199Z",
     "start_time": "2021-10-26T04:32:00.267684Z"
    }
   },
   "outputs": [],
   "source": [
    "import matplotlib.pyplot as plt\n",
    "from matplotlib import font_manager, rc\n",
    "from matplotlib import style\n",
    "style.use('ggplot')\n",
    "%matplotlib inline\n",
    "\n",
    "#한글폰트\n",
    "font_name = font_manager.FontProperties(fname=\"c:/Windows/Fonts/malgun.ttf\").get_name()\n",
    "rc('font', family=font_name)\n",
    "plt.rcParams['axes.unicode_minus'] = False"
   ]
  },
  {
   "cell_type": "code",
   "execution_count": 42,
   "metadata": {
    "ExecuteTime": {
     "end_time": "2021-10-26T04:32:00.389198Z",
     "start_time": "2021-10-26T04:32:00.298198Z"
    }
   },
   "outputs": [
    {
     "data": {
      "text/html": [
       "<div>\n",
       "<style scoped>\n",
       "    .dataframe tbody tr th:only-of-type {\n",
       "        vertical-align: middle;\n",
       "    }\n",
       "\n",
       "    .dataframe tbody tr th {\n",
       "        vertical-align: top;\n",
       "    }\n",
       "\n",
       "    .dataframe thead th {\n",
       "        text-align: right;\n",
       "    }\n",
       "</style>\n",
       "<table border=\"1\" class=\"dataframe\">\n",
       "  <thead>\n",
       "    <tr style=\"text-align: right;\">\n",
       "      <th></th>\n",
       "      <th>전국</th>\n",
       "      <th>서울</th>\n",
       "      <th>인천</th>\n",
       "      <th>경기</th>\n",
       "      <th>부산</th>\n",
       "      <th>대구</th>\n",
       "      <th>광주</th>\n",
       "      <th>대전</th>\n",
       "      <th>울산</th>\n",
       "      <th>세종</th>\n",
       "      <th>강원</th>\n",
       "      <th>충북</th>\n",
       "      <th>충남</th>\n",
       "      <th>전북</th>\n",
       "      <th>전남</th>\n",
       "      <th>경북</th>\n",
       "      <th>경남</th>\n",
       "      <th>제주</th>\n",
       "    </tr>\n",
       "  </thead>\n",
       "  <tbody>\n",
       "    <tr>\n",
       "      <th>2007-01-01</th>\n",
       "      <td>36754.0</td>\n",
       "      <td>4590.0</td>\n",
       "      <td>207.0</td>\n",
       "      <td>8579.0</td>\n",
       "      <td>1365.0</td>\n",
       "      <td>2454.0</td>\n",
       "      <td>3066.0</td>\n",
       "      <td>165.0</td>\n",
       "      <td>549.0</td>\n",
       "      <td>NaN</td>\n",
       "      <td>1356.0</td>\n",
       "      <td>564.0</td>\n",
       "      <td>3012.0</td>\n",
       "      <td>2664.0</td>\n",
       "      <td>620.0</td>\n",
       "      <td>2094.0</td>\n",
       "      <td>5073.0</td>\n",
       "      <td>396.0</td>\n",
       "    </tr>\n",
       "    <tr>\n",
       "      <th>2007-02-01</th>\n",
       "      <td>92323.0</td>\n",
       "      <td>6972.0</td>\n",
       "      <td>555.0</td>\n",
       "      <td>18207.0</td>\n",
       "      <td>4662.0</td>\n",
       "      <td>10647.0</td>\n",
       "      <td>6600.0</td>\n",
       "      <td>267.0</td>\n",
       "      <td>4068.0</td>\n",
       "      <td>NaN</td>\n",
       "      <td>1928.0</td>\n",
       "      <td>1479.0</td>\n",
       "      <td>6930.0</td>\n",
       "      <td>4470.0</td>\n",
       "      <td>2102.0</td>\n",
       "      <td>10122.0</td>\n",
       "      <td>12618.0</td>\n",
       "      <td>696.0</td>\n",
       "    </tr>\n",
       "    <tr>\n",
       "      <th>2007-03-01</th>\n",
       "      <td>152565.0</td>\n",
       "      <td>12636.0</td>\n",
       "      <td>3345.0</td>\n",
       "      <td>27899.0</td>\n",
       "      <td>11025.0</td>\n",
       "      <td>13788.0</td>\n",
       "      <td>10641.0</td>\n",
       "      <td>462.0</td>\n",
       "      <td>6123.0</td>\n",
       "      <td>NaN</td>\n",
       "      <td>3095.0</td>\n",
       "      <td>3561.0</td>\n",
       "      <td>12600.0</td>\n",
       "      <td>6459.0</td>\n",
       "      <td>3275.0</td>\n",
       "      <td>17064.0</td>\n",
       "      <td>19581.0</td>\n",
       "      <td>1011.0</td>\n",
       "    </tr>\n",
       "    <tr>\n",
       "      <th>2007-04-01</th>\n",
       "      <td>210187.0</td>\n",
       "      <td>18525.0</td>\n",
       "      <td>13356.0</td>\n",
       "      <td>39860.0</td>\n",
       "      <td>12117.0</td>\n",
       "      <td>15330.0</td>\n",
       "      <td>11319.0</td>\n",
       "      <td>705.0</td>\n",
       "      <td>12966.0</td>\n",
       "      <td>NaN</td>\n",
       "      <td>6621.0</td>\n",
       "      <td>4953.0</td>\n",
       "      <td>14703.0</td>\n",
       "      <td>7881.0</td>\n",
       "      <td>6932.0</td>\n",
       "      <td>20736.0</td>\n",
       "      <td>22728.0</td>\n",
       "      <td>1455.0</td>\n",
       "    </tr>\n",
       "    <tr>\n",
       "      <th>2007-05-01</th>\n",
       "      <td>308706.0</td>\n",
       "      <td>24123.0</td>\n",
       "      <td>13989.0</td>\n",
       "      <td>79364.0</td>\n",
       "      <td>14808.0</td>\n",
       "      <td>17055.0</td>\n",
       "      <td>18396.0</td>\n",
       "      <td>2238.0</td>\n",
       "      <td>13698.0</td>\n",
       "      <td>NaN</td>\n",
       "      <td>8160.0</td>\n",
       "      <td>6993.0</td>\n",
       "      <td>23964.0</td>\n",
       "      <td>11834.0</td>\n",
       "      <td>7991.0</td>\n",
       "      <td>23286.0</td>\n",
       "      <td>41118.0</td>\n",
       "      <td>1689.0</td>\n",
       "    </tr>\n",
       "    <tr>\n",
       "      <th>...</th>\n",
       "      <td>...</td>\n",
       "      <td>...</td>\n",
       "      <td>...</td>\n",
       "      <td>...</td>\n",
       "      <td>...</td>\n",
       "      <td>...</td>\n",
       "      <td>...</td>\n",
       "      <td>...</td>\n",
       "      <td>...</td>\n",
       "      <td>...</td>\n",
       "      <td>...</td>\n",
       "      <td>...</td>\n",
       "      <td>...</td>\n",
       "      <td>...</td>\n",
       "      <td>...</td>\n",
       "      <td>...</td>\n",
       "      <td>...</td>\n",
       "      <td>...</td>\n",
       "    </tr>\n",
       "    <tr>\n",
       "      <th>2021-02-01</th>\n",
       "      <td>191294.0</td>\n",
       "      <td>30193.0</td>\n",
       "      <td>6087.0</td>\n",
       "      <td>66574.0</td>\n",
       "      <td>9579.0</td>\n",
       "      <td>5229.0</td>\n",
       "      <td>1485.0</td>\n",
       "      <td>10338.0</td>\n",
       "      <td>6753.0</td>\n",
       "      <td>114.0</td>\n",
       "      <td>2304.0</td>\n",
       "      <td>13278.0</td>\n",
       "      <td>8673.0</td>\n",
       "      <td>6762.0</td>\n",
       "      <td>8940.0</td>\n",
       "      <td>4818.0</td>\n",
       "      <td>9168.0</td>\n",
       "      <td>999.0</td>\n",
       "    </tr>\n",
       "    <tr>\n",
       "      <th>2021-03-01</th>\n",
       "      <td>333750.0</td>\n",
       "      <td>55610.0</td>\n",
       "      <td>7328.0</td>\n",
       "      <td>111501.0</td>\n",
       "      <td>12990.0</td>\n",
       "      <td>20991.0</td>\n",
       "      <td>2794.0</td>\n",
       "      <td>21080.0</td>\n",
       "      <td>11558.0</td>\n",
       "      <td>225.0</td>\n",
       "      <td>3832.0</td>\n",
       "      <td>15370.0</td>\n",
       "      <td>19549.0</td>\n",
       "      <td>12759.0</td>\n",
       "      <td>12522.0</td>\n",
       "      <td>12045.0</td>\n",
       "      <td>11364.0</td>\n",
       "      <td>2232.0</td>\n",
       "    </tr>\n",
       "    <tr>\n",
       "      <th>2021-04-01</th>\n",
       "      <td>467807.0</td>\n",
       "      <td>82067.0</td>\n",
       "      <td>8603.0</td>\n",
       "      <td>159454.0</td>\n",
       "      <td>17427.0</td>\n",
       "      <td>26220.0</td>\n",
       "      <td>3532.0</td>\n",
       "      <td>21594.0</td>\n",
       "      <td>12890.0</td>\n",
       "      <td>354.0</td>\n",
       "      <td>9091.0</td>\n",
       "      <td>16759.0</td>\n",
       "      <td>28723.0</td>\n",
       "      <td>18042.0</td>\n",
       "      <td>26730.0</td>\n",
       "      <td>18630.0</td>\n",
       "      <td>14481.0</td>\n",
       "      <td>3210.0</td>\n",
       "    </tr>\n",
       "    <tr>\n",
       "      <th>2021-05-01</th>\n",
       "      <td>580171.0</td>\n",
       "      <td>95567.0</td>\n",
       "      <td>10678.0</td>\n",
       "      <td>191461.0</td>\n",
       "      <td>25437.0</td>\n",
       "      <td>28545.0</td>\n",
       "      <td>5410.0</td>\n",
       "      <td>26239.0</td>\n",
       "      <td>13289.0</td>\n",
       "      <td>4611.0</td>\n",
       "      <td>15768.0</td>\n",
       "      <td>17821.0</td>\n",
       "      <td>37087.0</td>\n",
       "      <td>19695.0</td>\n",
       "      <td>37797.0</td>\n",
       "      <td>20892.0</td>\n",
       "      <td>26073.0</td>\n",
       "      <td>3801.0</td>\n",
       "    </tr>\n",
       "    <tr>\n",
       "      <th>2021-06-01</th>\n",
       "      <td>715461.0</td>\n",
       "      <td>114520.0</td>\n",
       "      <td>11958.0</td>\n",
       "      <td>242555.0</td>\n",
       "      <td>29673.0</td>\n",
       "      <td>30681.0</td>\n",
       "      <td>6108.0</td>\n",
       "      <td>26648.0</td>\n",
       "      <td>14495.0</td>\n",
       "      <td>5838.0</td>\n",
       "      <td>22654.0</td>\n",
       "      <td>24370.0</td>\n",
       "      <td>42697.0</td>\n",
       "      <td>26718.0</td>\n",
       "      <td>51684.0</td>\n",
       "      <td>23313.0</td>\n",
       "      <td>35516.0</td>\n",
       "      <td>6033.0</td>\n",
       "    </tr>\n",
       "  </tbody>\n",
       "</table>\n",
       "<p>174 rows × 18 columns</p>\n",
       "</div>"
      ],
      "text/plain": [
       "                  전국        서울       인천        경기       부산       대구       광주  \\\n",
       "2007-01-01   36754.0    4590.0    207.0    8579.0   1365.0   2454.0   3066.0   \n",
       "2007-02-01   92323.0    6972.0    555.0   18207.0   4662.0  10647.0   6600.0   \n",
       "2007-03-01  152565.0   12636.0   3345.0   27899.0  11025.0  13788.0  10641.0   \n",
       "2007-04-01  210187.0   18525.0  13356.0   39860.0  12117.0  15330.0  11319.0   \n",
       "2007-05-01  308706.0   24123.0  13989.0   79364.0  14808.0  17055.0  18396.0   \n",
       "...              ...       ...      ...       ...      ...      ...      ...   \n",
       "2021-02-01  191294.0   30193.0   6087.0   66574.0   9579.0   5229.0   1485.0   \n",
       "2021-03-01  333750.0   55610.0   7328.0  111501.0  12990.0  20991.0   2794.0   \n",
       "2021-04-01  467807.0   82067.0   8603.0  159454.0  17427.0  26220.0   3532.0   \n",
       "2021-05-01  580171.0   95567.0  10678.0  191461.0  25437.0  28545.0   5410.0   \n",
       "2021-06-01  715461.0  114520.0  11958.0  242555.0  29673.0  30681.0   6108.0   \n",
       "\n",
       "                 대전       울산      세종       강원       충북       충남       전북  \\\n",
       "2007-01-01    165.0    549.0     NaN   1356.0    564.0   3012.0   2664.0   \n",
       "2007-02-01    267.0   4068.0     NaN   1928.0   1479.0   6930.0   4470.0   \n",
       "2007-03-01    462.0   6123.0     NaN   3095.0   3561.0  12600.0   6459.0   \n",
       "2007-04-01    705.0  12966.0     NaN   6621.0   4953.0  14703.0   7881.0   \n",
       "2007-05-01   2238.0  13698.0     NaN   8160.0   6993.0  23964.0  11834.0   \n",
       "...             ...      ...     ...      ...      ...      ...      ...   \n",
       "2021-02-01  10338.0   6753.0   114.0   2304.0  13278.0   8673.0   6762.0   \n",
       "2021-03-01  21080.0  11558.0   225.0   3832.0  15370.0  19549.0  12759.0   \n",
       "2021-04-01  21594.0  12890.0   354.0   9091.0  16759.0  28723.0  18042.0   \n",
       "2021-05-01  26239.0  13289.0  4611.0  15768.0  17821.0  37087.0  19695.0   \n",
       "2021-06-01  26648.0  14495.0  5838.0  22654.0  24370.0  42697.0  26718.0   \n",
       "\n",
       "                 전남       경북       경남      제주  \n",
       "2007-01-01    620.0   2094.0   5073.0   396.0  \n",
       "2007-02-01   2102.0  10122.0  12618.0   696.0  \n",
       "2007-03-01   3275.0  17064.0  19581.0  1011.0  \n",
       "2007-04-01   6932.0  20736.0  22728.0  1455.0  \n",
       "2007-05-01   7991.0  23286.0  41118.0  1689.0  \n",
       "...             ...      ...      ...     ...  \n",
       "2021-02-01   8940.0   4818.0   9168.0   999.0  \n",
       "2021-03-01  12522.0  12045.0  11364.0  2232.0  \n",
       "2021-04-01  26730.0  18630.0  14481.0  3210.0  \n",
       "2021-05-01  37797.0  20892.0  26073.0  3801.0  \n",
       "2021-06-01  51684.0  23313.0  35516.0  6033.0  \n",
       "\n",
       "[174 rows x 18 columns]"
      ]
     },
     "execution_count": 42,
     "metadata": {},
     "output_type": "execute_result"
    }
   ],
   "source": [
    "# 인허가 데이터\n",
    "per"
   ]
  },
  {
   "cell_type": "code",
   "execution_count": 43,
   "metadata": {
    "ExecuteTime": {
     "end_time": "2021-10-26T04:32:00.404200Z",
     "start_time": "2021-10-26T04:32:00.392198Z"
    }
   },
   "outputs": [
    {
     "data": {
      "text/plain": [
       "DatetimeIndex(['2007-01-01', '2007-02-01', '2007-03-01', '2007-04-01',\n",
       "               '2007-05-01', '2007-06-01', '2007-07-01', '2007-08-01',\n",
       "               '2007-09-01', '2007-10-01',\n",
       "               ...\n",
       "               '2020-09-01', '2020-10-01', '2020-11-01', '2020-12-01',\n",
       "               '2021-01-01', '2021-02-01', '2021-03-01', '2021-04-01',\n",
       "               '2021-05-01', '2021-06-01'],\n",
       "              dtype='datetime64[ns]', length=174, freq=None)"
      ]
     },
     "execution_count": 43,
     "metadata": {},
     "output_type": "execute_result"
    }
   ],
   "source": [
    "per.index"
   ]
  },
  {
   "cell_type": "markdown",
   "metadata": {},
   "source": [
    "# 강남구 인허가와 매매가 지수 그래프 그리기"
   ]
  },
  {
   "cell_type": "code",
   "execution_count": 44,
   "metadata": {
    "ExecuteTime": {
     "end_time": "2021-10-26T04:32:00.420199Z",
     "start_time": "2021-10-26T04:32:00.407198Z"
    }
   },
   "outputs": [
    {
     "data": {
      "text/plain": [
       "DatetimeIndex(['2007-01-01', '2007-02-01', '2007-03-01', '2007-04-01',\n",
       "               '2007-05-01', '2007-06-01', '2007-07-01', '2007-08-01',\n",
       "               '2007-09-01', '2007-10-01',\n",
       "               ...\n",
       "               '2020-09-01', '2020-10-01', '2020-11-01', '2020-12-01',\n",
       "               '2021-01-01', '2021-02-01', '2021-03-01', '2021-04-01',\n",
       "               '2021-05-01', '2021-06-01'],\n",
       "              dtype='datetime64[ns]', length=174, freq=None)"
      ]
     },
     "execution_count": 44,
     "metadata": {},
     "output_type": "execute_result"
    }
   ],
   "source": [
    "x = per.index\n",
    "x"
   ]
  },
  {
   "cell_type": "code",
   "execution_count": 46,
   "metadata": {
    "ExecuteTime": {
     "end_time": "2021-10-26T04:32:22.835284Z",
     "start_time": "2021-10-26T04:32:22.798002Z"
    }
   },
   "outputs": [
    {
     "data": {
      "text/plain": [
       "1986-01-01   1986-01-01\n",
       "1986-02-01   1986-02-01\n",
       "1986-03-01   1986-03-01\n",
       "1986-04-01   1986-04-01\n",
       "1986-05-01   1986-05-01\n",
       "                ...    \n",
       "2021-02-01   2021-02-01\n",
       "2021-03-01   2021-03-01\n",
       "2021-04-01   2021-04-01\n",
       "2021-05-01   2021-05-01\n",
       "2021-06-01   2021-06-01\n",
       "Name: xaxis, Length: 426, dtype: datetime64[ns]"
      ]
     },
     "execution_count": 46,
     "metadata": {},
     "output_type": "execute_result"
    }
   ],
   "source": [
    "price_index['xaxis'] = price_index.index\n",
    "price_index['xaxis']"
   ]
  },
  {
   "cell_type": "code",
   "execution_count": 55,
   "metadata": {
    "ExecuteTime": {
     "end_time": "2021-10-26T04:34:08.426255Z",
     "start_time": "2021-10-26T04:34:07.601357Z"
    }
   },
   "outputs": [
    {
     "data": {
      "image/png": "[encoded data removed]",
      "text/plain": [
       "<Figure size 1600x600 with 2 Axes>"
      ]
     },
     "metadata": {},
     "output_type": "display_data"
    }
   ],
   "source": [
    "# 1. 기본 설정\n",
    "plt.style.use('default')\n",
    "plt.rcParams['figure.figsize'] = (16, 6)\n",
    "plt.rcParams['font.size'] = 12\n",
    "plt.rc('font', family='NanumGothic')\n",
    "\n",
    "# 원하는 지역\n",
    "city = '서울'\n",
    "district = '강남구'\n",
    "\n",
    "# 2. 데이터 준비\n",
    "x = price_index['xaxis']['2011-1':] # 매매가 x축\n",
    "y1 = price_index[city][district]['2011-1':] # 매매가 y1축\n",
    "y2 = per[city]['2011-1':] # 인허가 y2축\n",
    "\n",
    "# 3. 그래프\n",
    "fig, ax1 = plt.subplots()\n",
    "\n",
    "# y1 : 매매가 plot 그래프 (서울시 강남구)\n",
    "ax1.plot(x, y1, color='skyblue', label='매매가')\n",
    "\n",
    "ax1.set_xlabel('연월')\n",
    "ax1.set_ylabel('매매가 지수')\n",
    "ax1.tick_params(axis='both', direction='in')\n",
    "\n",
    "\n",
    "# y2 : 서울 인허가 bar 그래프\n",
    "ax2 = ax1.twinx() # x축 공유, y축 별도 설정.\n",
    "# ax2 = ax.twinx()\n",
    "ax2.bar(x, y2, color='navy', width=10, alpha=0.7, label='인허가')\n",
    "ax2.set_ylabel('인허가 물량')\n",
    "\n",
    "ax1.set_zorder(ax2.get_zorder() + 10)\n",
    "ax1.patch.set_visible(False)\n",
    "\n",
    "ax1.legend(loc='upper left')\n",
    "ax2.legend(loc='upper right')\n",
    "\n",
    "plt.title('2021 주택건설 인허가와 매매가 분석(서울 강남구)')\n",
    "plt.show()"
   ]
  },
  {
   "cell_type": "code",
   "execution_count": 48,
   "metadata": {
    "ExecuteTime": {
     "end_time": "2021-10-26T04:32:24.990888Z",
     "start_time": "2021-10-26T04:32:24.986888Z"
    }
   },
   "outputs": [],
   "source": [
    "# plt.style.use('default')\n",
    "# # 한글폰트 설정\n",
    "# font_name = font_manager.FontProperties(fname=\"c:/Windows/Fonts/malgun.ttf\").get_name()\n",
    "# rc('font', family=font_name)\n",
    "# plt.rcParams['axes.unicode_minus'] = False\n",
    "\n",
    "# # 그래프 크기, 구도 및 축 설정\n",
    "# plt.figure(figsize=(12,5))\n",
    "# ax = plt.subplot()\n",
    "# ax2 = ax.twinx()\n",
    "\n",
    "# # 서울 강남구의 인허가와 매매가 지수의 움직임\n",
    "\n",
    "# city = '서울'\n",
    "# district = '강남구'\n",
    "\n",
    "# plt.title(city + '-' + district)\n",
    "\n",
    "# line_1 = ax.plot(price_index[city][district]['2011-1':], label='매매가',color='navy')\n",
    "# line_2 = ax2.plot(per[city]['2011-1':], label='인허가', color='green',marker=\".\")\n",
    "\n",
    "# lines = line_1 +line_2\n",
    "\n",
    "# labs = [l.get_label() for l in lines]\n",
    "# ax.legend(lines, labs, loc='upper left')\n",
    "    \n",
    "# plt.show()"
   ]
  },
  {
   "cell_type": "code",
   "execution_count": 49,
   "metadata": {
    "ExecuteTime": {
     "end_time": "2021-10-26T04:32:40.182326Z",
     "start_time": "2021-10-26T04:32:40.171966Z"
    },
    "scrolled": true
   },
   "outputs": [
    {
     "name": "stdout",
     "output_type": "stream",
     "text": [
      "['전국', '서울', '강북', '강북구', '광진구', '노원구', '도봉구', '동대문구', '마포구', '서대문구', '성동구', '성북구', '용산구', '은평구', '종로구', '중구', '중랑구', '강남', '강남구', '강동구', '강서구', '관악구', '구로구', '금천구', '동작구', '서초구', '송파구', '양천구', '영등포구', '6개광역시', '부산', '중구', '서구', '동구', '영도구', '부산진구', '동래구', '남구', '북구', '해운대구', '사하구', '금정구', '연제구', '수영구', '사상구', '기장군', '강서구', '대구', '중구', '동구', '서구', '남구', '북구', '수성구', '달서구', '달성군', '인천', '중구', '동구', '미추홀구', '연수구', '남동구', '부평구', '계양구', '서구', '광주', '동구', '서구', '남구', '북구', '광산구', '대전', '동구', '중구', '서구', '유성구', '대덕구', '울산', '중구', '남구', '동구', '북구', '울주군', '5개광역시', '수도권', '세종', '경기', '수원', '장안구', '권선구', '팔달구', '영통구', '성남', '수정구', '중원구', '분당구', '고양', '덕양구', '일산동구', '일산서구', '안양', '만안구', '동안구', '부천', '의정부', '광명', '평택', '안산', '단원구', '상록구', '과천', '구리', '남양주', '용인', '처인구', '기흥구', '수지구', '시흥', '군포', '의왕', '하남', '오산', '파주', '이천', '안성', '김포', '양주', '동두천', '광주', '화성', '강원', '춘천', '강릉', '원주', '충북', '청주', '상당구', '서원구', '청원구', '흥덕구', '충주', '제천', '충남', '천안', '동남구', '서북구', '공주', '아산', '논산', '계룡', '당진', '서산', '전북', '전주', '완산구', '덕진구', '익산', '군산', '전남', '목포', '순천', '광양', '여수', '경북', '포항', '남구', '북구', '구미', '경산', '안동', '김천', '경남', '창원', '마산합포구', '마산회원구', '성산구', '의창구', '진해구', '양산', '거제', '진주', '김해', '통영', '제주도', '서귀포', '기타지방', '']\n"
     ]
    }
   ],
   "source": [
    "# 구 지역명 : district_list\n",
    "district_list = []\n",
    "\n",
    "for i in price_index.columns :\n",
    "    district_list.append(i[1])\n",
    "print(district_list)"
   ]
  },
  {
   "cell_type": "markdown",
   "metadata": {
    "ExecuteTime": {
     "end_time": "2021-09-01T05:08:43.225686Z",
     "start_time": "2021-09-01T05:08:43.213368Z"
    }
   },
   "source": [
    "# 인허가 데이터 시프팅"
   ]
  },
  {
   "cell_type": "code",
   "execution_count": 50,
   "metadata": {
    "ExecuteTime": {
     "end_time": "2021-10-26T04:32:41.476441Z",
     "start_time": "2021-10-26T04:32:41.463443Z"
    }
   },
   "outputs": [],
   "source": [
    "# 인허가 데이터 연도별\n",
    "year_per = per.groupby(per.index.year).sum()"
   ]
  },
  {
   "cell_type": "code",
   "execution_count": 51,
   "metadata": {
    "ExecuteTime": {
     "end_time": "2021-10-26T04:32:41.995028Z",
     "start_time": "2021-10-26T04:32:41.982955Z"
    }
   },
   "outputs": [],
   "source": [
    "shifted_per = year_per.shift(3)\n",
    "temp = []\n",
    "\n",
    "\n",
    "for year in shifted_per.index:\n",
    "    temp.append(str(year) + '-1-1') \n",
    "\n",
    "# 시계열\n",
    "shifted_per.index = pd.to_datetime(temp)"
   ]
  },
  {
   "cell_type": "markdown",
   "metadata": {},
   "source": [
    "# 강남구 인허가와 매매가 그래프"
   ]
  },
  {
   "cell_type": "code",
   "execution_count": 52,
   "metadata": {
    "ExecuteTime": {
     "end_time": "2021-10-26T04:32:43.665079Z",
     "start_time": "2021-10-26T04:32:43.195062Z"
    }
   },
   "outputs": [
    {
     "data": {
      "image/png": "[encoded data removed]",
      "text/plain": [
       "<Figure size 1200x500 with 2 Axes>"
      ]
     },
     "metadata": {},
     "output_type": "display_data"
    }
   ],
   "source": [
    "plt.style.use('default')\n",
    "# 한글폰트 설정\n",
    "font_name = font_manager.FontProperties(fname=\"c:/Windows/Fonts/malgun.ttf\").get_name()\n",
    "rc('font', family=font_name)\n",
    "plt.rcParams['axes.unicode_minus'] = False\n",
    "plt.figure(figsize=(12,5))\n",
    "ax = plt.subplot()\n",
    "ax2 = ax.twinx()\n",
    "\n",
    "city = '서울'\n",
    "district = '강남구'\n",
    "plt.title(city + '-' + district)\n",
    "\n",
    "# 10년간 매매가와 인허가를 각각 꺾은선 그래프로\n",
    "line_1 = ax.plot(price_index[city][district]['2011-1':], label='매매가',color='navy')\n",
    "line_2 = ax2.plot(shifted_per[city]['2011':], label='인허가(3년후준공)', color='green',marker=\".\")\n",
    "lines = line_1 +line_2\n",
    "\n",
    "\n",
    "labs = [l.get_label() for l in lines]\n",
    "ax.legend(lines, labs, loc='upper left')\n",
    "\n",
    "# 배경색 변경\n",
    "# ax.set_facecolor('gray')\n",
    "\n",
    "    \n",
    "plt.show()"
   ]
  },
  {
   "cell_type": "markdown",
   "metadata": {
    "ExecuteTime": {
     "end_time": "2021-09-01T05:03:29.448260Z",
     "start_time": "2021-09-01T05:03:29.072512Z"
    }
   },
   "source": [
    "# 최근 10년간 인천연수구 부동산 수요와 공급 지표 확인"
   ]
  },
  {
   "cell_type": "code",
   "execution_count": 53,
   "metadata": {
    "ExecuteTime": {
     "end_time": "2021-10-26T04:32:46.134094Z",
     "start_time": "2021-10-26T04:32:45.557070Z"
    }
   },
   "outputs": [
    {
     "data": {
      "image/png": "[encoded data removed]",
      "text/plain": [
       "<Figure size 1200x500 with 2 Axes>"
      ]
     },
     "metadata": {},
     "output_type": "display_data"
    }
   ],
   "source": [
    "plt.style.use('default')\n",
    "# 한글폰트 설정\n",
    "font_name = font_manager.FontProperties(fname=\"c:/Windows/Fonts/malgun.ttf\").get_name()\n",
    "rc('font', family=font_name)\n",
    "plt.rcParams['axes.unicode_minus'] = False\n",
    "\n",
    "\n",
    "plt.figure(figsize=(12,5))\n",
    "ax = plt.subplot()\n",
    "ax2 = ax.twinx()\n",
    "\n",
    "city = '인천'\n",
    "district = '연수구'\n",
    "\n",
    "plt.title(city + '-' + district)\n",
    "\n",
    "line_1 = ax.plot(price_index[city][district]['2011-1':], label='매매가',color='navy')\n",
    "line_2 = ax.plot(jun_index[city][district]['2011-1':], label='전세가', color='skyblue')\n",
    "line_3 = ax2.plot(shifted_per[city]['2011':]/10, label='인허가', color='green', ls='--')\n",
    "line_4 = ax2.plot(unsold[city]['2011':], label='미분양', color='red', ls='--')\n",
    "lines = line_1 +line_2 + line_3 + line_4\n",
    "\n",
    "labs = [l.get_label() for l in lines]\n",
    "ax.legend(lines, labs, loc='upper left')\n",
    "    \n",
    "plt.show()"
   ]
  }
 ],
 "metadata": {
  "kernelspec": {
   "display_name": "Python 3 (ipykernel)",
   "language": "python",
   "name": "python3"
  },
  "language_info": {
   "codemirror_mode": {
    "name": "ipython",
    "version": 3
   },
   "file_extension": ".py",
   "mimetype": "text/x-python",
   "name": "python",
   "nbconvert_exporter": "python",
   "pygments_lexer": "ipython3",
   "version": "3.9.7"
  },
  "latex_envs": {
   "LaTeX_envs_menu_present": true,
   "autoclose": false,
   "autocomplete": true,
   "bibliofile": "biblio.bib",
   "cite_by": "apalike",
   "current_citInitial": 1,
   "eqLabelWithNumbers": true,
   "eqNumInitial": 1,
   "hotkeys": {
    "equation": "Ctrl-E",
    "itemize": "Ctrl-I"
   },
   "labels_anchors": false,
   "latex_user_defs": false,
   "report_style_numbering": false,
   "user_envs_cfg": false
  },
  "toc": {
   "base_numbering": 1,
   "nav_menu": {},
   "number_sections": true,
   "sideBar": true,
   "skip_h1_title": false,
   "title_cell": "Table of Contents",
   "title_sidebar": "Contents",
   "toc_cell": false,
   "toc_position": {},
   "toc_section_display": true,
   "toc_window_display": false
  }
 },
 "nbformat": 4,
 "nbformat_minor": 4
}
