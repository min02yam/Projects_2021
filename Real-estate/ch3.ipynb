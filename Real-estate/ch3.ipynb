{
 "cells": [
  {
   "cell_type": "markdown",
   "metadata": {
    "ExecuteTime": {
     "end_time": "2021-10-19T05:11:54.462964Z",
     "start_time": "2021-10-19T05:11:54.445974Z"
    }
   },
   "source": [
    "### 2.3.1 데이터 불러오기"
   ]
  },
  {
   "cell_type": "code",
   "execution_count": 3,
   "metadata": {
    "ExecuteTime": {
     "end_time": "2021-10-19T05:11:38.081128Z",
     "start_time": "2021-10-19T05:11:38.059090Z"
    }
   },
   "outputs": [],
   "source": [
    "import pandas as pd\n",
    "\n",
    "df= pd.read_csv(\"./data/주택규모별_주택건설_인허가실적_월별_누계__20210829223008.csv\",\n",
    "                encoding='cp949', skiprows=[i for i in range(1, 4)], index_col='시점') # ,index_col=index_col)"
   ]
  },
  {
   "cell_type": "code",
   "execution_count": 4,
   "metadata": {
    "ExecuteTime": {
     "end_time": "2021-10-19T05:11:40.521991Z",
     "start_time": "2021-10-19T05:11:40.480384Z"
    }
   },
   "outputs": [
    {
     "data": {
      "text/html": [
       "<div>\n",
       "<style scoped>\n",
       "    .dataframe tbody tr th:only-of-type {\n",
       "        vertical-align: middle;\n",
       "    }\n",
       "\n",
       "    .dataframe tbody tr th {\n",
       "        vertical-align: top;\n",
       "    }\n",
       "\n",
       "    .dataframe thead th {\n",
       "        text-align: right;\n",
       "    }\n",
       "</style>\n",
       "<table border=\"1\" class=\"dataframe\">\n",
       "  <thead>\n",
       "    <tr style=\"text-align: right;\">\n",
       "      <th></th>\n",
       "      <th>전국</th>\n",
       "      <th>수도권</th>\n",
       "      <th>지방권</th>\n",
       "      <th>지방권.1</th>\n",
       "      <th>지방권.2</th>\n",
       "    </tr>\n",
       "    <tr>\n",
       "      <th>시점</th>\n",
       "      <th></th>\n",
       "      <th></th>\n",
       "      <th></th>\n",
       "      <th></th>\n",
       "      <th></th>\n",
       "    </tr>\n",
       "  </thead>\n",
       "  <tbody>\n",
       "    <tr>\n",
       "      <th>2011. 01</th>\n",
       "      <td>18500</td>\n",
       "      <td>10895</td>\n",
       "      <td>7605</td>\n",
       "      <td>3172</td>\n",
       "      <td>4433</td>\n",
       "    </tr>\n",
       "    <tr>\n",
       "      <th>2011. 02</th>\n",
       "      <td>37676</td>\n",
       "      <td>21130</td>\n",
       "      <td>16546</td>\n",
       "      <td>4875</td>\n",
       "      <td>11671</td>\n",
       "    </tr>\n",
       "    <tr>\n",
       "      <th>2011. 03</th>\n",
       "      <td>70529</td>\n",
       "      <td>37046</td>\n",
       "      <td>33483</td>\n",
       "      <td>11645</td>\n",
       "      <td>21838</td>\n",
       "    </tr>\n",
       "    <tr>\n",
       "      <th>2011. 04</th>\n",
       "      <td>111685</td>\n",
       "      <td>58130</td>\n",
       "      <td>53555</td>\n",
       "      <td>20449</td>\n",
       "      <td>33106</td>\n",
       "    </tr>\n",
       "    <tr>\n",
       "      <th>2011. 05</th>\n",
       "      <td>144401</td>\n",
       "      <td>74181</td>\n",
       "      <td>70220</td>\n",
       "      <td>26140</td>\n",
       "      <td>44080</td>\n",
       "    </tr>\n",
       "  </tbody>\n",
       "</table>\n",
       "</div>"
      ],
      "text/plain": [
       "              전국    수도권    지방권  지방권.1  지방권.2\n",
       "시점                                          \n",
       "2011. 01   18500  10895   7605   3172   4433\n",
       "2011. 02   37676  21130  16546   4875  11671\n",
       "2011. 03   70529  37046  33483  11645  21838\n",
       "2011. 04  111685  58130  53555  20449  33106\n",
       "2011. 05  144401  74181  70220  26140  44080"
      ]
     },
     "execution_count": 4,
     "metadata": {},
     "output_type": "execute_result"
    }
   ],
   "source": [
    "df.head()"
   ]
  },
  {
   "cell_type": "markdown",
   "metadata": {},
   "source": [
    "### 2.3.2 dataframe 행 삭제"
   ]
  },
  {
   "cell_type": "code",
   "execution_count": 6,
   "metadata": {
    "ExecuteTime": {
     "end_time": "2021-10-19T05:12:41.582688Z",
     "start_time": "2021-10-19T05:12:41.564982Z"
    }
   },
   "outputs": [
    {
     "data": {
      "text/html": [
       "<div>\n",
       "<style scoped>\n",
       "    .dataframe tbody tr th:only-of-type {\n",
       "        vertical-align: middle;\n",
       "    }\n",
       "\n",
       "    .dataframe tbody tr th {\n",
       "        vertical-align: top;\n",
       "    }\n",
       "\n",
       "    .dataframe thead th {\n",
       "        text-align: right;\n",
       "    }\n",
       "</style>\n",
       "<table border=\"1\" class=\"dataframe\">\n",
       "  <thead>\n",
       "    <tr style=\"text-align: right;\">\n",
       "      <th></th>\n",
       "      <th>수도권</th>\n",
       "      <th>지방권</th>\n",
       "    </tr>\n",
       "    <tr>\n",
       "      <th>시점</th>\n",
       "      <th></th>\n",
       "      <th></th>\n",
       "    </tr>\n",
       "  </thead>\n",
       "  <tbody>\n",
       "    <tr>\n",
       "      <th>2011. 01</th>\n",
       "      <td>10895</td>\n",
       "      <td>7605</td>\n",
       "    </tr>\n",
       "    <tr>\n",
       "      <th>2011. 02</th>\n",
       "      <td>21130</td>\n",
       "      <td>16546</td>\n",
       "    </tr>\n",
       "    <tr>\n",
       "      <th>2011. 03</th>\n",
       "      <td>37046</td>\n",
       "      <td>33483</td>\n",
       "    </tr>\n",
       "    <tr>\n",
       "      <th>2011. 04</th>\n",
       "      <td>58130</td>\n",
       "      <td>53555</td>\n",
       "    </tr>\n",
       "    <tr>\n",
       "      <th>2011. 05</th>\n",
       "      <td>74181</td>\n",
       "      <td>70220</td>\n",
       "    </tr>\n",
       "  </tbody>\n",
       "</table>\n",
       "</div>"
      ],
      "text/plain": [
       "            수도권    지방권\n",
       "시점                    \n",
       "2011. 01  10895   7605\n",
       "2011. 02  21130  16546\n",
       "2011. 03  37046  33483\n",
       "2011. 04  58130  53555\n",
       "2011. 05  74181  70220"
      ]
     },
     "execution_count": 6,
     "metadata": {},
     "output_type": "execute_result"
    }
   ],
   "source": [
    "df_per = df.loc[:,['수도권', '지방권']]\n",
    "df_per.head()"
   ]
  },
  {
   "cell_type": "code",
   "execution_count": 7,
   "metadata": {
    "ExecuteTime": {
     "end_time": "2021-10-19T05:12:42.388294Z",
     "start_time": "2021-10-19T05:12:42.380147Z"
    }
   },
   "outputs": [
    {
     "data": {
      "text/plain": [
       "시점\n",
       "2011. 01     10895\n",
       "2011. 02     21130\n",
       "2011. 03     37046\n",
       "2011. 04     58130\n",
       "2011. 05     74181\n",
       "2011. 06     91005\n",
       "2011. 07    108752\n",
       "2011. 08    124040\n",
       "2011. 09    142896\n",
       "2011. 10    173180\n",
       "2011. 11    190986\n",
       "2011. 12    272156\n",
       "2012. 01     14208\n",
       "2012. 02     28820\n",
       "2012. 03     41659\n",
       "2012. 04     58928\n",
       "2012. 05     76336\n",
       "2012. 06     98848\n",
       "2012. 07    123208\n",
       "2012. 08    137645\n",
       "2012. 09    164379\n",
       "2012. 10    181371\n",
       "2012. 11    202669\n",
       "2012. 12    269290\n",
       "Name: 수도권, dtype: int64"
      ]
     },
     "execution_count": 7,
     "metadata": {},
     "output_type": "execute_result"
    }
   ],
   "source": [
    "df_per.iloc[:,0].head(24)"
   ]
  },
  {
   "cell_type": "code",
   "execution_count": 8,
   "metadata": {
    "ExecuteTime": {
     "end_time": "2021-10-19T05:13:02.000691Z",
     "start_time": "2021-10-19T05:13:01.985230Z"
    }
   },
   "outputs": [
    {
     "data": {
      "text/html": [
       "<div>\n",
       "<style scoped>\n",
       "    .dataframe tbody tr th:only-of-type {\n",
       "        vertical-align: middle;\n",
       "    }\n",
       "\n",
       "    .dataframe tbody tr th {\n",
       "        vertical-align: top;\n",
       "    }\n",
       "\n",
       "    .dataframe thead th {\n",
       "        text-align: right;\n",
       "    }\n",
       "</style>\n",
       "<table border=\"1\" class=\"dataframe\">\n",
       "  <thead>\n",
       "    <tr style=\"text-align: right;\">\n",
       "      <th></th>\n",
       "      <th>수도권</th>\n",
       "      <th>지방권</th>\n",
       "    </tr>\n",
       "    <tr>\n",
       "      <th>시점</th>\n",
       "      <th></th>\n",
       "      <th></th>\n",
       "    </tr>\n",
       "  </thead>\n",
       "  <tbody>\n",
       "    <tr>\n",
       "      <th>2011. 01</th>\n",
       "      <td>10895</td>\n",
       "      <td>7605</td>\n",
       "    </tr>\n",
       "    <tr>\n",
       "      <th>2011. 02</th>\n",
       "      <td>21130</td>\n",
       "      <td>16546</td>\n",
       "    </tr>\n",
       "    <tr>\n",
       "      <th>2011. 03</th>\n",
       "      <td>37046</td>\n",
       "      <td>33483</td>\n",
       "    </tr>\n",
       "    <tr>\n",
       "      <th>2011. 04</th>\n",
       "      <td>58130</td>\n",
       "      <td>53555</td>\n",
       "    </tr>\n",
       "    <tr>\n",
       "      <th>2011. 05</th>\n",
       "      <td>74181</td>\n",
       "      <td>70220</td>\n",
       "    </tr>\n",
       "  </tbody>\n",
       "</table>\n",
       "</div>"
      ],
      "text/plain": [
       "            수도권    지방권\n",
       "시점                    \n",
       "2011. 01  10895   7605\n",
       "2011. 02  21130  16546\n",
       "2011. 03  37046  33483\n",
       "2011. 04  58130  53555\n",
       "2011. 05  74181  70220"
      ]
     },
     "execution_count": 8,
     "metadata": {},
     "output_type": "execute_result"
    }
   ],
   "source": [
    "df_per = df.drop(['전국', '지방권.1', '지방권.2'],axis=1)\n",
    "df_per.head()"
   ]
  },
  {
   "cell_type": "code",
   "execution_count": 9,
   "metadata": {
    "ExecuteTime": {
     "end_time": "2021-10-19T05:13:02.519547Z",
     "start_time": "2021-10-19T05:13:02.501098Z"
    }
   },
   "outputs": [
    {
     "data": {
      "text/plain": [
       "(126, 2)"
      ]
     },
     "execution_count": 9,
     "metadata": {},
     "output_type": "execute_result"
    }
   ],
   "source": [
    "df_per.shape"
   ]
  },
  {
   "cell_type": "code",
   "execution_count": 11,
   "metadata": {
    "ExecuteTime": {
     "end_time": "2021-08-31T11:37:28.928001Z",
     "start_time": "2021-08-31T11:37:28.913749Z"
    }
   },
   "outputs": [],
   "source": [
    "def addition(a,b) :\n",
    "    return a+b"
   ]
  },
  {
   "cell_type": "code",
   "execution_count": 12,
   "metadata": {
    "ExecuteTime": {
     "end_time": "2021-08-31T11:37:45.107818Z",
     "start_time": "2021-08-31T11:37:45.092752Z"
    }
   },
   "outputs": [
    {
     "data": {
      "text/plain": [
       "3"
      ]
     },
     "execution_count": 12,
     "metadata": {},
     "output_type": "execute_result"
    }
   ],
   "source": [
    "addition(1,2)"
   ]
  },
  {
   "cell_type": "code",
   "execution_count": 12,
   "metadata": {
    "ExecuteTime": {
     "end_time": "2021-10-19T05:13:38.213635Z",
     "start_time": "2021-10-19T05:13:38.195633Z"
    }
   },
   "outputs": [
    {
     "name": "stdout",
     "output_type": "stream",
     "text": [
      "1\n",
      "2\n",
      "3\n",
      "4\n"
     ]
    }
   ],
   "source": [
    "# 반복문\n",
    "for x in range(1, 5):\n",
    "    print(x)"
   ]
  },
  {
   "cell_type": "code",
   "execution_count": 14,
   "metadata": {
    "ExecuteTime": {
     "end_time": "2021-08-31T11:41:20.121529Z",
     "start_time": "2021-08-31T11:41:17.730960Z"
    },
    "scrolled": true
   },
   "outputs": [
    {
     "data": {
      "image/png": "[encoded data removed]",
      "text/plain": [
       "<Figure size 1440x360 with 1 Axes>"
      ]
     },
     "metadata": {
      "needs_background": "light"
     },
     "output_type": "display_data"
    }
   ],
   "source": [
    "from matplotlib import pyplot as plt\n",
    "plt.figure(figsize=(20,5))\n",
    "\n",
    "value_a =  df_per.iloc[:,0] #수도권\n",
    "value_b =  df_per.iloc[:,1] #지방권\n",
    "\n",
    "def create_x(t, w, n, d):\n",
    "    return [t*x + w*n for x in range(d)]\n",
    "\n",
    "value_a_x = create_x(2, 0.8, 1, len(df_per))\n",
    "value_b_x = create_x(2, 0.8, 2, len(df_per))\n",
    "\n",
    "ax = plt.subplot()\n",
    "ax.bar(value_a_x, value_a)\n",
    "ax.bar(value_b_x, value_b)\n",
    "\n",
    "middle_x = [(a+b)/2 for (a,b) in zip(value_a_x, value_b_x)]\n",
    "\n",
    "ax.set_xticks(middle_x)\n",
    "ax.set_xticklabels(df_per.index)\n",
    "\n",
    "\n",
    "\n",
    "plt.show()"
   ]
  },
  {
   "cell_type": "code",
   "execution_count": 13,
   "metadata": {
    "ExecuteTime": {
     "end_time": "2021-10-19T05:14:27.092197Z",
     "start_time": "2021-10-19T05:14:27.089198Z"
    }
   },
   "outputs": [],
   "source": [
    "# 데이터가 연말로 갈수록 많아짐"
   ]
  },
  {
   "cell_type": "markdown",
   "metadata": {
    "ExecuteTime": {
     "end_time": "2021-08-30T12:37:05.658752Z",
     "start_time": "2021-08-30T12:37:05.649386Z"
    }
   },
   "source": [
    "## 2.4 인허가 실적 누적막대그래프"
   ]
  },
  {
   "cell_type": "code",
   "execution_count": 18,
   "metadata": {
    "ExecuteTime": {
     "end_time": "2021-10-19T05:21:37.366565Z",
     "start_time": "2021-10-19T05:21:36.906874Z"
    }
   },
   "outputs": [
    {
     "data": {
      "image/png": "[encoded data removed]",
      "text/plain": [
       "<Figure size 1440x360 with 1 Axes>"
      ]
     },
     "metadata": {
      "needs_background": "light"
     },
     "output_type": "display_data"
    }
   ],
   "source": [
    "import warnings\n",
    "warnings.filterwarnings(\"ignore\")\n",
    "\n",
    "from matplotlib import pyplot as plt\n",
    "import matplotlib.font_manager as fm\n",
    "\n",
    "plt.figure(figsize=(20,5))\n",
    "\n",
    "path = 'C:\\\\Windows\\\\Fonts\\\\NanumSquareRoundB.ttf'\n",
    "font_name = fm.FontProperties(fname=path).get_name()\n",
    "plt.rc('font', family=font_name)\n",
    "\n",
    "top =  df_per.iloc[:,0]\n",
    "down =  df_per.iloc[:,1]\n",
    "\n",
    "plt.bar(range(len(top)), top, bottom=down)\n",
    "plt.bar(range(len(down)), down) \n",
    "\n",
    "ax = plt.subplot()\n",
    "# ax.bar(value_a_x, value_a)\n",
    "ax.set_xticklabels(df_per.index)\n",
    "\n",
    "plt.legend(['수도권', '지방권'])\n",
    "plt.show()"
   ]
  },
  {
   "cell_type": "markdown",
   "metadata": {},
   "source": [
    "x축 설정이 되어있지 않고, 연도별 집계가 필요"
   ]
  },
  {
   "cell_type": "markdown",
   "metadata": {},
   "source": [
    "## 2.5 인허가 실적 시각화"
   ]
  },
  {
   "cell_type": "markdown",
   "metadata": {},
   "source": [
    "### 2.5.1 데이터 로드"
   ]
  },
  {
   "cell_type": "code",
   "execution_count": 19,
   "metadata": {
    "ExecuteTime": {
     "end_time": "2021-10-19T05:21:42.796328Z",
     "start_time": "2021-10-19T05:21:42.776055Z"
    }
   },
   "outputs": [],
   "source": [
    "df= pd.read_csv(\"./data/주택규모별_주택건설_인허가실적_월별_누계__20210829223008.csv\",\n",
    "                encoding='cp949', skiprows=[i for i in range(1, 4)], index_col=None)"
   ]
  },
  {
   "cell_type": "code",
   "execution_count": 20,
   "metadata": {
    "ExecuteTime": {
     "end_time": "2021-10-19T05:21:43.194426Z",
     "start_time": "2021-10-19T05:21:43.179206Z"
    }
   },
   "outputs": [
    {
     "data": {
      "text/html": [
       "<div>\n",
       "<style scoped>\n",
       "    .dataframe tbody tr th:only-of-type {\n",
       "        vertical-align: middle;\n",
       "    }\n",
       "\n",
       "    .dataframe tbody tr th {\n",
       "        vertical-align: top;\n",
       "    }\n",
       "\n",
       "    .dataframe thead th {\n",
       "        text-align: right;\n",
       "    }\n",
       "</style>\n",
       "<table border=\"1\" class=\"dataframe\">\n",
       "  <thead>\n",
       "    <tr style=\"text-align: right;\">\n",
       "      <th></th>\n",
       "      <th>시점</th>\n",
       "      <th>전국</th>\n",
       "      <th>수도권</th>\n",
       "      <th>지방권</th>\n",
       "      <th>지방권.1</th>\n",
       "      <th>지방권.2</th>\n",
       "    </tr>\n",
       "  </thead>\n",
       "  <tbody>\n",
       "    <tr>\n",
       "      <th>0</th>\n",
       "      <td>2011. 01</td>\n",
       "      <td>18500</td>\n",
       "      <td>10895</td>\n",
       "      <td>7605</td>\n",
       "      <td>3172</td>\n",
       "      <td>4433</td>\n",
       "    </tr>\n",
       "    <tr>\n",
       "      <th>1</th>\n",
       "      <td>2011. 02</td>\n",
       "      <td>37676</td>\n",
       "      <td>21130</td>\n",
       "      <td>16546</td>\n",
       "      <td>4875</td>\n",
       "      <td>11671</td>\n",
       "    </tr>\n",
       "    <tr>\n",
       "      <th>2</th>\n",
       "      <td>2011. 03</td>\n",
       "      <td>70529</td>\n",
       "      <td>37046</td>\n",
       "      <td>33483</td>\n",
       "      <td>11645</td>\n",
       "      <td>21838</td>\n",
       "    </tr>\n",
       "    <tr>\n",
       "      <th>3</th>\n",
       "      <td>2011. 04</td>\n",
       "      <td>111685</td>\n",
       "      <td>58130</td>\n",
       "      <td>53555</td>\n",
       "      <td>20449</td>\n",
       "      <td>33106</td>\n",
       "    </tr>\n",
       "    <tr>\n",
       "      <th>4</th>\n",
       "      <td>2011. 05</td>\n",
       "      <td>144401</td>\n",
       "      <td>74181</td>\n",
       "      <td>70220</td>\n",
       "      <td>26140</td>\n",
       "      <td>44080</td>\n",
       "    </tr>\n",
       "  </tbody>\n",
       "</table>\n",
       "</div>"
      ],
      "text/plain": [
       "         시점      전국    수도권    지방권  지방권.1  지방권.2\n",
       "0  2011. 01   18500  10895   7605   3172   4433\n",
       "1  2011. 02   37676  21130  16546   4875  11671\n",
       "2  2011. 03   70529  37046  33483  11645  21838\n",
       "3  2011. 04  111685  58130  53555  20449  33106\n",
       "4  2011. 05  144401  74181  70220  26140  44080"
      ]
     },
     "execution_count": 20,
     "metadata": {},
     "output_type": "execute_result"
    }
   ],
   "source": [
    "df.head()"
   ]
  },
  {
   "cell_type": "markdown",
   "metadata": {},
   "source": [
    "### 2.5.2 연도 추출"
   ]
  },
  {
   "cell_type": "code",
   "execution_count": 21,
   "metadata": {
    "ExecuteTime": {
     "end_time": "2021-10-19T05:21:43.614146Z",
     "start_time": "2021-10-19T05:21:43.602076Z"
    }
   },
   "outputs": [
    {
     "data": {
      "text/html": [
       "<div>\n",
       "<style scoped>\n",
       "    .dataframe tbody tr th:only-of-type {\n",
       "        vertical-align: middle;\n",
       "    }\n",
       "\n",
       "    .dataframe tbody tr th {\n",
       "        vertical-align: top;\n",
       "    }\n",
       "\n",
       "    .dataframe thead th {\n",
       "        text-align: right;\n",
       "    }\n",
       "</style>\n",
       "<table border=\"1\" class=\"dataframe\">\n",
       "  <thead>\n",
       "    <tr style=\"text-align: right;\">\n",
       "      <th></th>\n",
       "      <th>시점</th>\n",
       "      <th>전국</th>\n",
       "      <th>수도권</th>\n",
       "      <th>지방권</th>\n",
       "      <th>지방권.1</th>\n",
       "      <th>지방권.2</th>\n",
       "      <th>YEAR</th>\n",
       "    </tr>\n",
       "  </thead>\n",
       "  <tbody>\n",
       "    <tr>\n",
       "      <th>0</th>\n",
       "      <td>2011. 01</td>\n",
       "      <td>18500</td>\n",
       "      <td>10895</td>\n",
       "      <td>7605</td>\n",
       "      <td>3172</td>\n",
       "      <td>4433</td>\n",
       "      <td>2011</td>\n",
       "    </tr>\n",
       "    <tr>\n",
       "      <th>1</th>\n",
       "      <td>2011. 02</td>\n",
       "      <td>37676</td>\n",
       "      <td>21130</td>\n",
       "      <td>16546</td>\n",
       "      <td>4875</td>\n",
       "      <td>11671</td>\n",
       "      <td>2011</td>\n",
       "    </tr>\n",
       "    <tr>\n",
       "      <th>2</th>\n",
       "      <td>2011. 03</td>\n",
       "      <td>70529</td>\n",
       "      <td>37046</td>\n",
       "      <td>33483</td>\n",
       "      <td>11645</td>\n",
       "      <td>21838</td>\n",
       "      <td>2011</td>\n",
       "    </tr>\n",
       "    <tr>\n",
       "      <th>3</th>\n",
       "      <td>2011. 04</td>\n",
       "      <td>111685</td>\n",
       "      <td>58130</td>\n",
       "      <td>53555</td>\n",
       "      <td>20449</td>\n",
       "      <td>33106</td>\n",
       "      <td>2011</td>\n",
       "    </tr>\n",
       "    <tr>\n",
       "      <th>4</th>\n",
       "      <td>2011. 05</td>\n",
       "      <td>144401</td>\n",
       "      <td>74181</td>\n",
       "      <td>70220</td>\n",
       "      <td>26140</td>\n",
       "      <td>44080</td>\n",
       "      <td>2011</td>\n",
       "    </tr>\n",
       "  </tbody>\n",
       "</table>\n",
       "</div>"
      ],
      "text/plain": [
       "         시점      전국    수도권    지방권  지방권.1  지방권.2  YEAR\n",
       "0  2011. 01   18500  10895   7605   3172   4433  2011\n",
       "1  2011. 02   37676  21130  16546   4875  11671  2011\n",
       "2  2011. 03   70529  37046  33483  11645  21838  2011\n",
       "3  2011. 04  111685  58130  53555  20449  33106  2011\n",
       "4  2011. 05  144401  74181  70220  26140  44080  2011"
      ]
     },
     "execution_count": 21,
     "metadata": {},
     "output_type": "execute_result"
    }
   ],
   "source": [
    "df['YEAR'] = df['시점'].str[:4] #0,1,2,3\n",
    "df.head()"
   ]
  },
  {
   "cell_type": "code",
   "execution_count": 22,
   "metadata": {
    "ExecuteTime": {
     "end_time": "2021-10-19T05:21:43.837321Z",
     "start_time": "2021-10-19T05:21:43.833320Z"
    }
   },
   "outputs": [],
   "source": [
    "# df['수도권_yearsum'] = df.groupby('YEAR').sum(df['수도권'])\n",
    "# df.head()"
   ]
  },
  {
   "cell_type": "markdown",
   "metadata": {
    "ExecuteTime": {
     "end_time": "2021-10-19T05:18:31.433318Z",
     "start_time": "2021-10-19T05:18:31.422137Z"
    }
   },
   "source": [
    "### 2.5.3 연도별 합계 계산"
   ]
  },
  {
   "cell_type": "code",
   "execution_count": 23,
   "metadata": {
    "ExecuteTime": {
     "end_time": "2021-10-19T05:21:44.369632Z",
     "start_time": "2021-10-19T05:21:44.348632Z"
    }
   },
   "outputs": [
    {
     "data": {
      "text/html": [
       "<div>\n",
       "<style scoped>\n",
       "    .dataframe tbody tr th:only-of-type {\n",
       "        vertical-align: middle;\n",
       "    }\n",
       "\n",
       "    .dataframe tbody tr th {\n",
       "        vertical-align: top;\n",
       "    }\n",
       "\n",
       "    .dataframe thead th {\n",
       "        text-align: right;\n",
       "    }\n",
       "</style>\n",
       "<table border=\"1\" class=\"dataframe\">\n",
       "  <thead>\n",
       "    <tr style=\"text-align: right;\">\n",
       "      <th></th>\n",
       "      <th>전국</th>\n",
       "      <th>수도권</th>\n",
       "      <th>지방권</th>\n",
       "      <th>지방권.1</th>\n",
       "      <th>지방권.2</th>\n",
       "    </tr>\n",
       "    <tr>\n",
       "      <th>YEAR</th>\n",
       "      <th></th>\n",
       "      <th></th>\n",
       "      <th></th>\n",
       "      <th></th>\n",
       "      <th></th>\n",
       "    </tr>\n",
       "  </thead>\n",
       "  <tbody>\n",
       "    <tr>\n",
       "      <th>2011</th>\n",
       "      <td>2637837</td>\n",
       "      <td>1304397</td>\n",
       "      <td>1333440</td>\n",
       "      <td>485473</td>\n",
       "      <td>847967</td>\n",
       "    </tr>\n",
       "    <tr>\n",
       "      <th>2012</th>\n",
       "      <td>3180873</td>\n",
       "      <td>1397361</td>\n",
       "      <td>1783512</td>\n",
       "      <td>546654</td>\n",
       "      <td>1236858</td>\n",
       "    </tr>\n",
       "    <tr>\n",
       "      <th>2013</th>\n",
       "      <td>2433098</td>\n",
       "      <td>1042701</td>\n",
       "      <td>1390397</td>\n",
       "      <td>337863</td>\n",
       "      <td>1052534</td>\n",
       "    </tr>\n",
       "    <tr>\n",
       "      <th>2014</th>\n",
       "      <td>2993175</td>\n",
       "      <td>1310682</td>\n",
       "      <td>1682493</td>\n",
       "      <td>388118</td>\n",
       "      <td>1294375</td>\n",
       "    </tr>\n",
       "    <tr>\n",
       "      <th>2015</th>\n",
       "      <td>4809842</td>\n",
       "      <td>2536972</td>\n",
       "      <td>2272870</td>\n",
       "      <td>555324</td>\n",
       "      <td>1717546</td>\n",
       "    </tr>\n",
       "    <tr>\n",
       "      <th>2016</th>\n",
       "      <td>4507831</td>\n",
       "      <td>2095232</td>\n",
       "      <td>2412599</td>\n",
       "      <td>691732</td>\n",
       "      <td>1720867</td>\n",
       "    </tr>\n",
       "    <tr>\n",
       "      <th>2017</th>\n",
       "      <td>3898770</td>\n",
       "      <td>1805849</td>\n",
       "      <td>2092921</td>\n",
       "      <td>782094</td>\n",
       "      <td>1310827</td>\n",
       "    </tr>\n",
       "    <tr>\n",
       "      <th>2018</th>\n",
       "      <td>3312152</td>\n",
       "      <td>1598766</td>\n",
       "      <td>1713386</td>\n",
       "      <td>651508</td>\n",
       "      <td>1061878</td>\n",
       "    </tr>\n",
       "    <tr>\n",
       "      <th>2019</th>\n",
       "      <td>2889558</td>\n",
       "      <td>1645786</td>\n",
       "      <td>1243772</td>\n",
       "      <td>503796</td>\n",
       "      <td>739976</td>\n",
       "    </tr>\n",
       "    <tr>\n",
       "      <th>2020</th>\n",
       "      <td>2577411</td>\n",
       "      <td>1383239</td>\n",
       "      <td>1194172</td>\n",
       "      <td>489107</td>\n",
       "      <td>705065</td>\n",
       "    </tr>\n",
       "    <tr>\n",
       "      <th>2021</th>\n",
       "      <td>758494</td>\n",
       "      <td>385181</td>\n",
       "      <td>373313</td>\n",
       "      <td>134394</td>\n",
       "      <td>238919</td>\n",
       "    </tr>\n",
       "  </tbody>\n",
       "</table>\n",
       "</div>"
      ],
      "text/plain": [
       "           전국      수도권      지방권   지방권.1    지방권.2\n",
       "YEAR                                            \n",
       "2011  2637837  1304397  1333440  485473   847967\n",
       "2012  3180873  1397361  1783512  546654  1236858\n",
       "2013  2433098  1042701  1390397  337863  1052534\n",
       "2014  2993175  1310682  1682493  388118  1294375\n",
       "2015  4809842  2536972  2272870  555324  1717546\n",
       "2016  4507831  2095232  2412599  691732  1720867\n",
       "2017  3898770  1805849  2092921  782094  1310827\n",
       "2018  3312152  1598766  1713386  651508  1061878\n",
       "2019  2889558  1645786  1243772  503796   739976\n",
       "2020  2577411  1383239  1194172  489107   705065\n",
       "2021   758494   385181   373313  134394   238919"
      ]
     },
     "execution_count": 23,
     "metadata": {},
     "output_type": "execute_result"
    }
   ],
   "source": [
    "df_year = df.groupby(['YEAR']).sum()\n",
    "df_year"
   ]
  },
  {
   "cell_type": "markdown",
   "metadata": {},
   "source": [
    "### 2.5.4  '21년 상반기 전국 <span style=\"color:red\">인허가 물량(호)</span> data 시각화"
   ]
  },
  {
   "cell_type": "code",
   "execution_count": 24,
   "metadata": {
    "ExecuteTime": {
     "end_time": "2021-10-19T05:21:45.334792Z",
     "start_time": "2021-10-19T05:21:45.122257Z"
    },
    "scrolled": true
   },
   "outputs": [
    {
     "data": {
      "image/png": "[encoded data removed]",
      "text/plain": [
       "<Figure size 1440x360 with 1 Axes>"
      ]
     },
     "metadata": {
      "needs_background": "light"
     },
     "output_type": "display_data"
    }
   ],
   "source": [
    "from matplotlib import pyplot as plt\n",
    "import matplotlib.font_manager as fm\n",
    "import numpy as np\n",
    "\n",
    "plt.figure(figsize=(20,5))\n",
    "\n",
    "path = 'C:\\\\Windows\\\\Fonts\\\\NanumSquareRoundB.ttf'\n",
    "font_name = fm.FontProperties(fname=path).get_name()\n",
    "plt.rc('font', family=font_name)\n",
    "\n",
    "down =  df_year.iloc[:,1]# 수도권\n",
    "top =  df_year.iloc[:,2] # 지방권\n",
    "\n",
    "# 패턴 patterns = [ \"/\" , \"\\\\\" , \"|\" , \"-\" , \"+\" , \"x\", \"o\", \"O\", \".\", \"*\" ]\n",
    "plt.bar(df_year.index, down, color='firebrick')#,hatch=\"///\",edgecolor='white')#수도권\n",
    "plt.bar(df_year.index, top, bottom=down, color='midnightblue', hatch=\".\",edgecolor='yellow') #지방권\n",
    "\n",
    "# plt.yticks('0', '1백만', '2백만', '3백만', '4백만', '5백만')\n",
    "# # plt.tick_params(axis='y', direction='out', length=10, pad=15, labelsize=12, width=2, color='r')\n",
    "\n",
    "y = down + top\n",
    "\n",
    "import matplotlib.ticker as mticker\n",
    "\n",
    "# plt.xlim(X.min()*1.1, X.max()*1.1)\n",
    "plt.ylim(0, y.max()*1.1)\n",
    "plt.gca().yaxis.set_major_formatter(mticker.FormatStrFormatter('%i')) #%i 는 int , %f 는 float, %.3f 백만호 : 0.001 백만호\n",
    "plt.grid(True, axis='y', color='gray', alpha=0.5, linestyle='-')\n",
    "\n",
    "plt.legend(['수도권', '지방권'])\n",
    "plt.title('21년 상반기 전국 인허가 물량(호)', fontsize='20')\n",
    "plt.show()"
   ]
  },
  {
   "cell_type": "markdown",
   "metadata": {
    "ExecuteTime": {
     "end_time": "2021-08-30T13:17:03.147225Z",
     "start_time": "2021-08-30T13:17:03.134655Z"
    }
   },
   "source": [
    "---------------------------------------------------------------------------------------------------"
   ]
  },
  {
   "cell_type": "markdown",
   "metadata": {},
   "source": [
    "## 2.6 '21년 상반기 전국 <span style=\"color:red\">분양 물량(호)</span> data 분석"
   ]
  },
  {
   "cell_type": "markdown",
   "metadata": {},
   "source": [
    "### 2.6.1 데이터 불러오기"
   ]
  },
  {
   "cell_type": "code",
   "execution_count": 25,
   "metadata": {
    "ExecuteTime": {
     "end_time": "2021-10-19T05:22:19.021976Z",
     "start_time": "2021-10-19T05:22:19.000853Z"
    }
   },
   "outputs": [
    {
     "data": {
      "text/html": [
       "<div>\n",
       "<style scoped>\n",
       "    .dataframe tbody tr th:only-of-type {\n",
       "        vertical-align: middle;\n",
       "    }\n",
       "\n",
       "    .dataframe tbody tr th {\n",
       "        vertical-align: top;\n",
       "    }\n",
       "\n",
       "    .dataframe thead th {\n",
       "        text-align: right;\n",
       "    }\n",
       "</style>\n",
       "<table border=\"1\" class=\"dataframe\">\n",
       "  <thead>\n",
       "    <tr style=\"text-align: right;\">\n",
       "      <th></th>\n",
       "      <th>시점</th>\n",
       "      <th>전국</th>\n",
       "      <th>수도권</th>\n",
       "      <th>5대광역시 및 세종특별자치시</th>\n",
       "      <th>기타지방</th>\n",
       "    </tr>\n",
       "  </thead>\n",
       "  <tbody>\n",
       "    <tr>\n",
       "      <th>0</th>\n",
       "      <td>2015. 10</td>\n",
       "      <td>65881</td>\n",
       "      <td>35020</td>\n",
       "      <td>7766</td>\n",
       "      <td>23095</td>\n",
       "    </tr>\n",
       "    <tr>\n",
       "      <th>1</th>\n",
       "      <td>2015. 11</td>\n",
       "      <td>51933</td>\n",
       "      <td>26407</td>\n",
       "      <td>8773</td>\n",
       "      <td>16753</td>\n",
       "    </tr>\n",
       "    <tr>\n",
       "      <th>2</th>\n",
       "      <td>2015. 12</td>\n",
       "      <td>20738</td>\n",
       "      <td>6560</td>\n",
       "      <td>3522</td>\n",
       "      <td>10656</td>\n",
       "    </tr>\n",
       "    <tr>\n",
       "      <th>3</th>\n",
       "      <td>2016. 01</td>\n",
       "      <td>11331</td>\n",
       "      <td>482</td>\n",
       "      <td>816</td>\n",
       "      <td>10033</td>\n",
       "    </tr>\n",
       "    <tr>\n",
       "      <th>4</th>\n",
       "      <td>2016. 02</td>\n",
       "      <td>11887</td>\n",
       "      <td>2920</td>\n",
       "      <td>1171</td>\n",
       "      <td>7796</td>\n",
       "    </tr>\n",
       "  </tbody>\n",
       "</table>\n",
       "</div>"
      ],
      "text/plain": [
       "         시점     전국    수도권  5대광역시 및 세종특별자치시   기타지방\n",
       "0  2015. 10  65881  35020             7766  23095\n",
       "1  2015. 11  51933  26407             8773  16753\n",
       "2  2015. 12  20738   6560             3522  10656\n",
       "3  2016. 01  11331    482              816  10033\n",
       "4  2016. 02  11887   2920             1171   7796"
      ]
     },
     "execution_count": 25,
     "metadata": {},
     "output_type": "execute_result"
    }
   ],
   "source": [
    "import pandas as pd\n",
    "\n",
    "df= pd.read_csv(\"./data/지역별_신규_분양세대수_20210830161140.csv\", encoding='cp949')\n",
    "df.head()\n",
    "# skiprows=[i for i in range(1, 4)], index_col='시점')"
   ]
  },
  {
   "cell_type": "markdown",
   "metadata": {},
   "source": [
    "### 2.6.2 데이터 나누기"
   ]
  },
  {
   "cell_type": "code",
   "execution_count": 26,
   "metadata": {
    "ExecuteTime": {
     "end_time": "2021-10-19T05:22:19.474499Z",
     "start_time": "2021-10-19T05:22:19.459498Z"
    }
   },
   "outputs": [
    {
     "data": {
      "text/html": [
       "<div>\n",
       "<style scoped>\n",
       "    .dataframe tbody tr th:only-of-type {\n",
       "        vertical-align: middle;\n",
       "    }\n",
       "\n",
       "    .dataframe tbody tr th {\n",
       "        vertical-align: top;\n",
       "    }\n",
       "\n",
       "    .dataframe thead th {\n",
       "        text-align: right;\n",
       "    }\n",
       "</style>\n",
       "<table border=\"1\" class=\"dataframe\">\n",
       "  <thead>\n",
       "    <tr style=\"text-align: right;\">\n",
       "      <th></th>\n",
       "      <th>시점</th>\n",
       "      <th>전국</th>\n",
       "      <th>수도권</th>\n",
       "      <th>5대광역시 및 세종특별자치시</th>\n",
       "      <th>기타지방</th>\n",
       "      <th>지방권</th>\n",
       "    </tr>\n",
       "  </thead>\n",
       "  <tbody>\n",
       "    <tr>\n",
       "      <th>0</th>\n",
       "      <td>2015. 10</td>\n",
       "      <td>65881</td>\n",
       "      <td>35020</td>\n",
       "      <td>7766</td>\n",
       "      <td>23095</td>\n",
       "      <td>30861</td>\n",
       "    </tr>\n",
       "    <tr>\n",
       "      <th>1</th>\n",
       "      <td>2015. 11</td>\n",
       "      <td>51933</td>\n",
       "      <td>26407</td>\n",
       "      <td>8773</td>\n",
       "      <td>16753</td>\n",
       "      <td>25526</td>\n",
       "    </tr>\n",
       "    <tr>\n",
       "      <th>2</th>\n",
       "      <td>2015. 12</td>\n",
       "      <td>20738</td>\n",
       "      <td>6560</td>\n",
       "      <td>3522</td>\n",
       "      <td>10656</td>\n",
       "      <td>14178</td>\n",
       "    </tr>\n",
       "    <tr>\n",
       "      <th>3</th>\n",
       "      <td>2016. 01</td>\n",
       "      <td>11331</td>\n",
       "      <td>482</td>\n",
       "      <td>816</td>\n",
       "      <td>10033</td>\n",
       "      <td>10849</td>\n",
       "    </tr>\n",
       "    <tr>\n",
       "      <th>4</th>\n",
       "      <td>2016. 02</td>\n",
       "      <td>11887</td>\n",
       "      <td>2920</td>\n",
       "      <td>1171</td>\n",
       "      <td>7796</td>\n",
       "      <td>8967</td>\n",
       "    </tr>\n",
       "  </tbody>\n",
       "</table>\n",
       "</div>"
      ],
      "text/plain": [
       "         시점     전국    수도권  5대광역시 및 세종특별자치시   기타지방    지방권\n",
       "0  2015. 10  65881  35020             7766  23095  30861\n",
       "1  2015. 11  51933  26407             8773  16753  25526\n",
       "2  2015. 12  20738   6560             3522  10656  14178\n",
       "3  2016. 01  11331    482              816  10033  10849\n",
       "4  2016. 02  11887   2920             1171   7796   8967"
      ]
     },
     "execution_count": 26,
     "metadata": {},
     "output_type": "execute_result"
    }
   ],
   "source": [
    "df['지방권'] = df['전국'] - df['수도권']\n",
    "df.head()"
   ]
  },
  {
   "cell_type": "code",
   "execution_count": 27,
   "metadata": {
    "ExecuteTime": {
     "end_time": "2021-10-19T05:22:19.923083Z",
     "start_time": "2021-10-19T05:22:19.899619Z"
    }
   },
   "outputs": [
    {
     "data": {
      "text/html": [
       "<div>\n",
       "<style scoped>\n",
       "    .dataframe tbody tr th:only-of-type {\n",
       "        vertical-align: middle;\n",
       "    }\n",
       "\n",
       "    .dataframe tbody tr th {\n",
       "        vertical-align: top;\n",
       "    }\n",
       "\n",
       "    .dataframe thead th {\n",
       "        text-align: right;\n",
       "    }\n",
       "</style>\n",
       "<table border=\"1\" class=\"dataframe\">\n",
       "  <thead>\n",
       "    <tr style=\"text-align: right;\">\n",
       "      <th></th>\n",
       "      <th>시점</th>\n",
       "      <th>수도권</th>\n",
       "      <th>지방권</th>\n",
       "    </tr>\n",
       "  </thead>\n",
       "  <tbody>\n",
       "    <tr>\n",
       "      <th>0</th>\n",
       "      <td>2015. 10</td>\n",
       "      <td>35020</td>\n",
       "      <td>30861</td>\n",
       "    </tr>\n",
       "    <tr>\n",
       "      <th>1</th>\n",
       "      <td>2015. 11</td>\n",
       "      <td>26407</td>\n",
       "      <td>25526</td>\n",
       "    </tr>\n",
       "    <tr>\n",
       "      <th>2</th>\n",
       "      <td>2015. 12</td>\n",
       "      <td>6560</td>\n",
       "      <td>14178</td>\n",
       "    </tr>\n",
       "    <tr>\n",
       "      <th>3</th>\n",
       "      <td>2016. 01</td>\n",
       "      <td>482</td>\n",
       "      <td>10849</td>\n",
       "    </tr>\n",
       "    <tr>\n",
       "      <th>4</th>\n",
       "      <td>2016. 02</td>\n",
       "      <td>2920</td>\n",
       "      <td>8967</td>\n",
       "    </tr>\n",
       "  </tbody>\n",
       "</table>\n",
       "</div>"
      ],
      "text/plain": [
       "         시점    수도권    지방권\n",
       "0  2015. 10  35020  30861\n",
       "1  2015. 11  26407  25526\n",
       "2  2015. 12   6560  14178\n",
       "3  2016. 01    482  10849\n",
       "4  2016. 02   2920   8967"
      ]
     },
     "execution_count": 27,
     "metadata": {},
     "output_type": "execute_result"
    }
   ],
   "source": [
    "df_presale = df.loc[:,['시점','수도권', '지방권']]\n",
    "df_presale.head()"
   ]
  },
  {
   "cell_type": "markdown",
   "metadata": {},
   "source": [
    "###  2.6.3 행삭제"
   ]
  },
  {
   "cell_type": "code",
   "execution_count": 28,
   "metadata": {
    "ExecuteTime": {
     "end_time": "2021-10-19T05:26:53.685172Z",
     "start_time": "2021-10-19T05:26:53.656105Z"
    }
   },
   "outputs": [
    {
     "data": {
      "text/html": [
       "<div>\n",
       "<style scoped>\n",
       "    .dataframe tbody tr th:only-of-type {\n",
       "        vertical-align: middle;\n",
       "    }\n",
       "\n",
       "    .dataframe tbody tr th {\n",
       "        vertical-align: top;\n",
       "    }\n",
       "\n",
       "    .dataframe thead th {\n",
       "        text-align: right;\n",
       "    }\n",
       "</style>\n",
       "<table border=\"1\" class=\"dataframe\">\n",
       "  <thead>\n",
       "    <tr style=\"text-align: right;\">\n",
       "      <th></th>\n",
       "      <th>시점</th>\n",
       "      <th>수도권</th>\n",
       "      <th>지방권</th>\n",
       "    </tr>\n",
       "  </thead>\n",
       "  <tbody>\n",
       "    <tr>\n",
       "      <th>3</th>\n",
       "      <td>2016. 01</td>\n",
       "      <td>482</td>\n",
       "      <td>10849</td>\n",
       "    </tr>\n",
       "    <tr>\n",
       "      <th>4</th>\n",
       "      <td>2016. 02</td>\n",
       "      <td>2920</td>\n",
       "      <td>8967</td>\n",
       "    </tr>\n",
       "    <tr>\n",
       "      <th>5</th>\n",
       "      <td>2016. 03</td>\n",
       "      <td>13043</td>\n",
       "      <td>11829</td>\n",
       "    </tr>\n",
       "    <tr>\n",
       "      <th>6</th>\n",
       "      <td>2016. 04</td>\n",
       "      <td>9877</td>\n",
       "      <td>21200</td>\n",
       "    </tr>\n",
       "    <tr>\n",
       "      <th>7</th>\n",
       "      <td>2016. 05</td>\n",
       "      <td>19015</td>\n",
       "      <td>19909</td>\n",
       "    </tr>\n",
       "    <tr>\n",
       "      <th>...</th>\n",
       "      <td>...</td>\n",
       "      <td>...</td>\n",
       "      <td>...</td>\n",
       "    </tr>\n",
       "    <tr>\n",
       "      <th>64</th>\n",
       "      <td>2021. 02</td>\n",
       "      <td>7422</td>\n",
       "      <td>7560</td>\n",
       "    </tr>\n",
       "    <tr>\n",
       "      <th>65</th>\n",
       "      <td>2021. 03</td>\n",
       "      <td>3325</td>\n",
       "      <td>17019</td>\n",
       "    </tr>\n",
       "    <tr>\n",
       "      <th>66</th>\n",
       "      <td>2021. 04</td>\n",
       "      <td>7299</td>\n",
       "      <td>9981</td>\n",
       "    </tr>\n",
       "    <tr>\n",
       "      <th>67</th>\n",
       "      <td>2021. 05</td>\n",
       "      <td>5597</td>\n",
       "      <td>7555</td>\n",
       "    </tr>\n",
       "    <tr>\n",
       "      <th>68</th>\n",
       "      <td>2021. 06</td>\n",
       "      <td>8664</td>\n",
       "      <td>13029</td>\n",
       "    </tr>\n",
       "  </tbody>\n",
       "</table>\n",
       "<p>66 rows × 3 columns</p>\n",
       "</div>"
      ],
      "text/plain": [
       "          시점    수도권    지방권\n",
       "3   2016. 01    482  10849\n",
       "4   2016. 02   2920   8967\n",
       "5   2016. 03  13043  11829\n",
       "6   2016. 04   9877  21200\n",
       "7   2016. 05  19015  19909\n",
       "..       ...    ...    ...\n",
       "64  2021. 02   7422   7560\n",
       "65  2021. 03   3325  17019\n",
       "66  2021. 04   7299   9981\n",
       "67  2021. 05   5597   7555\n",
       "68  2021. 06   8664  13029\n",
       "\n",
       "[66 rows x 3 columns]"
      ]
     },
     "execution_count": 28,
     "metadata": {},
     "output_type": "execute_result"
    }
   ],
   "source": [
    "df_presale.drop([0, 1, 2])"
   ]
  },
  {
   "cell_type": "code",
   "execution_count": 29,
   "metadata": {
    "ExecuteTime": {
     "end_time": "2021-10-19T05:26:53.810874Z",
     "start_time": "2021-10-19T05:26:53.800875Z"
    }
   },
   "outputs": [
    {
     "data": {
      "text/html": [
       "<div>\n",
       "<style scoped>\n",
       "    .dataframe tbody tr th:only-of-type {\n",
       "        vertical-align: middle;\n",
       "    }\n",
       "\n",
       "    .dataframe tbody tr th {\n",
       "        vertical-align: top;\n",
       "    }\n",
       "\n",
       "    .dataframe thead th {\n",
       "        text-align: right;\n",
       "    }\n",
       "</style>\n",
       "<table border=\"1\" class=\"dataframe\">\n",
       "  <thead>\n",
       "    <tr style=\"text-align: right;\">\n",
       "      <th></th>\n",
       "      <th>시점</th>\n",
       "      <th>수도권</th>\n",
       "      <th>지방권</th>\n",
       "    </tr>\n",
       "  </thead>\n",
       "  <tbody>\n",
       "    <tr>\n",
       "      <th>0</th>\n",
       "      <td>2015. 10</td>\n",
       "      <td>35020</td>\n",
       "      <td>30861</td>\n",
       "    </tr>\n",
       "    <tr>\n",
       "      <th>1</th>\n",
       "      <td>2015. 11</td>\n",
       "      <td>26407</td>\n",
       "      <td>25526</td>\n",
       "    </tr>\n",
       "    <tr>\n",
       "      <th>2</th>\n",
       "      <td>2015. 12</td>\n",
       "      <td>6560</td>\n",
       "      <td>14178</td>\n",
       "    </tr>\n",
       "    <tr>\n",
       "      <th>3</th>\n",
       "      <td>2016. 01</td>\n",
       "      <td>482</td>\n",
       "      <td>10849</td>\n",
       "    </tr>\n",
       "    <tr>\n",
       "      <th>4</th>\n",
       "      <td>2016. 02</td>\n",
       "      <td>2920</td>\n",
       "      <td>8967</td>\n",
       "    </tr>\n",
       "    <tr>\n",
       "      <th>...</th>\n",
       "      <td>...</td>\n",
       "      <td>...</td>\n",
       "      <td>...</td>\n",
       "    </tr>\n",
       "    <tr>\n",
       "      <th>64</th>\n",
       "      <td>2021. 02</td>\n",
       "      <td>7422</td>\n",
       "      <td>7560</td>\n",
       "    </tr>\n",
       "    <tr>\n",
       "      <th>65</th>\n",
       "      <td>2021. 03</td>\n",
       "      <td>3325</td>\n",
       "      <td>17019</td>\n",
       "    </tr>\n",
       "    <tr>\n",
       "      <th>66</th>\n",
       "      <td>2021. 04</td>\n",
       "      <td>7299</td>\n",
       "      <td>9981</td>\n",
       "    </tr>\n",
       "    <tr>\n",
       "      <th>67</th>\n",
       "      <td>2021. 05</td>\n",
       "      <td>5597</td>\n",
       "      <td>7555</td>\n",
       "    </tr>\n",
       "    <tr>\n",
       "      <th>68</th>\n",
       "      <td>2021. 06</td>\n",
       "      <td>8664</td>\n",
       "      <td>13029</td>\n",
       "    </tr>\n",
       "  </tbody>\n",
       "</table>\n",
       "<p>69 rows × 3 columns</p>\n",
       "</div>"
      ],
      "text/plain": [
       "          시점    수도권    지방권\n",
       "0   2015. 10  35020  30861\n",
       "1   2015. 11  26407  25526\n",
       "2   2015. 12   6560  14178\n",
       "3   2016. 01    482  10849\n",
       "4   2016. 02   2920   8967\n",
       "..       ...    ...    ...\n",
       "64  2021. 02   7422   7560\n",
       "65  2021. 03   3325  17019\n",
       "66  2021. 04   7299   9981\n",
       "67  2021. 05   5597   7555\n",
       "68  2021. 06   8664  13029\n",
       "\n",
       "[69 rows x 3 columns]"
      ]
     },
     "execution_count": 29,
     "metadata": {},
     "output_type": "execute_result"
    }
   ],
   "source": [
    "df_presale"
   ]
  },
  {
   "cell_type": "code",
   "execution_count": 30,
   "metadata": {
    "ExecuteTime": {
     "end_time": "2021-10-19T05:26:53.964347Z",
     "start_time": "2021-10-19T05:26:53.954347Z"
    }
   },
   "outputs": [
    {
     "data": {
      "text/html": [
       "<div>\n",
       "<style scoped>\n",
       "    .dataframe tbody tr th:only-of-type {\n",
       "        vertical-align: middle;\n",
       "    }\n",
       "\n",
       "    .dataframe tbody tr th {\n",
       "        vertical-align: top;\n",
       "    }\n",
       "\n",
       "    .dataframe thead th {\n",
       "        text-align: right;\n",
       "    }\n",
       "</style>\n",
       "<table border=\"1\" class=\"dataframe\">\n",
       "  <thead>\n",
       "    <tr style=\"text-align: right;\">\n",
       "      <th></th>\n",
       "      <th>시점</th>\n",
       "      <th>수도권</th>\n",
       "      <th>지방권</th>\n",
       "    </tr>\n",
       "  </thead>\n",
       "  <tbody>\n",
       "    <tr>\n",
       "      <th>3</th>\n",
       "      <td>2016. 01</td>\n",
       "      <td>482</td>\n",
       "      <td>10849</td>\n",
       "    </tr>\n",
       "    <tr>\n",
       "      <th>4</th>\n",
       "      <td>2016. 02</td>\n",
       "      <td>2920</td>\n",
       "      <td>8967</td>\n",
       "    </tr>\n",
       "    <tr>\n",
       "      <th>5</th>\n",
       "      <td>2016. 03</td>\n",
       "      <td>13043</td>\n",
       "      <td>11829</td>\n",
       "    </tr>\n",
       "    <tr>\n",
       "      <th>6</th>\n",
       "      <td>2016. 04</td>\n",
       "      <td>9877</td>\n",
       "      <td>21200</td>\n",
       "    </tr>\n",
       "    <tr>\n",
       "      <th>7</th>\n",
       "      <td>2016. 05</td>\n",
       "      <td>19015</td>\n",
       "      <td>19909</td>\n",
       "    </tr>\n",
       "    <tr>\n",
       "      <th>...</th>\n",
       "      <td>...</td>\n",
       "      <td>...</td>\n",
       "      <td>...</td>\n",
       "    </tr>\n",
       "    <tr>\n",
       "      <th>64</th>\n",
       "      <td>2021. 02</td>\n",
       "      <td>7422</td>\n",
       "      <td>7560</td>\n",
       "    </tr>\n",
       "    <tr>\n",
       "      <th>65</th>\n",
       "      <td>2021. 03</td>\n",
       "      <td>3325</td>\n",
       "      <td>17019</td>\n",
       "    </tr>\n",
       "    <tr>\n",
       "      <th>66</th>\n",
       "      <td>2021. 04</td>\n",
       "      <td>7299</td>\n",
       "      <td>9981</td>\n",
       "    </tr>\n",
       "    <tr>\n",
       "      <th>67</th>\n",
       "      <td>2021. 05</td>\n",
       "      <td>5597</td>\n",
       "      <td>7555</td>\n",
       "    </tr>\n",
       "    <tr>\n",
       "      <th>68</th>\n",
       "      <td>2021. 06</td>\n",
       "      <td>8664</td>\n",
       "      <td>13029</td>\n",
       "    </tr>\n",
       "  </tbody>\n",
       "</table>\n",
       "<p>66 rows × 3 columns</p>\n",
       "</div>"
      ],
      "text/plain": [
       "          시점    수도권    지방권\n",
       "3   2016. 01    482  10849\n",
       "4   2016. 02   2920   8967\n",
       "5   2016. 03  13043  11829\n",
       "6   2016. 04   9877  21200\n",
       "7   2016. 05  19015  19909\n",
       "..       ...    ...    ...\n",
       "64  2021. 02   7422   7560\n",
       "65  2021. 03   3325  17019\n",
       "66  2021. 04   7299   9981\n",
       "67  2021. 05   5597   7555\n",
       "68  2021. 06   8664  13029\n",
       "\n",
       "[66 rows x 3 columns]"
      ]
     },
     "execution_count": 30,
     "metadata": {},
     "output_type": "execute_result"
    }
   ],
   "source": [
    "df_presale.drop([0, 1, 2], inplace=True)\n",
    "df_presale"
   ]
  },
  {
   "cell_type": "code",
   "execution_count": 31,
   "metadata": {
    "ExecuteTime": {
     "end_time": "2021-10-19T05:26:54.120922Z",
     "start_time": "2021-10-19T05:26:54.098851Z"
    }
   },
   "outputs": [
    {
     "data": {
      "text/html": [
       "<div>\n",
       "<style scoped>\n",
       "    .dataframe tbody tr th:only-of-type {\n",
       "        vertical-align: middle;\n",
       "    }\n",
       "\n",
       "    .dataframe tbody tr th {\n",
       "        vertical-align: top;\n",
       "    }\n",
       "\n",
       "    .dataframe thead th {\n",
       "        text-align: right;\n",
       "    }\n",
       "</style>\n",
       "<table border=\"1\" class=\"dataframe\">\n",
       "  <thead>\n",
       "    <tr style=\"text-align: right;\">\n",
       "      <th></th>\n",
       "      <th>시점</th>\n",
       "      <th>수도권</th>\n",
       "      <th>지방권</th>\n",
       "    </tr>\n",
       "  </thead>\n",
       "  <tbody>\n",
       "    <tr>\n",
       "      <th>0</th>\n",
       "      <td>2016. 01</td>\n",
       "      <td>482</td>\n",
       "      <td>10849</td>\n",
       "    </tr>\n",
       "    <tr>\n",
       "      <th>1</th>\n",
       "      <td>2016. 02</td>\n",
       "      <td>2920</td>\n",
       "      <td>8967</td>\n",
       "    </tr>\n",
       "    <tr>\n",
       "      <th>2</th>\n",
       "      <td>2016. 03</td>\n",
       "      <td>13043</td>\n",
       "      <td>11829</td>\n",
       "    </tr>\n",
       "    <tr>\n",
       "      <th>3</th>\n",
       "      <td>2016. 04</td>\n",
       "      <td>9877</td>\n",
       "      <td>21200</td>\n",
       "    </tr>\n",
       "    <tr>\n",
       "      <th>4</th>\n",
       "      <td>2016. 05</td>\n",
       "      <td>19015</td>\n",
       "      <td>19909</td>\n",
       "    </tr>\n",
       "    <tr>\n",
       "      <th>...</th>\n",
       "      <td>...</td>\n",
       "      <td>...</td>\n",
       "      <td>...</td>\n",
       "    </tr>\n",
       "    <tr>\n",
       "      <th>61</th>\n",
       "      <td>2021. 02</td>\n",
       "      <td>7422</td>\n",
       "      <td>7560</td>\n",
       "    </tr>\n",
       "    <tr>\n",
       "      <th>62</th>\n",
       "      <td>2021. 03</td>\n",
       "      <td>3325</td>\n",
       "      <td>17019</td>\n",
       "    </tr>\n",
       "    <tr>\n",
       "      <th>63</th>\n",
       "      <td>2021. 04</td>\n",
       "      <td>7299</td>\n",
       "      <td>9981</td>\n",
       "    </tr>\n",
       "    <tr>\n",
       "      <th>64</th>\n",
       "      <td>2021. 05</td>\n",
       "      <td>5597</td>\n",
       "      <td>7555</td>\n",
       "    </tr>\n",
       "    <tr>\n",
       "      <th>65</th>\n",
       "      <td>2021. 06</td>\n",
       "      <td>8664</td>\n",
       "      <td>13029</td>\n",
       "    </tr>\n",
       "  </tbody>\n",
       "</table>\n",
       "<p>66 rows × 3 columns</p>\n",
       "</div>"
      ],
      "text/plain": [
       "          시점    수도권    지방권\n",
       "0   2016. 01    482  10849\n",
       "1   2016. 02   2920   8967\n",
       "2   2016. 03  13043  11829\n",
       "3   2016. 04   9877  21200\n",
       "4   2016. 05  19015  19909\n",
       "..       ...    ...    ...\n",
       "61  2021. 02   7422   7560\n",
       "62  2021. 03   3325  17019\n",
       "63  2021. 04   7299   9981\n",
       "64  2021. 05   5597   7555\n",
       "65  2021. 06   8664  13029\n",
       "\n",
       "[66 rows x 3 columns]"
      ]
     },
     "execution_count": 31,
     "metadata": {},
     "output_type": "execute_result"
    }
   ],
   "source": [
    "df_presale.reset_index(drop=True, inplace=True)\n",
    "df_presale"
   ]
  },
  {
   "cell_type": "code",
   "execution_count": 32,
   "metadata": {
    "ExecuteTime": {
     "end_time": "2021-10-19T05:26:54.977139Z",
     "start_time": "2021-10-19T05:26:54.969097Z"
    }
   },
   "outputs": [
    {
     "data": {
      "text/html": [
       "<div>\n",
       "<style scoped>\n",
       "    .dataframe tbody tr th:only-of-type {\n",
       "        vertical-align: middle;\n",
       "    }\n",
       "\n",
       "    .dataframe tbody tr th {\n",
       "        vertical-align: top;\n",
       "    }\n",
       "\n",
       "    .dataframe thead th {\n",
       "        text-align: right;\n",
       "    }\n",
       "</style>\n",
       "<table border=\"1\" class=\"dataframe\">\n",
       "  <thead>\n",
       "    <tr style=\"text-align: right;\">\n",
       "      <th></th>\n",
       "      <th>시점</th>\n",
       "      <th>수도권</th>\n",
       "      <th>지방권</th>\n",
       "      <th>YEAR</th>\n",
       "    </tr>\n",
       "  </thead>\n",
       "  <tbody>\n",
       "    <tr>\n",
       "      <th>0</th>\n",
       "      <td>2016. 01</td>\n",
       "      <td>482</td>\n",
       "      <td>10849</td>\n",
       "      <td>2016</td>\n",
       "    </tr>\n",
       "    <tr>\n",
       "      <th>1</th>\n",
       "      <td>2016. 02</td>\n",
       "      <td>2920</td>\n",
       "      <td>8967</td>\n",
       "      <td>2016</td>\n",
       "    </tr>\n",
       "    <tr>\n",
       "      <th>2</th>\n",
       "      <td>2016. 03</td>\n",
       "      <td>13043</td>\n",
       "      <td>11829</td>\n",
       "      <td>2016</td>\n",
       "    </tr>\n",
       "    <tr>\n",
       "      <th>3</th>\n",
       "      <td>2016. 04</td>\n",
       "      <td>9877</td>\n",
       "      <td>21200</td>\n",
       "      <td>2016</td>\n",
       "    </tr>\n",
       "    <tr>\n",
       "      <th>4</th>\n",
       "      <td>2016. 05</td>\n",
       "      <td>19015</td>\n",
       "      <td>19909</td>\n",
       "      <td>2016</td>\n",
       "    </tr>\n",
       "  </tbody>\n",
       "</table>\n",
       "</div>"
      ],
      "text/plain": [
       "         시점    수도권    지방권  YEAR\n",
       "0  2016. 01    482  10849  2016\n",
       "1  2016. 02   2920   8967  2016\n",
       "2  2016. 03  13043  11829  2016\n",
       "3  2016. 04   9877  21200  2016\n",
       "4  2016. 05  19015  19909  2016"
      ]
     },
     "execution_count": 32,
     "metadata": {},
     "output_type": "execute_result"
    }
   ],
   "source": [
    "df_presale['YEAR'] = df_presale['시점'].str[:4]\n",
    "df_presale.head()"
   ]
  },
  {
   "cell_type": "code",
   "execution_count": 33,
   "metadata": {
    "ExecuteTime": {
     "end_time": "2021-10-19T05:26:56.853443Z",
     "start_time": "2021-10-19T05:26:56.737223Z"
    }
   },
   "outputs": [
    {
     "data": {
      "text/html": [
       "<div>\n",
       "<style scoped>\n",
       "    .dataframe tbody tr th:only-of-type {\n",
       "        vertical-align: middle;\n",
       "    }\n",
       "\n",
       "    .dataframe tbody tr th {\n",
       "        vertical-align: top;\n",
       "    }\n",
       "\n",
       "    .dataframe thead th {\n",
       "        text-align: right;\n",
       "    }\n",
       "</style>\n",
       "<table border=\"1\" class=\"dataframe\">\n",
       "  <thead>\n",
       "    <tr style=\"text-align: right;\">\n",
       "      <th></th>\n",
       "      <th>수도권</th>\n",
       "      <th>지방권</th>\n",
       "    </tr>\n",
       "    <tr>\n",
       "      <th>YEAR</th>\n",
       "      <th></th>\n",
       "      <th></th>\n",
       "    </tr>\n",
       "  </thead>\n",
       "  <tbody>\n",
       "    <tr>\n",
       "      <th>2016</th>\n",
       "      <td>145331</td>\n",
       "      <td>168269</td>\n",
       "    </tr>\n",
       "    <tr>\n",
       "      <th>2017</th>\n",
       "      <td>82603</td>\n",
       "      <td>99047</td>\n",
       "    </tr>\n",
       "    <tr>\n",
       "      <th>2018</th>\n",
       "      <td>78454</td>\n",
       "      <td>79030</td>\n",
       "    </tr>\n",
       "    <tr>\n",
       "      <th>2019</th>\n",
       "      <td>86097</td>\n",
       "      <td>86562</td>\n",
       "    </tr>\n",
       "    <tr>\n",
       "      <th>2020</th>\n",
       "      <td>112992</td>\n",
       "      <td>113094</td>\n",
       "    </tr>\n",
       "    <tr>\n",
       "      <th>2021</th>\n",
       "      <td>37792</td>\n",
       "      <td>57882</td>\n",
       "    </tr>\n",
       "  </tbody>\n",
       "</table>\n",
       "</div>"
      ],
      "text/plain": [
       "         수도권     지방권\n",
       "YEAR                \n",
       "2016  145331  168269\n",
       "2017   82603   99047\n",
       "2018   78454   79030\n",
       "2019   86097   86562\n",
       "2020  112992  113094\n",
       "2021   37792   57882"
      ]
     },
     "execution_count": 33,
     "metadata": {},
     "output_type": "execute_result"
    }
   ],
   "source": [
    "df_presale = df_presale.groupby(['YEAR']).sum()\n",
    "df_presale"
   ]
  },
  {
   "cell_type": "markdown",
   "metadata": {},
   "source": [
    "## 2.7 '21년 상반기 전국 분양 물량(호) data 시각화"
   ]
  },
  {
   "cell_type": "code",
   "execution_count": 26,
   "metadata": {
    "ExecuteTime": {
     "end_time": "2021-08-30T13:17:03.713696Z",
     "start_time": "2021-08-30T13:17:03.429407Z"
    }
   },
   "outputs": [
    {
     "data": {
      "image/png": "[encoded data removed]",
      "text/plain": [
       "<Figure size 1440x360 with 1 Axes>"
      ]
     },
     "metadata": {
      "needs_background": "light"
     },
     "output_type": "display_data"
    }
   ],
   "source": [
    "from matplotlib import pyplot as plt\n",
    "import matplotlib.font_manager as fm\n",
    "import numpy as np\n",
    "\n",
    "plt.figure(figsize=(20,5))\n",
    "\n",
    "path = 'C:\\\\Windows\\\\Fonts\\\\NanumSquareRoundB.ttf'\n",
    "font_name = fm.FontProperties(fname=path).get_name()\n",
    "plt.rc('font', family=font_name)\n",
    "\n",
    "down =  df_presale.iloc[:,0] #수도권\n",
    "top =  df_presale.iloc[:,1] #지방권\n",
    "\n",
    "plt.bar(df_presale.index, down, color='firebrick')#수도권\n",
    "plt.bar(df_presale.index, top, bottom=down, color='midnightblue', hatch=\"..\",edgecolor='white') #지방권\n",
    "\n",
    "import matplotlib.ticker as mticker\n",
    "y = down + top\n",
    "plt.ylim(0, y.max()*1.1)\n",
    "plt.gca().yaxis.set_major_formatter(mticker.FormatStrFormatter('%i')) #%i 는 int , %f 는 float, %.3f : 0.001\n",
    "\n",
    "plt.grid(True, axis='y', color='gray', alpha=0.5, linestyle='-')\n",
    "\n",
    "plt.legend(['수도권', '지방권'])\n",
    "plt.title('21년 상반기 전국 분양 물량(호)', fontsize='20')\n",
    "plt.show()"
   ]
  },
  {
   "cell_type": "markdown",
   "metadata": {},
   "source": [
    "## 2.8 인허가, 분양 그래프 동시 시각화\n",
    "### 2.8.1 subplot \n",
    "1행 2열에 나타내기"
   ]
  },
  {
   "cell_type": "code",
   "execution_count": 27,
   "metadata": {
    "ExecuteTime": {
     "end_time": "2021-08-30T13:17:04.248945Z",
     "start_time": "2021-08-30T13:17:03.715203Z"
    }
   },
   "outputs": [
    {
     "data": {
      "image/png": "[encoded data removed]",
      "text/plain": [
       "<Figure size 1440x576 with 2 Axes>"
      ]
     },
     "metadata": {
      "needs_background": "light"
     },
     "output_type": "display_data"
    }
   ],
   "source": [
    "# 한글폰트 설정\n",
    "path = 'C:\\\\Windows\\\\Fonts\\\\NanumSquareRoundB.ttf'\n",
    "font_name = fm.FontProperties(fname=path).get_name()\n",
    "plt.rc('font', family=font_name)\n",
    "plt.figure(figsize=(20, 8))\n",
    "\n",
    "# First Subplota\n",
    "plt.subplot(1, 2, 1) #1행 2열. 중에 첫번째(1)\n",
    "plt.title('21년 상반기 전국 인허가 물량(호)', fontsize='20')\n",
    "\n",
    "down =  df_year.iloc[:,1]\n",
    "top =  df_year.iloc[:,2]\n",
    "\n",
    "plt.bar(df_year.index, down, color='royalblue',hatch=\"//\",edgecolor='lavender')#수도권\n",
    "plt.bar(df_year.index, top, bottom=down, color='midnightblue', hatch=\"..\",edgecolor='white') #지방권\n",
    "\n",
    "y = down + top\n",
    "plt.ylim(0, y.max()*1.1)\n",
    "\n",
    "plt.gca().yaxis.set_major_formatter(mticker.FormatStrFormatter('%i')) #%i 는 int , %f 는 float, %.3f 백만호 : 0.001 백만호\n",
    "plt.grid(True, axis='y', color='gray', alpha=0.5, linestyle='-')\n",
    "\n",
    "plt.legend(['수도권', '지방권'])\n",
    "# plt.show()\n",
    "\n",
    "\n",
    "# Second Subplot\n",
    "plt.subplot(1, 2, 2)\n",
    "# plt.figure(figsize=(8,8))\n",
    "plt.title('21년 상반기 전국 분양 물량(호)', fontsize='20')\n",
    "\n",
    "down =  df_presale.iloc[:,0]\n",
    "top =  df_presale.iloc[:,1]\n",
    "\n",
    "plt.bar(df_presale.index, down, color='royalblue',hatch=\"//\",edgecolor='lavender')#수도권\n",
    "plt.bar(df_presale.index, top, bottom=down, color='midnightblue', hatch=\"..\",edgecolor='white') #지방권\n",
    "\n",
    "y = down + top\n",
    "plt.ylim(0, y.max()*1.1)\n",
    "\n",
    "plt.gca().yaxis.set_major_formatter(mticker.FormatStrFormatter('%i')) #%i 는 int , %f 는 float, %.3f 백만호 : 0.001 백만호\n",
    "plt.grid(True, axis='y', color='gray', alpha=0.5, linestyle='-')\n",
    "\n",
    "plt.legend(['수도권', '지방권'])\n",
    "\n",
    "\n",
    "# Display both subplots\n",
    "plt.subplots_adjust(wspace=0.2)\n",
    "\n",
    "plt.show()"
   ]
  }
 ],
 "metadata": {
  "kernelspec": {
   "display_name": "Python 3 (ipykernel)",
   "language": "python",
   "name": "python3"
  },
  "language_info": {
   "codemirror_mode": {
    "name": "ipython",
    "version": 3
   },
   "file_extension": ".py",
   "mimetype": "text/x-python",
   "name": "python",
   "nbconvert_exporter": "python",
   "pygments_lexer": "ipython3",
   "version": "3.9.7"
  },
  "latex_envs": {
   "LaTeX_envs_menu_present": true,
   "autoclose": false,
   "autocomplete": true,
   "bibliofile": "biblio.bib",
   "cite_by": "apalike",
   "current_citInitial": 1,
   "eqLabelWithNumbers": true,
   "eqNumInitial": 1,
   "hotkeys": {
    "equation": "Ctrl-E",
    "itemize": "Ctrl-I"
   },
   "labels_anchors": false,
   "latex_user_defs": false,
   "report_style_numbering": false,
   "user_envs_cfg": false
  },
  "toc": {
   "base_numbering": 1,
   "nav_menu": {},
   "number_sections": true,
   "sideBar": true,
   "skip_h1_title": false,
   "title_cell": "Table of Contents",
   "title_sidebar": "Contents",
   "toc_cell": false,
   "toc_position": {},
   "toc_section_display": true,
   "toc_window_display": false
  }
 },
 "nbformat": 4,
 "nbformat_minor": 4
}
